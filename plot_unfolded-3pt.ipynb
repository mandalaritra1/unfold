{
 "cells": [
  {
   "cell_type": "code",
   "execution_count": 48,
   "id": "99d391cf-7c8c-415c-8893-42c2d30885ea",
   "metadata": {},
   "outputs": [],
   "source": [
    "from unfold_utils.plot_tools import AsymmetricErrorPlot"
   ]
  },
  {
   "cell_type": "code",
   "execution_count": 49,
   "id": "a10e277b-b269-45c2-9325-09c7472bb7a7",
   "metadata": {},
   "outputs": [],
   "source": [
    "import pickle as pkl\n",
    "import numpy as np\n",
    "import matplotlib.pyplot as plt\n",
    "import hist\n",
    "import mplhep as hep"
   ]
  },
  {
   "cell_type": "code",
   "execution_count": 50,
   "id": "8e4dbf46-2a20-4bec-aa08-193418994363",
   "metadata": {},
   "outputs": [
    {
     "name": "stdout",
     "output_type": "stream",
     "text": [
      "The autoreload extension is already loaded. To reload it, use:\n",
      "  %reload_ext autoreload\n"
     ]
    }
   ],
   "source": [
    "%load_ext autoreload\n",
    "\n",
    "%autoreload 2"
   ]
  },
  {
   "cell_type": "code",
   "execution_count": 72,
   "id": "c229407f-2dbe-4c5b-8356-b37da80a559b",
   "metadata": {},
   "outputs": [],
   "source": [
    "title_list = [ r\"$p_T$ 200-290 GeV\",  r\"$p_T$ 290-400 GeV\",  r\"$p_T$ 400-$\\infty$ GeV\",  r\"$p_T$ 480-$\\infty$ GeV\"]\n",
    "color_pt = [\"#1f77b4\", \"#d62728\", \"#2ca02c\", \"#ff7f0e\"]\n",
    "groomed = 0"
   ]
  },
  {
   "cell_type": "code",
   "execution_count": 73,
   "id": "323b08bd-fbc4-455e-9762-857e5a333e02",
   "metadata": {},
   "outputs": [],
   "source": [
    "if not groomed:\n",
    "    with open(\"total_sys_pt_dic_ungroomed.pkl\", \"rb\") as f:\n",
    "        total_sys_pt_dic = pkl.load(f)\n",
    "\n",
    "    with open(\"total_sys_down_pt_dic_ungroomed.pkl\", \"rb\") as f:\n",
    "        total_sys_down_pt_dic = pkl.load(f)\n",
    "    with open(\"unfolded_result_ungroomed.pkl\", \"rb\") as f:\n",
    "        unfolded_result = pkl.load(f)\n",
    "    \n",
    "    with open(\"total_stat_ungroomed.pkl\", \"rb\") as f:\n",
    "        stat_mat = pkl.load(f)\n",
    "    \n",
    "    with open(\"pythia_gen_ungroomed.pkl\", \"rb\") as f:\n",
    "        pythia = pkl.load( f)\n",
    "else:\n",
    "    with open(\"total_sys_pt_dic_groomed.pkl\", \"rb\") as f:\n",
    "        total_sys_pt_dic = pkl.load(f)\n",
    "    with open(\"total_sys_down_pt_dic_groomed.pkl\", \"rb\") as f:\n",
    "        total_sys_down_pt_dic = pkl.load(f)\n",
    "    with open(\"unfolded_result_groomed.pkl\", \"rb\") as f:\n",
    "        unfolded_result = pkl.load(f)\n",
    "    \n",
    "    with open(\"total_stat_groomed.pkl\", \"rb\") as f:\n",
    "        stat_mat = pkl.load(f)\n",
    "    \n",
    "    with open(\"pythia_gen_groomed.pkl\", \"rb\") as f:\n",
    "        pythia = pkl.load( f)"
   ]
  },
  {
   "cell_type": "code",
   "execution_count": 74,
   "id": "88373ecd-6ea0-4077-95ea-eca71a329fa5",
   "metadata": {},
   "outputs": [],
   "source": [
    "with open(\"total_stat_ungroomed.pkl\", \"rb\") as f:\n",
    "        stat_mat = pkl.load(f)\n",
    "\n",
    "with open(\"total_stat_groomed.pkl\", \"rb\") as f:\n",
    "        stat_mat = pkl.load(f)"
   ]
  },
  {
   "cell_type": "code",
   "execution_count": 75,
   "id": "b54191b3-7a38-4801-9202-8186167a0581",
   "metadata": {},
   "outputs": [
    {
     "data": {
      "text/plain": [
       "array([ 149.12514733,  195.87298771,  115.63721805,  172.25046912,\n",
       "        219.66035502,  310.58841856,  487.75037255,  198.50879943,\n",
       "         94.20386257,   41.258773  , 1436.4035937 ,  136.69145632,\n",
       "        115.54240859,   70.8474382 ,   81.51092026,   93.80519066,\n",
       "        143.95897113,  190.36073972,   97.25647472,   44.91086862,\n",
       "         41.44275213,   50.60104591,   61.41655682,   66.84635523,\n",
       "         38.31911087,   24.32471715,   25.68805084,   30.46685348,\n",
       "         26.99386954,   28.57220822,   48.61911996,   41.78701536,\n",
       "         45.30444371])"
      ]
     },
     "execution_count": 75,
     "metadata": {},
     "output_type": "execute_result"
    }
   ],
   "source": [
    "np.array(list(stat_mat.values())).flatten()"
   ]
  },
  {
   "cell_type": "code",
   "execution_count": 76,
   "id": "970c42ba-1326-4205-89ba-b710867a8cd3",
   "metadata": {},
   "outputs": [],
   "source": [
    "if not groomed:\n",
    "    edges_gen = np.array([0,  20, 40, 60, 80, 100,\n",
    "                          120, 140, 160, 200, 13000])\n",
    "else:\n",
    "    edges_gen = np.array([0, 10, 20, 40, 60, 80, 100,\n",
    "                          120, 140, 160, 200, 13000])\n",
    "\n",
    "# Compute bin widths\n",
    "widths_gen = np.diff(edges_gen)\n",
    "\n",
    "# Compute bin centers\n",
    "centres_gen = (edges_gen[:-1] + edges_gen[1:]) / 2"
   ]
  },
  {
   "cell_type": "code",
   "execution_count": 77,
   "id": "e031c3f1-b68a-448a-894a-33033e775aab",
   "metadata": {},
   "outputs": [],
   "source": [
    "if groomed:\n",
    "    edges_gen_3 = np.array([0, 10, 20, 40, 80, \n",
    "                              120, 140, 160, 200, 13000])\n",
    "    \n",
    "    # Compute bin widths\n",
    "    widths_gen_3 = np.diff(edges_gen_3)\n",
    "    \n",
    "    # Compute bin centers\n",
    "    centres_gen_3 = (edges_gen_3[:-1] + edges_gen_3[1:]) / 2\n",
    "else:\n",
    "    edges_gen_3 = np.array([  20, 60, 80, \n",
    "                              120, 140, 160, 200, 13000])\n",
    "    \n",
    "    # Compute bin widths\n",
    "    widths_gen_3 = np.diff(edges_gen_3)\n",
    "    \n",
    "    # Compute bin centers\n",
    "    centres_gen_3 = (edges_gen_3[:-1] + edges_gen_3[1:]) / 2"
   ]
  },
  {
   "cell_type": "code",
   "execution_count": 78,
   "id": "0488a4a8-ca0c-45bd-a2bb-25425bcfbf3b",
   "metadata": {},
   "outputs": [],
   "source": [
    "x_data = [20, 40, 60, 80]\n",
    "y_data = [100, 110, 120, 130]\n",
    "y2_data = [101+20, 111+20, 121+20, 129+20]\n",
    "x_widths = [20, 20, 20, 20]\n",
    "stat_unc_up = [5, 5, 5, 5]\n",
    "stat_unc_down = stat_unc_up\n",
    "up = [10, 10, 10 , 10]\n",
    "down = [10, 10, 10, 10]"
   ]
  },
  {
   "cell_type": "code",
   "execution_count": 79,
   "id": "ef4ea13e-6d8e-4f5a-ae8e-a9775a11b9f5",
   "metadata": {},
   "outputs": [
    {
     "name": "stdout",
     "output_type": "stream",
     "text": [
      "4\n",
      "4\n"
     ]
    }
   ],
   "source": [
    "plotter = AsymmetricErrorPlot()\n",
    "plotter.add_data_points(x_data=x_data , y_data=y_data, y2_data=y2_data, x_widths=x_widths, y3_data = None)\n",
    "plotter.add_stat_unc(stat_unc_up, stat_unc_down)\n",
    "plotter.add_syst_unc(up, down)"
   ]
  },
  {
   "cell_type": "code",
   "execution_count": 80,
   "id": "0c185155-25dd-4793-bf68-53eb6de9a681",
   "metadata": {},
   "outputs": [
    {
     "ename": "ValueError",
     "evalue": "operands could not be broadcast together with shapes (10,) (11,) ",
     "output_type": "error",
     "traceback": [
      "\u001b[31m---------------------------------------------------------------------------\u001b[39m",
      "\u001b[31mValueError\u001b[39m                                Traceback (most recent call last)",
      "\u001b[36mCell\u001b[39m\u001b[36m \u001b[39m\u001b[32mIn[80]\u001b[39m\u001b[32m, line 4\u001b[39m\n\u001b[32m      2\u001b[39m total_unc_down = {}\n\u001b[32m      3\u001b[39m \u001b[38;5;28;01mfor\u001b[39;00m ipt \u001b[38;5;129;01min\u001b[39;00m \u001b[38;5;28mrange\u001b[39m(\u001b[32m3\u001b[39m):\n\u001b[32m----> \u001b[39m\u001b[32m4\u001b[39m     total_unc_up[ipt] =  np.sqrt(\u001b[43mtotal_sys_pt_dic\u001b[49m\u001b[43m[\u001b[49m\u001b[43mipt\u001b[49m\u001b[43m]\u001b[49m\u001b[43m*\u001b[49m\u001b[43m*\u001b[49m\u001b[32;43m2\u001b[39;49m\u001b[43m \u001b[49m\u001b[43m+\u001b[49m\u001b[43m \u001b[49m\u001b[43mstat_mat\u001b[49m\u001b[43m[\u001b[49m\u001b[43mipt\u001b[49m\u001b[43m]\u001b[49m\u001b[43m*\u001b[49m\u001b[43m*\u001b[49m\u001b[32;43m2\u001b[39;49m)\n\u001b[32m      5\u001b[39m     total_unc_down[ipt] =  np.sqrt(total_sys_down_pt_dic[ipt]**\u001b[32m2\u001b[39m + stat_mat[ipt]**\u001b[32m2\u001b[39m)\n",
      "\u001b[31mValueError\u001b[39m: operands could not be broadcast together with shapes (10,) (11,) "
     ]
    }
   ],
   "source": [
    "total_unc_up = {}\n",
    "total_unc_down = {}\n",
    "for ipt in range(3):\n",
    "    total_unc_up[ipt] =  np.sqrt(total_sys_pt_dic[ipt]**2 + stat_mat[ipt]**2)\n",
    "    total_unc_down[ipt] =  np.sqrt(total_sys_down_pt_dic[ipt]**2 + stat_mat[ipt]**2)"
   ]
  },
  {
   "cell_type": "code",
   "execution_count": 81,
   "id": "079c2d50-2369-4c04-8169-f790458f30b6",
   "metadata": {},
   "outputs": [
    {
     "ename": "ValueError",
     "evalue": "operands could not be broadcast together with shapes (11,) (10,) ",
     "output_type": "error",
     "traceback": [
      "\u001b[31m---------------------------------------------------------------------------\u001b[39m",
      "\u001b[31mValueError\u001b[39m                                Traceback (most recent call last)",
      "\u001b[36mCell\u001b[39m\u001b[36m \u001b[39m\u001b[32mIn[81]\u001b[39m\u001b[32m, line 9\u001b[39m\n\u001b[32m      7\u001b[39m y2_data = unfolded_result[ipt]/widths_gen/sum_i\n\u001b[32m      8\u001b[39m x_widths = widths_gen\n\u001b[32m----> \u001b[39m\u001b[32m9\u001b[39m stat_unc_up = \u001b[43mstat_mat\u001b[49m\u001b[43m[\u001b[49m\u001b[43mipt\u001b[49m\u001b[43m]\u001b[49m\u001b[43m/\u001b[49m\u001b[43mwidths_gen\u001b[49m/sum_i\n\u001b[32m     10\u001b[39m stat_unc_down = stat_mat[ipt]/widths_gen/sum_i\n\u001b[32m     11\u001b[39m up =total_unc_up[ipt]/widths_gen/sum_i\n",
      "\u001b[31mValueError\u001b[39m: operands could not be broadcast together with shapes (11,) (10,) "
     ]
    }
   ],
   "source": [
    "\n",
    "data_list = []\n",
    "for ipt in range(3):\n",
    "    \n",
    "    x_data = centres_gen\n",
    "    sum_i = unfolded_result[ipt].sum()\n",
    "    y_data = pythia[ipt]/widths_gen/pythia[ipt].sum()\n",
    "    y2_data = unfolded_result[ipt]/widths_gen/sum_i\n",
    "    x_widths = widths_gen\n",
    "    stat_unc_up = stat_mat[ipt]/widths_gen/sum_i\n",
    "    stat_unc_down = stat_mat[ipt]/widths_gen/sum_i\n",
    "    up =total_unc_up[ipt]/widths_gen/sum_i\n",
    "    down = total_unc_down[ipt]/widths_gen/sum_i\n",
    "\n",
    "    plotter = AsymmetricErrorPlot()\n",
    "    plotter.add_data_points(x_data=x_data , y_data=y_data, y2_data=y2_data, x_widths=x_widths, y3_data = None)\n",
    "    plotter.add_stat_unc(stat_unc_up, stat_unc_down)\n",
    "    plotter.add_syst_unc(up, down)\n",
    "    if groomed:\n",
    "        custom_text = 'Groomed'\n",
    "        xlabel = \"Groomed Jet Mass $m_{g}$ (GeV)\"\n",
    "        ylabel=r'$\\frac{1}{d\\sigma/dp_{T}} \\, \\frac{d^2 \\sigma}{dm_{g} \\, dp_{T}}$ (1/GeV)'\n",
    "    else:\n",
    "        custom_text  = 'Ungroomed'\n",
    "        xlabel = \"Ungroomed Jet Mass $m_{u}$ (GeV)\"\n",
    "        ylabel=r'$\\frac{1}{d\\sigma/dp_{T}} \\, \\frac{d^2 \\sigma}{dm_{u} \\, dp_{T}} (1/GeV)$'\n",
    "        \n",
    "    ax1, ax2, fig = plotter.plot(ylabel=ylabel, xlabel = xlabel ,custom_text=custom_text,pt_text= title_list[ipt])\n",
    "    if not groomed:\n",
    "        ax1.set_xlim(20,240)\n",
    "        #ax1.set_ylim(0,240)\n",
    "        ax2.set_ylim(0,2)\n",
    "        fig.savefig(f'plots/results/ungroomed_{ipt}.pdf')\n",
    "\n",
    "    else:\n",
    "        ax1.set_xlim(10,240)\n",
    "        ax1.set_ylim(0,0.02)\n",
    "        ax2.set_ylim(0,2)\n",
    "        fig.savefig(f'plots/results/groomed_{ipt}.pdf')\n",
    "    edges_gen[-1] = 240\n",
    "    data_list.append([edges_gen, y2_data, stat_unc_up, up, down, y_data])"
   ]
  },
  {
   "cell_type": "code",
   "execution_count": 70,
   "id": "8ca5394b-4a2a-4e84-b49d-35265994fce1",
   "metadata": {},
   "outputs": [
    {
     "ename": "ValueError",
     "evalue": "operands could not be broadcast together with shapes (11,) (9,) ",
     "output_type": "error",
     "traceback": [
      "\u001b[31m---------------------------------------------------------------------------\u001b[39m",
      "\u001b[31mValueError\u001b[39m                                Traceback (most recent call last)",
      "\u001b[36mCell\u001b[39m\u001b[36m \u001b[39m\u001b[32mIn[70]\u001b[39m\u001b[32m, line 4\u001b[39m\n\u001b[32m      2\u001b[39m sum_i = unfolded_result[ipt].sum()\n\u001b[32m      3\u001b[39m x_data = centres_gen_3\n\u001b[32m----> \u001b[39m\u001b[32m4\u001b[39m y_data = \u001b[43mpythia\u001b[49m\u001b[43m[\u001b[49m\u001b[43mipt\u001b[49m\u001b[43m]\u001b[49m\u001b[43m/\u001b[49m\u001b[43mwidths_gen_3\u001b[49m/pythia[ipt].sum()\n\u001b[32m      5\u001b[39m y2_data = unfolded_result[ipt]/widths_gen_3/sum_i\n\u001b[32m      6\u001b[39m x_widths = widths_gen_3\n",
      "\u001b[31mValueError\u001b[39m: operands could not be broadcast together with shapes (11,) (9,) "
     ]
    }
   ],
   "source": [
    "\n",
    "ipt = 3\n",
    "sum_i = unfolded_result[ipt].sum()\n",
    "x_data = centres_gen_3\n",
    "y_data = pythia[ipt]/widths_gen_3/pythia[ipt].sum()\n",
    "y2_data = unfolded_result[ipt]/widths_gen_3/sum_i\n",
    "x_widths = widths_gen_3\n",
    "stat_unc_up = stat_mat[ipt]/widths_gen_3/sum_i\n",
    "stat_unc_down = stat_mat[ipt]/widths_gen_3/sum_i\n",
    "up = total_unc_up[ipt]/widths_gen_3/sum_i\n",
    "down =  total_unc_down[ipt]/widths_gen_3/sum_i\n",
    "\n",
    "plotter = AsymmetricErrorPlot()\n",
    "plotter.add_data_points(x_data=x_data , y_data=y_data, y2_data=y2_data, x_widths=x_widths, y3_data = None)\n",
    "plotter.add_stat_unc(stat_unc_up, stat_unc_down)\n",
    "plotter.add_syst_unc(up, down)\n",
    "if groomed:\n",
    "    custom_text = 'Groomed'\n",
    "    xlabel = \"Groomed Jet Mass $m_{g}$ (GeV)\"\n",
    "    ylabel=r'$\\frac{1}{d\\sigma/dp_{T}} \\, \\frac{d^2 \\sigma}{dm_{g} \\, dp_{T}}$ (1/GeV)'\n",
    "else:\n",
    "    custom_text  = 'Ungroomed'\n",
    "    xlabel = \"Ungroomed Jet Mass $m_{u}$ (GeV)\"\n",
    "    ylabel=r'$\\frac{1}{d\\sigma/dp_{T}} \\, \\frac{d^2 \\sigma}{dm_{u} \\, dp_{T}} (1/GeV)$'\n",
    "    \n",
    "ax1, ax2, fig = plotter.plot(ylabel=ylabel, xlabel = xlabel ,custom_text=custom_text,pt_text= title_list[ipt])\n",
    "if not groomed:\n",
    "    ax1.set_xlim(20,240)\n",
    "    ax2.set_ylim(0,2)\n",
    "    fig.savefig(f'plots/results/ungroomed_{ipt}.pdf')\n",
    "else:\n",
    "    ax1.set_xlim(10,240)\n",
    "    ax1.set_ylim(0,0.02)\n",
    "    ax2.set_ylim(0,2)\n",
    "    fig.savefig(f'plots/results/groomed_{ipt}.pdf')\n",
    "edges_gen_3[-1] = 240\n",
    "data_list.append([edges_gen_3, y2_data, stat_unc_up, up, down, y_data])"
   ]
  },
  {
   "cell_type": "code",
   "execution_count": 82,
   "id": "de710420-8397-4802-b41f-0cee0aab81a6",
   "metadata": {},
   "outputs": [
    {
     "name": "stdout",
     "output_type": "stream",
     "text": [
      "[20 20 20 20 20 20 20 20 40 40]\n",
      "[ 10.  30.  50.  70.  90. 110. 130. 150. 180. 220.]\n"
     ]
    },
    {
     "ename": "IndexError",
     "evalue": "list index out of range",
     "output_type": "error",
     "traceback": [
      "\u001b[31m---------------------------------------------------------------------------\u001b[39m",
      "\u001b[31mIndexError\u001b[39m                                Traceback (most recent call last)",
      "\u001b[36mCell\u001b[39m\u001b[36m \u001b[39m\u001b[32mIn[82]\u001b[39m\u001b[32m, line 21\u001b[39m\n\u001b[32m     19\u001b[39m ipt = ipt + \u001b[32m1\u001b[39m\n\u001b[32m     20\u001b[39m \u001b[38;5;28;01mif\u001b[39;00m i==\u001b[32m0\u001b[39m:\n\u001b[32m---> \u001b[39m\u001b[32m21\u001b[39m     plt.stairs(np.array(\u001b[43mdata_list\u001b[49m\u001b[43m[\u001b[49m\u001b[43mi\u001b[49m\u001b[43m]\u001b[49m[\u001b[32m1\u001b[39m][:-\u001b[32m4\u001b[39m])*(\u001b[32m10\u001b[39m**i), data_list[i][\u001b[32m0\u001b[39m][:-\u001b[32m4\u001b[39m], color = \u001b[33m'\u001b[39m\u001b[33mblack\u001b[39m\u001b[33m'\u001b[39m )\n\u001b[32m     22\u001b[39m     plt.plot(x_data[:-\u001b[32m4\u001b[39m], np.array(data_list[i][\u001b[32m1\u001b[39m][:-\u001b[32m4\u001b[39m])*(\u001b[32m10\u001b[39m**i), color = \u001b[33m'\u001b[39m\u001b[33mblack\u001b[39m\u001b[33m'\u001b[39m , lw = \u001b[32m0\u001b[39m, marker = markers[i], label = pt_text)\n\u001b[32m     23\u001b[39m \u001b[38;5;28;01melif\u001b[39;00m i==\u001b[32m1\u001b[39m:\n",
      "\u001b[31mIndexError\u001b[39m: list index out of range"
     ]
    }
   ],
   "source": [
    "markers = ['o', 's', 'D', '^', 'v']\n",
    "ipt = 0 \n",
    "for i in range(3):\n",
    "    x_data = centres_gen\n",
    "    widths = widths_gen\n",
    "\n",
    "    if i == 3:\n",
    "        x_data = centres_gen_3\n",
    "#widths = resp_matrix_4d.axes['mgen'].widths\n",
    "        widths = widths_gen_3\n",
    "        \n",
    "\n",
    "    widths[-1] = 40\n",
    "    x_data[-1] = 220\n",
    "    print(widths)\n",
    "    print(x_data)\n",
    "    power_text = r'$\\times 10^{{{}}}$'.format(i)\n",
    "    pt_text =title_list[ipt] +' ' + power_text\n",
    "    ipt = ipt + 1\n",
    "    if i==0:\n",
    "        plt.stairs(np.array(data_list[i][1][:-4])*(10**i), data_list[i][0][:-4], color = 'black' )\n",
    "        plt.plot(x_data[:-4], np.array(data_list[i][1][:-4])*(10**i), color = 'black' , lw = 0, marker = markers[i], label = pt_text)\n",
    "    elif i==1:\n",
    "        plt.stairs(np.array(data_list[i][1][:-3])*(10**i), data_list[i][0][:-3], color = 'black' )\n",
    "        plt.plot(x_data[:-3], np.array(data_list[i][1][:-3])*(10**i), color = 'black' , lw = 0, marker = markers[i], label = pt_text)\n",
    "        \n",
    "    else:    \n",
    "        plt.stairs(np.array(data_list[i][1])*(10**i), data_list[i][0], color = 'black' )   \n",
    "            \n",
    "        plt.plot(x_data, np.array(data_list[i][1])*(10**i), color = 'black' , lw = 0, marker = markers[i], label = pt_text)\n",
    "    plt.xlim(0,100)\n",
    "    plt.yscale('log')\n",
    "    plt.ylim(10**-5, 60)\n",
    "    if groomed:\n",
    "        plt.xlim(10, 240)\n",
    "    else:\n",
    "        plt.xlim(20, 240)\n",
    "    plt.ylim()\n",
    "    if groomed:\n",
    "        custom_text = r'Groomed'\n",
    "        xlabel = \"Groomed Jet Mass $m_{g}$ (GeV)\"\n",
    "        ylabel=r'$\\frac{1}{d\\sigma/dp_{T}} \\, \\frac{d^2 \\sigma}{dm_{g} \\, dp_{T}}$ (1/GeV)'\n",
    "    else:\n",
    "        custom_text  = r'Ungroomed'\n",
    "        xlabel = \"Ungroomed Jet Mass $m_{u}$ (GeV)\"\n",
    "        ylabel=r'$\\frac{1}{d\\sigma/dp_{T}} \\, \\frac{d^2 \\sigma}{dm_{u} \\, dp_{T}} (1/GeV)$'\n",
    "    plt.xlabel(xlabel)\n",
    "    plt.ylabel( ylabel)\n",
    "    \n",
    "    sys_up = np.array(data_list[i][3])*10**i \n",
    "    sys_down = np.array(data_list[i][4])*10**i \n",
    "    tot_up = np.sqrt(np.array(sys_up)**2 + np.array(data_list[i][2])*10**i)\n",
    "    tot_down = np.sqrt(np.array(sys_up)**2 + np.array(data_list[i][2])*10**i)\n",
    "\n",
    "    if i ==0:\n",
    "        plt.bar(x_data[:-4], # x\n",
    "            2*np.array(data_list[i][2][:-4])*10**i, # heights\n",
    "            #alpha=0.5, # half transparency\n",
    "            bottom=(np.array(data_list[i][1][:-4])*(10**i)) - (np.array(data_list[i][2][:-4])*(10**i)), color='b',  width=widths[:-4], label='Stat. Unc.')\n",
    "        print(np.array(data_list[i][2][:-4])*10**i)\n",
    "        plt.bar(x_data[:-4], # x\n",
    "            tot_up[:-4] + tot_down[:-4], # heights\n",
    "            alpha=0.5, # half transparency\n",
    "            bottom=(np.array(data_list[i][1][:-4])*(10**i)) - tot_down[:-4], color = 'cyan', width=widths[:-4], label='Total Unc')\n",
    "    elif i ==1:\n",
    "        idx = 3\n",
    "        plt.bar(x_data[:-idx], # x\n",
    "            2*np.array(data_list[i][2][:-idx])*10**i, # heights\n",
    "            #alpha=0.5, # half transparency\n",
    "            bottom=(np.array(data_list[i][1][:-idx])*(10**i)) - (np.array(data_list[i][2][:-idx])*(10**i)), color='b',  width=widths[:-idx], label='Stat. Unc.')\n",
    "        print(np.array(data_list[i][2][:-idx])*10**i)\n",
    "        plt.bar(x_data[:-idx], # x\n",
    "            tot_up[:-idx] + tot_down[:-idx], # heights\n",
    "            alpha=0.5, # half transparency\n",
    "            bottom=(np.array(data_list[i][1][:-idx])*(10**i)) - tot_down[:-idx], color = 'cyan', width=widths[:-idx], label='Total Unc')\n",
    "    else:\n",
    "        plt.bar(x_data, # x\n",
    "            2*np.array(data_list[i][2])*10**i, # heights\n",
    "            #alpha=0.5, # half transparency\n",
    "            bottom=(np.array(data_list[i][1])*(10**i)) - (np.array(data_list[i][2])*(10**i)), color='b',  width=widths, label='Stat. Unc.')\n",
    "        print(np.array(data_list[i][2])*10**i)\n",
    "        plt.bar(x_data, # x\n",
    "            tot_up + tot_down, # heights\n",
    "            alpha=0.5, # half transparency\n",
    "            bottom=(np.array(data_list[i][1])*(10**i)) - tot_down, color = 'cyan', width=widths, label='Total Unc')\n",
    "for i in range(3):  \n",
    "    if i == 0:\n",
    "        idx = 4\n",
    "        plt.stairs(np.array(data_list[i][5][:-idx])*(10**i), data_list[i][0][:-idx], color = 'red', label = ' PYTHIA', lw = 2  )\n",
    "    elif i == 1:\n",
    "        idx = 3\n",
    "        plt.stairs(np.array(data_list[i][5][:-idx])*(10**i), data_list[i][0][:-idx], color = 'red', label = ' PYTHIA', lw = 2  )\n",
    "    else:\n",
    "\n",
    "        plt.stairs(np.array(data_list[i][5][:])*(10**i), data_list[i][0][:], color = 'red', label = ' PYTHIA', lw = 2  )\n",
    "handles, labels = plt.gca().get_legend_handles_labels()\n",
    "        \n",
    "handles.append(plt.Line2D([0], [0], color='none', label=custom_text))\n",
    "handles.append(plt.Line2D([0], [0], color='none', label=custom_text))\n",
    "labels.append(custom_text)\n",
    "\n",
    "\n",
    "# Add legend with the custom entry\n",
    "hep.cms.label(\"Preliminary\", data = 1,)\n",
    "by_label = dict(zip(labels, handles))\n",
    "leg = plt.legend(by_label.values(), by_label.keys(), fontsize = 12, ncol = 2, loc = 'upper right')\n",
    "leg.get_texts()[-1].set_fontweight('bold')\n",
    "leg.get_texts()[-1].set_fontsize(16)\n",
    "\n",
    "if groomed:\n",
    "    plt.savefig(\"plots/results/groomed_summary.pdf\")\n",
    "else:\n",
    "    plt.savefig(\"plots/results/ungroomed_summary.pdf\")"
   ]
  },
  {
   "cell_type": "code",
   "execution_count": 14,
   "id": "5d52bd9a-3096-4ed2-a292-7a53cd3cd3e9",
   "metadata": {},
   "outputs": [
    {
     "data": {
      "text/plain": [
       "3"
      ]
     },
     "execution_count": 14,
     "metadata": {},
     "output_type": "execute_result"
    }
   ],
   "source": [
    "len(data_list)"
   ]
  },
  {
   "cell_type": "code",
   "execution_count": null,
   "id": "8edf2942-da54-45f3-b7b7-1a66b7822b57",
   "metadata": {},
   "outputs": [],
   "source": []
  },
  {
   "cell_type": "code",
   "execution_count": null,
   "id": "dfc73750-3dd5-41ee-922e-147f1df0850a",
   "metadata": {},
   "outputs": [],
   "source": []
  }
 ],
 "metadata": {
  "kernelspec": {
   "display_name": "hep kernel",
   "language": "python",
   "name": "myproject"
  },
  "language_info": {
   "codemirror_mode": {
    "name": "ipython",
    "version": 3
   },
   "file_extension": ".py",
   "mimetype": "text/x-python",
   "name": "python",
   "nbconvert_exporter": "python",
   "pygments_lexer": "ipython3",
   "version": "3.12.3"
  }
 },
 "nbformat": 4,
 "nbformat_minor": 5
}
