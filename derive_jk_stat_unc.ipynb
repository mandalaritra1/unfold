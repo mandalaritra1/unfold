{
 "cells": [
  {
   "cell_type": "code",
   "execution_count": 1,
   "id": "38dc8187-31d5-4e42-be2e-90496c15e9fd",
   "metadata": {
    "tags": []
   },
   "outputs": [
    {
     "name": "stdout",
     "output_type": "stream",
     "text": [
      "Welcome to JupyROOT 6.28/02\n"
     ]
    }
   ],
   "source": [
    "import ROOT\n",
    "import uproot\n",
    "import numpy as np\n",
    "import array as array\n",
    "import math\n",
    "import matplotlib.pyplot as plt\n",
    "\n",
    "#import statistics as st\n",
    "ROOT.gStyle.SetOptStat(000000)"
   ]
  },
  {
   "cell_type": "code",
   "execution_count": 2,
   "id": "e1c136a6-00a5-45af-9fe2-daec62b56bff",
   "metadata": {
    "tags": []
   },
   "outputs": [],
   "source": [
    "import subprocess\n",
    "import sys\n",
    "\n",
    "def install_package(package_name):\n",
    "    # Install the package using subprocess to call pip\n",
    "    subprocess.check_call([sys.executable, \"-m\", \"pip\", \"install\", package_name])\n",
    "\n",
    "package_name = \"pickle5\"  # Replace with the package you want to install\n",
    "\n",
    "try:\n",
    "    import requests  # Replace with the module name of the package\n",
    "except ImportError:\n",
    "    print(f\"{package_name} not found. Installing...\")\n",
    "    install_package(package_name)\n",
    "    import requests  # Import again after installation\n",
    "\n",
    "def import_packages():\n",
    "    try:\n",
    "        import mplhep  # Replace with the module name of the package\n",
    "    except ImportError:\n",
    "        print(f\"{'mplhep'} not found. Installing...\")\n",
    "        install_package(\"mplhep\")\n",
    "        import mplhep  # Import again after installation\n",
    "    try:\n",
    "        import hist  # Replace with the module name of the package\n",
    "    except ImportError:\n",
    "        print(f\"{'hist'} not found. Installing...\")\n",
    "        install_package(\"hist\")\n",
    "        import hist  # Import again after installation\n",
    "    try:\n",
    "        import pickle  # Replace with the module name of the package\n",
    "    except ImportError:\n",
    "        print(f\"{'pickle5'} not found. Installing...\")\n",
    "        install_package(\"pickle5\")\n",
    "        import pickle  # Import again after installation\n",
    "        \n",
    "import_packages()"
   ]
  },
  {
   "cell_type": "code",
   "execution_count": 3,
   "id": "ab03a91d-f0af-48e9-90da-d2d41a0e0b75",
   "metadata": {
    "tags": []
   },
   "outputs": [],
   "source": [
    "# mbinsGen  = array.array('d', [0,5,10,20,40,60,80,100,150,200,250,300,350,1000] )\n",
    "# mbinsDet  = array.array('d', [0,2.5,5,7.5,10,15,20,30,40,50,60,70,80,90,100,125,150,175,200,225,250,275,300,325,350,675,1000])\n",
    "# ptbinsGen = array.array('d', [200,260,350,460,550,650,760,13000])\n",
    "#ptbinsDet = array.array('d', [200,260,350,460,550,650,760,13000])\n",
    "\n",
    "mbinsGen  = array.array('d',[0, 10, 20, 40, 60, 80, 100, 150, 200, 13000] )\n",
    "mbinsDet  = array.array('d', [0, 5, 10, 15, 20, 30, 40, 50, 60, 70, 80, 90, 100, 125, 150, 175, 200, 6200, 13000])\n",
    "ptbinsGen = array.array('d', [0,170, 200, 260, 350, 460, 13000])\n",
    "ptbinsDet = array.array('d', [0,170,200, 260, 350, 460, 13000])\n",
    "\n",
    "\n",
    "nmbinsGen  = len(mbinsGen) -1\n",
    "nmbinsDet  = len(mbinsDet) -1\n",
    "nptbinsGen = len(ptbinsGen) -1\n",
    "nptbinsDet = len(ptbinsDet) -1"
   ]
  },
  {
   "cell_type": "code",
   "execution_count": 4,
   "id": "7b7241a3-d306-4068-9b7d-669f7ec5dd45",
   "metadata": {
    "tags": []
   },
   "outputs": [
    {
     "name": "stdout",
     "output_type": "stream",
     "text": [
      "array('d', [0.0, 1.0, 2.0, 3.0, 4.0, 5.0, 6.0, 7.0, 8.0, 9.0, 10.0, 11.0, 12.0, 13.0, 14.0, 15.0, 16.0, 17.0, 18.0, 19.0, 20.0, 21.0, 22.0, 23.0, 24.0, 25.0, 26.0, 27.0, 28.0, 29.0, 30.0, 31.0, 32.0, 33.0, 34.0, 35.0, 36.0, 37.0, 38.0, 39.0, 40.0, 41.0, 42.0, 43.0, 44.0, 45.0, 46.0, 47.0, 48.0, 49.0, 50.0, 51.0, 52.0, 53.0, 54.0])\n",
      "There are 54 (signal) generator level bins in the simple scheme\n",
      "---------------------------------------------------------------\n",
      "signalBinning\n",
      "0.0\n",
      "10.0\n",
      "20.0\n",
      "40.0\n",
      "60.0\n",
      "80.0\n",
      "100.0\n",
      "150.0\n",
      "200.0\n",
      "13000.0\n"
     ]
    }
   ],
   "source": [
    "generatorBinning = ROOT.TUnfoldBinning(\"generator\")\n",
    "### Need coarser binning for signal\n",
    "signalBinning = generatorBinning.AddBinning(\"signal\")    \n",
    "signalBinning.AddAxis(\"massgen\",nmbinsGen,mbinsGen,\n",
    "                        False, # needed for fakes\n",
    "                        False # overflow bin\n",
    "                        )\n",
    "signalBinning.AddAxis(\"ptgen\",nptbinsGen,ptbinsGen,\n",
    "                        False, # needed for fakes\n",
    "                        False # overflow bin\n",
    "                        )\n",
    "\n",
    "# X axis : generator binning is Signal : mgen * ptgen and Background : mrec * ptrec\n",
    "\n",
    "xaxis =  array.array('d',[a for a in range(nmbinsGen *nptbinsGen + 1 )])\n",
    "nx = len(xaxis)-1\n",
    "\n",
    "print (xaxis)\n",
    "print(\"There are {} (signal) generator level bins in the simple scheme\".format(nx))\n",
    "print(\"---------------------------------------------------------------\")\n",
    "\n",
    "print(\"signalBinning\")\n",
    "for i in range(len(signalBinning.GetDistributionBinning(0))):\n",
    "    print (signalBinning.GetDistributionBinning(0)[i])\n",
    "\n",
    "#print \"detectorBinning\"\n",
    "#for i in xrange(len(backgroundBinning.GetDistributionBinning(0))):\n",
    "#    print backgroundBinning.GetDistributionBinning(0)[i]\n",
    "    \n",
    "#print \"Below counts include overflow and underflow bins\"    \n",
    "#print \"There are {} signal {} background bins in the generator scheme\".format(signalBinning.GetTH1xNumberOfBins() , backgroundBinning.GetDistributionNumberOfBins())\n",
    "genBin = generatorBinning"
   ]
  },
  {
   "cell_type": "code",
   "execution_count": 5,
   "id": "0b5d292b-f4eb-4200-8192-5d0b4631543f",
   "metadata": {
    "tags": []
   },
   "outputs": [
    {
     "name": "stdout",
     "output_type": "stream",
     "text": [
      "array('d', [0.0, 1.0, 2.0, 3.0, 4.0, 5.0, 6.0, 7.0, 8.0, 9.0, 10.0, 11.0, 12.0, 13.0, 14.0, 15.0, 16.0, 17.0, 18.0, 19.0, 20.0, 21.0, 22.0, 23.0, 24.0, 25.0, 26.0, 27.0, 28.0, 29.0, 30.0, 31.0, 32.0, 33.0, 34.0, 35.0, 36.0, 37.0, 38.0, 39.0, 40.0, 41.0, 42.0, 43.0, 44.0, 45.0, 46.0, 47.0, 48.0, 49.0, 50.0, 51.0, 52.0, 53.0, 54.0, 55.0, 56.0, 57.0, 58.0, 59.0, 60.0, 61.0, 62.0, 63.0, 64.0, 65.0, 66.0, 67.0, 68.0, 69.0, 70.0, 71.0, 72.0, 73.0, 74.0, 75.0, 76.0, 77.0, 78.0, 79.0, 80.0, 81.0, 82.0, 83.0, 84.0, 85.0, 86.0, 87.0, 88.0, 89.0, 90.0, 91.0, 92.0, 93.0, 94.0, 95.0, 96.0, 97.0, 98.0, 99.0, 100.0, 101.0, 102.0, 103.0, 104.0, 105.0, 106.0, 107.0, 108.0])\n",
      "There are 108  detector level bins in the simple scheme\n",
      "detectorBinning\n",
      "0.0\n",
      "5.0\n",
      "10.0\n",
      "15.0\n",
      "20.0\n",
      "30.0\n",
      "40.0\n",
      "50.0\n",
      "60.0\n",
      "70.0\n",
      "80.0\n",
      "90.0\n",
      "100.0\n",
      "125.0\n",
      "150.0\n",
      "175.0\n",
      "200.0\n",
      "6200.0\n",
      "13000.0\n",
      "Below counts include overflow and underflow bins\n",
      "There are 108 bins in the detector scheme\n"
     ]
    }
   ],
   "source": [
    "detectorBinning = ROOT.TUnfoldBinning(\"detector\") \n",
    "detectorDistribution=detectorBinning.AddBinning(\"detectordistribution\")\n",
    "detectorDistribution.AddAxis(\"mass\",nmbinsDet,mbinsDet,\n",
    "                        False, # no underflow bin (not reconstructed)\n",
    "                        False # overflow bin\n",
    "                        )\n",
    "detectorDistribution.AddAxis(\"pt\",nptbinsDet,ptbinsDet,\n",
    "                        False, # no underflow bin (not reconstructed)\n",
    "                        False # overflow bin\n",
    "                        )\n",
    "\n",
    "yaxis =  array.array('d',[a for a in range(nmbinsDet *nptbinsDet+1 )])\n",
    "ny = len(yaxis)-1\n",
    "\n",
    "print (yaxis)\n",
    "print (\"There are {}  detector level bins in the simple scheme\".format(ny))\n",
    "print (\"detectorBinning\")\n",
    "for i in range(len(detectorDistribution.GetDistributionBinning(0))):\n",
    "    print (detectorDistribution.GetDistributionBinning(0)[i])\n",
    "    \n",
    "print (\"Below counts include overflow and underflow bins\")\n",
    "print (\"There are {} bins in the detector scheme\".format(detectorDistribution.GetTH1xNumberOfBins()))#GetDistributionNumberOfBins())\n",
    "detBin  = detectorBinning"
   ]
  },
  {
   "cell_type": "code",
   "execution_count": 6,
   "id": "7a659f8b-09d7-44ee-bbb1-7f744c5b0680",
   "metadata": {
    "tags": []
   },
   "outputs": [],
   "source": [
    "import pickle as pkl\n",
    "with open(\"qjetmass_zjets_gen__all_syst_v2.pkl\", \"rb\") as f:\n",
    "    output = pkl.load( f )\n",
    "with open(\"qjetmass_zjets_reco_v2.pkl\", \"rb\") as f:\n",
    "    output_data = pkl.load( f )\n",
    "    \n",
    "    \n",
    "with open(\"pkl_files/jackknife_output0to4_real.pkl\", \"rb\") as f:\n",
    "    output0to4 = pkl.load( f )\n",
    "    \n",
    "with open(\"pkl_files/jackknife_output_5to9.pkl\", \"rb\") as f:\n",
    "    output5to9 = pkl.load( f )"
   ]
  },
  {
   "cell_type": "code",
   "execution_count": 7,
   "id": "05c8619d-0bfb-4214-9478-52fa3777e70c",
   "metadata": {
    "tags": []
   },
   "outputs": [],
   "source": [
    "with open(\"pt170-13000.pkl\", 'rb') as f:\n",
    "    output0to9 = pkl.load(f)"
   ]
  },
  {
   "cell_type": "code",
   "execution_count": 8,
   "id": "232369a1-a9bc-464a-8c47-e1dbc6b8c853",
   "metadata": {
    "tags": []
   },
   "outputs": [],
   "source": [
    "ptreco_center = output['response_matrix_g'].axes[1].centers\n",
    "ptreco_width = output['response_matrix_g'].axes[1].widths\n",
    "\n",
    "ptgen_center = output['response_matrix_g'].axes[3].centers\n",
    "ptgen_width = output['response_matrix_g'].axes[3].widths\n",
    "mreco_center = output['response_matrix_g'].axes[2].centers\n",
    "mreco_edge = output['response_matrix_g'].axes[2].edges\n",
    "mgen_center = output['response_matrix_g'].axes[4].centers\n",
    "\n",
    "mreco_width = output['response_matrix_g'].axes[2].widths\n",
    "mgen_width = output['response_matrix_g'].axes[4].widths\n"
   ]
  },
  {
   "cell_type": "code",
   "execution_count": 9,
   "id": "94d7da72-381b-413d-8663-5bd9d9a654bd",
   "metadata": {
    "tags": []
   },
   "outputs": [],
   "source": [
    "M = ROOT.TUnfoldBinning.CreateHistogramOfMigrations(generatorBinning,detectorBinning,\"M\")\n",
    "\n",
    "\n",
    "h = detectorBinning.CreateHistogram(\"h\")\n",
    "\n",
    "hup = detectorBinning.CreateHistogram(\"hup\")\n",
    "hdn = detectorBinning.CreateHistogram(\"hdn\")\n",
    "\n",
    "\n",
    "\n",
    "htrue = generatorBinning.CreateHistogram(\"htrue\")\n",
    "htruef = detectorBinning.CreateHistogram(\"htruef\")"
   ]
  },
  {
   "cell_type": "code",
   "execution_count": 10,
   "id": "d6cb7eab-25e5-43af-82fd-d8b73bc4bd5f",
   "metadata": {
    "tags": []
   },
   "outputs": [
    {
     "data": {
      "text/plain": [
       "Hist(\n",
       "  StrCategory(['UL16NanoAODv9', 'UL17NanoAODv9', 'UL18NanoAODv9'], growth=True, name='dataset', label='Primary dataset'),\n",
       "  Regular(77, 0, 77, name='bin_gen', label='Generator'),\n",
       "  StrCategory(['nominal'], growth=True, name='systematic', label='Systematic Uncertainty'),\n",
       "  Regular(162, 0, 162, name='bin_reco', label='Detector'),\n",
       "  storage=Weight()) # Sum: WeightedSum(value=146507, variance=45548.4) (WeightedSum(value=146507, variance=45548.4) with flow)"
      ]
     },
     "execution_count": 10,
     "metadata": {},
     "output_type": "execute_result"
    }
   ],
   "source": [
    "output0to4['jackknife_response_u'][{\"jk\": 0}]"
   ]
  },
  {
   "cell_type": "code",
   "execution_count": 11,
   "id": "0a556fbd-7b21-44dc-bdb2-417bf376258e",
   "metadata": {
    "tags": []
   },
   "outputs": [],
   "source": [
    "# M_np = output['tunfold_migration_u'][{'systematic':'nominal'}].project(\"bin_gen\",\"bin_reco\").values(flow = True)\n",
    "# M_np_error = output['tunfold_migration_u'][{'systematic':'nominal'}].project(\"bin_gen\",\"bin_reco\").variances(flow = True)\n",
    "\n",
    "# h_np = output_data['tunfold_reco_u'][{'systematic':'nominal'}].project(\"bin_reco\").values(flow = True)\n",
    "# h_np_error = output_data['tunfold_reco_u'][{'systematic':'nominal'}].project(\"bin_reco\").variances(flow = True)\n",
    "\n",
    "# htrue_np = output['tunfold_migration_u'][{'systematic':'nominal'}].project(\"bin_gen\").values(flow = True)\n",
    "# htrue_np_error = output['tunfold_migration_u'][{'systematic':'nominal'}].project(\"bin_gen\").variances(flow = True)\n",
    "\n",
    "# jk_dic = {}\n",
    "\n",
    "# for i in range(10):\n",
    "#     if (i<5):\n",
    "\n",
    "#         Msyst = output0to4['jackknife_response_u'][{\"jk\": i}].project(\"bin_gen\",\"bin_reco\").view(flow=True).value\n",
    "#         jk_dic.update({str(i):Msyst})\n",
    "\n",
    "        \n",
    "        \n",
    "# M_np = output['tunfold_migration_g'][{'systematic':'nominal'}].project(\"bin_gen\",\"bin_reco\").values(flow = True)\n",
    "# M_np_error = output['tunfold_migration_g'][{'systematic':'nominal'}].project(\"bin_gen\",\"bin_reco\").variances(flow = True)\n",
    "\n",
    "# h_np = output_data['tunfold_reco_g'][{'systematic':'nominal'}].project(\"bin_reco\").values(flow = True)\n",
    "# h_np_error = output_data['tunfold_reco_g'][{'systematic':'nominal'}].project(\"bin_reco\").variances(flow = True)\n",
    "\n",
    "# htrue_np = output['tunfold_migration_g'][{'systematic':'nominal'}].project(\"bin_gen\").values(flow = True)\n",
    "# htrue_np_error = output['tunfold_migration_g'][{'systematic':'nominal'}].project(\"bin_gen\").variances(flow = True)\n",
    "\n",
    "# jk_dic = {}\n",
    "\n",
    "# for i in range(10):\n",
    "#     if (i<5):\n",
    "\n",
    "#         Msyst = output0to4['jackknife_response_g'][{\"jk\": i}].project(\"bin_gen\",\"bin_reco\").view(flow=True).value\n",
    "#         jk_dic.update({str(i):Msyst})\n",
    "#     else:\n",
    "#         Msyst = output5to9['jackknife_response_g'][{\"jk\": i-5}].project(\"bin_gen\",\"bin_reco\").view(flow=True).value\n",
    "#         jk_dic.update({str(i):Msyst})"
   ]
  },
  {
   "cell_type": "code",
   "execution_count": 12,
   "id": "4adaac22-4afe-48c9-a646-73bb5df11ef4",
   "metadata": {
    "tags": []
   },
   "outputs": [],
   "source": [
    "closure = True\n",
    "groomed = False"
   ]
  },
  {
   "cell_type": "code",
   "execution_count": null,
   "id": "4e764703-922b-4980-8ef7-cbf14f9ee102",
   "metadata": {},
   "outputs": [],
   "source": []
  },
  {
   "cell_type": "code",
   "execution_count": 43,
   "id": "f00e94e4-505f-4bb6-a7b2-16b02ae7fbdf",
   "metadata": {
    "tags": []
   },
   "outputs": [
    {
     "name": "stdout",
     "output_type": "stream",
     "text": [
      "0\n",
      "1\n",
      "2\n",
      "3\n",
      "4\n",
      "5\n",
      "6\n",
      "7\n",
      "8\n",
      "9\n"
     ]
    }
   ],
   "source": [
    "if groomed == False:\n",
    "    jk_dic = {}\n",
    "    for i in range(10):\n",
    "        print(i)\n",
    "        Msyst = output0to9['jk_response_matrix_u'][{\"jk\": i}].project(\"mgen\",\"ptgen\",\"mreco\",\"ptreco\").view(flow=True).value\n",
    "        jk_dic.update({str(i):Msyst})\n",
    "        \n",
    "    matrix_combined = np.stack(list(jk_dic.values()), axis = 0)\n",
    "    rms = np.std(matrix_combined, axis = 0)\n",
    "    rms = np.sqrt(10/9)*rms\n",
    "    \n",
    "    M_np = output['response_matrix_u'][{\"systematic\": \"nominal\"}].project(\"mgen\",\"ptgen\",\"mreco\",\"ptreco\").view(flow=True).value\n",
    "    M_np_error = rms\n",
    "\n",
    "\n",
    "\n",
    "    n_bin_det = M_np.shape[2]*M_np.shape[3]\n",
    "    n_bin_gen =  M_np.shape[0]*M_np.shape[1]\n",
    "\n",
    "\n",
    "    if closure:\n",
    "        h_np = output['ptjet_mjet_u_reco'][{\"systematic\": \"nominal\"}].project(\"mreco\",\"ptreco\").view(flow=True).value\n",
    "        h_np_error = output['ptjet_mjet_u_reco'][{\"systematic\": \"nominal\"}].project(\"mreco\",\"ptreco\").view(flow=True).variance\n",
    "        h_np_error = np.sqrt(h_np_error)\n",
    "    else:\n",
    "        h_np = output['ptjet_mjet_u_reco'][{\"systematic\": \"nominal\"}].project(\"mreco\",\"ptreco\").view(flow=True).value\n",
    "        h_np_error = output['ptjet_mjet_u_reco'][{\"systematic\": \"nominal\"}].project(\"mreco\",\"ptreco\").view(flow=True).variance\n",
    "        h_np_error = np.sqrt(h_np_error)\n",
    "\n",
    "    # htrue_np = np.sum(output['response_matrix_g'][{\"systematic\": \"nominal\"}].project(\"mgen\",\"ptgen\",\"mreco\",\"ptreco\").view(flow=True).value, (2,3))\n",
    "    # htrue_np_error = np.sum(output['response_matrix_g'][{\"systematic\": \"nominal\"}].project(\"mgen\",\"ptgen\",\"mreco\",\"ptreco\").view(flow=True).variance, (2,3))\n",
    "    # htrue_np_error = np.sqrt(htrue_np_error)\n",
    "\n",
    "    htrue_np =output['response_matrix_u'][{\"systematic\": \"nominal\"}].project(\"mgen\",\"ptgen\").view(flow=True).value\n",
    "    htrue_np_error = output['response_matrix_u'][{\"systematic\": \"nominal\"}].project(\"mgen\",\"ptgen\").view(flow=True).variance\n",
    "    htrue_np_error = np.sqrt(htrue_np_error)\n",
    "\n",
    "    \n",
    "\n",
    "    \n"
   ]
  },
  {
   "cell_type": "code",
   "execution_count": 58,
   "id": "f8fc6b24-5647-45d6-ab55-c97164b6e4e2",
   "metadata": {
    "tags": []
   },
   "outputs": [],
   "source": [
    "if groomed:\n",
    "    \n",
    "    \n",
    "    jk_dic = {}\n",
    "    for i in range(10):\n",
    "        print(i)\n",
    "        Msyst = output0to9['jk_response_matrix_g'][{\"jk\": i}].project(\"mgen\",\"ptgen\",\"mreco\",\"ptreco\").view(flow=True).value\n",
    "        jk_dic.update({str(i):Msyst})\n",
    "        \n",
    "    matrix_combined = np.stack(list(jk_dic.values()), axis = 0)\n",
    "    rms = np.std(matrix_combined, axis = 0)\n",
    "    rms = np.sqrt(10/9)*rms\n",
    "    \n",
    "    M_np = output['response_matrix_g'][{\"systematic\": \"nominal\"}].project(\"mgen\",\"ptgen\",\"mreco\",\"ptreco\").view(flow=True).value\n",
    "    M_np_error = rms\n",
    "    \n",
    "\n",
    "\n",
    "\n",
    "    n_bin_det = M_np.shape[2]*M_np.shape[3]\n",
    "    n_bin_gen =  M_np.shape[0]*M_np.shape[1]\n",
    "\n",
    "\n",
    "    if closure:\n",
    "        h_np = output['ptjet_mjet_g_reco'][{\"systematic\": \"nominal\"}].project(\"mreco\",\"ptreco\").view(flow=True).value\n",
    "        h_np_error = output['ptjet_mjet_g_reco'][{\"systematic\": \"nominal\"}].project(\"mreco\",\"ptreco\").view(flow=True).variance\n",
    "        h_np_error = np.sqrt(h_np_error)\n",
    "    else:\n",
    "        h_np = output['ptjet_mjet_g_reco'][{\"systematic\": \"nominal\"}].project(\"mreco\",\"ptreco\").view(flow=True).value\n",
    "        h_np_error = output['ptjet_mjet_g_reco'][{\"systematic\": \"nominal\"}].project(\"mreco\",\"ptreco\").view(flow=True).variance\n",
    "        h_np_error = np.sqrt(h_np_error)\n",
    "\n",
    "    # htrue_np = np.sum(output['response_matrix_g'][{\"systematic\": \"nominal\"}].project(\"mgen\",\"ptgen\",\"mreco\",\"ptreco\").view(flow=True).value, (2,3))\n",
    "    # htrue_np_error = np.sum(output['response_matrix_g'][{\"systematic\": \"nominal\"}].project(\"mgen\",\"ptgen\",\"mreco\",\"ptreco\").view(flow=True).variance, (2,3))\n",
    "    # htrue_np_error = np.sqrt(htrue_np_error)\n",
    "\n",
    "    htrue_np =output['response_matrix_g'][{\"systematic\": \"nominal\"}].project(\"mgen\",\"ptgen\").view(flow=True).value\n",
    "    htrue_np_error = output['response_matrix_g'][{\"systematic\": \"nominal\"}].project(\"mgen\",\"ptgen\").view(flow=True).variance\n",
    "    htrue_np_error = np.sqrt(htrue_np_error)\n",
    "\n"
   ]
  },
  {
   "cell_type": "code",
   "execution_count": 59,
   "id": "dfc79468-0479-4d69-be8e-bffa86dc80fc",
   "metadata": {
    "tags": []
   },
   "outputs": [
    {
     "data": {
      "text/plain": [
       "Hist(\n",
       "  Variable([0, 10, 20, 40, 60, 80, 100, 150, 200, 13000], name='mgen', label='Mass (GeV)'),\n",
       "  Variable([170, 200, 260, 350, 460, 13000], name='ptgen', label='p_{T,RECO} (GeV)'),\n",
       "  Variable([0, 5, 10, 15, 20, 30, 40, 50, 60, 70, 80, 90, 100, 125, 150, 175, 200, 6200, 13000], name='mreco', label='m_{RECO} (GeV)'),\n",
       "  Variable([170, 200, 260, 350, 460, 13000], name='ptreco', label='p_{T,RECO} (GeV)'),\n",
       "  storage=Weight()) # Sum: WeightedSum(value=32589.7, variance=1918.56) (WeightedSum(value=35003.8, variance=2189.7) with flow)"
      ]
     },
     "execution_count": 59,
     "metadata": {},
     "output_type": "execute_result"
    }
   ],
   "source": [
    "output['response_matrix_u'][{\"systematic\": \"nominal\"}].project(\"mgen\",\"ptgen\",\"mreco\",\"ptreco\")"
   ]
  },
  {
   "cell_type": "code",
   "execution_count": 60,
   "id": "729dabc9-d461-4b01-a599-ed4e9d55622b",
   "metadata": {
    "tags": []
   },
   "outputs": [
    {
     "data": {
      "text/plain": [
       "(11, 7, 20, 7)"
      ]
     },
     "execution_count": 60,
     "metadata": {},
     "output_type": "execute_result"
    }
   ],
   "source": [
    "jk_dic['0'].shape"
   ]
  },
  {
   "cell_type": "code",
   "execution_count": 61,
   "id": "cd0b4b52-f66c-4469-9c1d-c81f6287eef0",
   "metadata": {
    "tags": []
   },
   "outputs": [
    {
     "data": {
      "text/plain": [
       "146506.61068266886"
      ]
     },
     "execution_count": 61,
     "metadata": {},
     "output_type": "execute_result"
    }
   ],
   "source": [
    "np.sum(output0to4['jackknife_response_u'][{\"jk\": 0}].project(\"bin_gen\",\"bin_reco\").values())"
   ]
  },
  {
   "cell_type": "code",
   "execution_count": 62,
   "id": "551cbb3d-a007-46ac-a18b-36af8bcfe413",
   "metadata": {
    "tags": []
   },
   "outputs": [
    {
     "data": {
      "text/plain": [
       "35003.8346086744"
      ]
     },
     "execution_count": 62,
     "metadata": {},
     "output_type": "execute_result"
    }
   ],
   "source": [
    "np.sum(h_np)"
   ]
  },
  {
   "cell_type": "code",
   "execution_count": 63,
   "id": "afbbf9d5-8536-4e3f-b64a-932d6e0efc31",
   "metadata": {
    "tags": []
   },
   "outputs": [
    {
     "data": {
      "text/plain": [
       "150020.1"
      ]
     },
     "execution_count": 63,
     "metadata": {},
     "output_type": "execute_result"
    }
   ],
   "source": [
    "166689*(0.9)"
   ]
  },
  {
   "cell_type": "code",
   "execution_count": 64,
   "id": "9b2e9a41-e1eb-4665-89df-271dfb3d0632",
   "metadata": {
    "tags": []
   },
   "outputs": [
    {
     "data": {
      "text/plain": [
       "54"
      ]
     },
     "execution_count": 64,
     "metadata": {},
     "output_type": "execute_result"
    }
   ],
   "source": [
    "M.GetNbinsX()"
   ]
  },
  {
   "cell_type": "code",
   "execution_count": 65,
   "id": "a2832fb3-b199-470f-bbf1-e38452694daa",
   "metadata": {
    "tags": []
   },
   "outputs": [
    {
     "name": "stdout",
     "output_type": "stream",
     "text": [
      "35003.79350473463\n"
     ]
    },
    {
     "name": "stderr",
     "output_type": "stream",
     "text": [
      "Warning in <TROOT::Append>: Replacing existing TH1: 0 (Potential memory leak).\n",
      "Warning in <TROOT::Append>: Replacing existing TH1: 1 (Potential memory leak).\n",
      "Warning in <TROOT::Append>: Replacing existing TH1: 2 (Potential memory leak).\n",
      "Warning in <TROOT::Append>: Replacing existing TH1: 3 (Potential memory leak).\n",
      "Warning in <TROOT::Append>: Replacing existing TH1: 4 (Potential memory leak).\n",
      "Warning in <TROOT::Append>: Replacing existing TH1: 5 (Potential memory leak).\n",
      "Warning in <TROOT::Append>: Replacing existing TH1: 6 (Potential memory leak).\n",
      "Warning in <TROOT::Append>: Replacing existing TH1: 7 (Potential memory leak).\n",
      "Warning in <TROOT::Append>: Replacing existing TH1: 8 (Potential memory leak).\n",
      "Warning in <TROOT::Append>: Replacing existing TH1: 9 (Potential memory leak).\n"
     ]
    }
   ],
   "source": [
    "list_reco = []\n",
    "list_gen = []\n",
    "integral = 0\n",
    "for i in range(M_np.shape[0]-2): #mgen\n",
    "    for j in range(M_np.shape[1]-1): #ptgen\n",
    "        for k in range(M_np.shape[2]-2): #mreco\n",
    "            for l in range(M_np.shape[3]-1): #ptreco\n",
    "                \n",
    "                mgen = mgen_center[i]\n",
    "                if j == 0:\n",
    "                    ptgen = 1\n",
    "                else:\n",
    "                    ptgen = ptgen_center[j-1]\n",
    "                mreco = mreco_center[k]\n",
    "                if l == 0:\n",
    "                    ptreco = 1\n",
    "                else:\n",
    "                    ptreco = ptreco_center[l-1]\n",
    "    \n",
    "                # glob_reco = detectorDistribution.GetGlobalBinNumber(mreco_center[k], ptreco_center[l])\n",
    "                # glob_gen = signalBinning.GetGlobalBinNumber(mgen_center[i], ptgen_center[j])\n",
    "                glob_reco = detectorDistribution.GetGlobalBinNumber(mreco, ptreco)\n",
    "                glob_gen = signalBinning.GetGlobalBinNumber(mgen, ptgen)\n",
    "                #rint(glob_gen, glob_reco)\n",
    "                # list_reco.append(glob_reco)\n",
    "                # list_gen.append(glob_gen)\n",
    "                integral = integral + M_np[i+1][j][k+1][l]\n",
    "                M.SetBinContent(glob_gen, glob_reco, M_np[i+1][j][k+1][l])\n",
    "                M.SetBinError( glob_gen, glob_reco, M_np_error[i+1][j][k+1][l])\n",
    "print(integral)                \n",
    "jk_dic_root = {}                      \n",
    "for i_jk in range(10):  \n",
    "    jk_dic_root.update({str(i_jk): ROOT.TUnfoldBinning.CreateHistogramOfMigrations(generatorBinning,detectorBinning,str(i_jk))})\n",
    "    for i in range(M_np.shape[0]-2): #mgen\n",
    "        for j in range(M_np.shape[1]-1): #ptgen\n",
    "            for k in range(M_np.shape[2]-2): #mreco\n",
    "                for l in range(M_np.shape[3]-1): #ptreco\n",
    "                    \n",
    "                    mgen = mgen_center[i]\n",
    "                    if j == 0:\n",
    "                        ptgen = 1\n",
    "                    else:\n",
    "                        ptgen = ptgen_center[j-1]\n",
    "                    mreco = mreco_center[k]\n",
    "                    if l == 0:\n",
    "                        ptreco = 1\n",
    "                    else:\n",
    "                        ptreco = ptreco_center[l-1]\n",
    "\n",
    "                    glob_reco = detectorDistribution.GetGlobalBinNumber(mreco, ptreco)\n",
    "                    glob_gen = signalBinning.GetGlobalBinNumber(mgen, ptgen)\n",
    "                    jk_dic_root[str(i_jk)].SetBinContent(glob_gen, glob_reco, jk_dic[str(i_jk)][i+1,j,k+1,l])\n",
    "                    #jk_dic_root[str(i_jk)].SetBinError(glob_gen, glob_reco, resp_syst_dic_np_error[sys][i+1,j,k+1,l])\n",
    "                \n",
    "for j in range(M_np.shape[1]-1): #ptgen                \n",
    "    for i in range(M_np.shape[0]-2): #mgen  \n",
    "\n",
    "        mgen = mgen_center[i]\n",
    "        if j == 0:\n",
    "            ptgen = 1\n",
    "        else:\n",
    "            ptgen = ptgen_center[j-1]\n",
    "        \n",
    "        glob_gen = signalBinning.GetGlobalBinNumber(mgen, ptgen)\n",
    "        \n",
    "        htrue.SetBinContent(glob_gen, htrue_np[i+1][j])\n",
    "        htrue.SetBinError(glob_gen, htrue_np_error[i+1][j])\n",
    "        \n",
    "for l in range(M_np.shape[3]-1): #ptreco           \n",
    "    for k in range(M_np.shape[2]-2): #mreco    \n",
    "        mreco = mreco_center[k]\n",
    "        if l == 0:\n",
    "            ptreco = 1\n",
    "        else:\n",
    "            ptreco = ptreco_center[l-1]\n",
    "        glob_reco = detectorDistribution.GetGlobalBinNumber(mreco, ptreco)\n",
    "        #print(glob_reco)\n",
    "        h.SetBinContent(glob_reco, h_np[k+1][l])\n",
    "        h.SetBinError(glob_reco, h_np_error[k+1][l])"
   ]
  },
  {
   "cell_type": "code",
   "execution_count": null,
   "id": "9edbfcde-1253-4c09-9f10-7bbaeb65bb0c",
   "metadata": {},
   "outputs": [],
   "source": []
  },
  {
   "cell_type": "code",
   "execution_count": 110,
   "id": "bd7f2da0-7ab1-48c0-b23b-6abb44a4e9e2",
   "metadata": {
    "tags": []
   },
   "outputs": [
    {
     "name": "stdout",
     "output_type": "stream",
     "text": [
      "Normalising in GEN axis\n",
      "0.0\n",
      "0.0\n",
      "0.0\n",
      "0.0\n",
      "0.0\n",
      "0.0\n",
      "0.0\n",
      "0.0\n",
      "0.0\n",
      "0.0\n",
      "0.0\n",
      "0.0\n",
      "0.0\n",
      "0.0\n",
      "0.0\n",
      "0.0\n",
      "0.0\n",
      "0.0\n",
      "Normalising in GEN axis\n",
      "0.0\n",
      "0.0\n",
      "0.0\n",
      "0.0\n",
      "0.0\n",
      "0.0\n",
      "Normalising in GEN axis\n",
      "0.0\n",
      "0.0\n",
      "0.0\n",
      "0.0\n",
      "0.0\n",
      "0.0\n",
      "Normalising in GEN axis\n",
      "0.0\n",
      "0.0\n",
      "0.0\n",
      "0.0\n",
      "0.0\n",
      "0.0\n",
      "Normalising in GEN axis\n",
      "0.0\n",
      "0.0\n",
      "0.0\n",
      "0.0\n",
      "0.0\n",
      "0.0\n",
      "Normalising in GEN axis\n",
      "0.0\n",
      "0.0\n",
      "0.0\n",
      "0.0\n",
      "0.0\n",
      "0.0\n",
      "Normalising in GEN axis\n",
      "0.0\n",
      "0.0\n",
      "0.0\n",
      "0.0\n",
      "0.0\n",
      "0.0\n",
      "Normalising in GEN axis\n",
      "0.0\n",
      "0.0\n",
      "0.0\n",
      "0.0\n",
      "0.0\n",
      "0.0\n",
      "Normalising in GEN axis\n",
      "0.0\n",
      "0.0\n",
      "0.0\n",
      "0.0\n",
      "0.0\n",
      "0.0\n",
      "Normalising in GEN axis\n",
      "0.0\n",
      "0.0\n",
      "0.0\n",
      "0.0\n",
      "0.0\n",
      "0.0\n",
      "Normalising in GEN axis\n",
      "0.0\n",
      "0.0\n",
      "0.0\n",
      "0.0\n",
      "0.0\n",
      "0.0\n"
     ]
    }
   ],
   "source": [
    "ptgen_center_uf = np.insert(ptgen_center, 0, -5)\n",
    "mgen_center_uf = np.insert(ptgen_center, 0, -5)\n",
    "ptreco_center_uf = np.insert(ptreco_center, 0, -5)\n",
    "mgen_width_uf = np.insert(mgen_width, 0, 1)\n",
    "mgen_width_f = np.insert(mgen_width_uf, -1, 10000)\n",
    "mreco_width_uf = np.insert(mreco_width, 0, 1)\n",
    "\n",
    "\n",
    "def NormM(M, mode = 'gen'):\n",
    "    if mode == 'gen':\n",
    "        print(\"Normalising in GEN axis\")\n",
    "        M_norm = M.Clone(\"M_norm\")\n",
    "        for pt in ptgen_center_uf:\n",
    "            start_gen = signalBinning.GetGlobalBinNumber(-1,pt)\n",
    "            end_gen = signalBinning.GetGlobalBinNumber(mgen_center_uf[-1]+10000,pt)\n",
    "            # print(start_gen)\n",
    "            # print(end_gen)\n",
    "            # print(end_gen-start_gen)\n",
    "            binsum = M.Integral(start_gen, end_gen, 0, M.GetNbinsY()+1)\n",
    "            print(binsum)\n",
    "            im = 0\n",
    "            for ix in range(start_gen, end_gen+1):\n",
    "                for iy in range(0, M.GetNbinsY()+1):\n",
    "                    if binsum>0:\n",
    "                        M_norm.SetBinContent(ix, iy, M.GetBinContent(ix, iy)/(binsum*mgen_width_f[im]) )\n",
    "                im+=1\n",
    "        return M_norm\n",
    "    if mode == 'reco':\n",
    "        print(\"Normalising in RECO axis\")\n",
    "        M_norm = M.Clone(\"M_norm\")\n",
    "        for pt in ptreco_center_uf:\n",
    "            start_reco = detectorDistribution.GetGlobalBinNumber(-1,pt)\n",
    "            end_reco = detectorDistribution.GetGlobalBinNumber(mgen_center_uf[-1]+10000,pt)\n",
    "            # print(start_reco)\n",
    "            # print(end_reco)\n",
    "            # print(end_reco-start_reco)\n",
    "            binsum = M.Integral( 0, M.GetNbinsX()+1, start_reco, end_reco)\n",
    "            print(binsum)\n",
    "            im = 0\n",
    "            for ix in range(0, M.GetNbinsX()+1):\n",
    "                for iy in range(start_reco, end_reco+1):\n",
    "                    if binsum>0:\n",
    "                        M_norm.SetBinContent(ix, iy, M.GetBinContent(ix, iy)/(binsum) )\n",
    "                im+=1\n",
    "        return M_norm\n",
    "\n",
    "def NormOutput(h):\n",
    "    h_norm = h.Clone(\"M_norm\")\n",
    "    for pt in ptgen_center_uf:\n",
    "        start_gen = signalBinning.GetGlobalBinNumber(-1,pt)\n",
    "        end_gen = signalBinning.GetGlobalBinNumber(mgen_center[-1]+10000,pt)\n",
    "        \n",
    "        binsum = h.Integral(start_gen, end_gen)\n",
    "        print(binsum)\n",
    "        im = 0\n",
    "        for ix in range(start_gen, end_gen+1):\n",
    "            if binsum>0:\n",
    "                h_norm.SetBinContent(ix,  h.GetBinContent(ix)/(binsum*mgen_width_f[im]) )\n",
    "            im+=1\n",
    "    return h_norm\n",
    "\n",
    "def NormInput(h):\n",
    "    h_norm = h.Clone(\"M_norm\")\n",
    "    for pt in ptreco_center_uf:\n",
    "        start_reco = detectorDistribution.GetGlobalBinNumber(-1,pt)\n",
    "        end_reco = detectorDistribution.GetGlobalBinNumber(mreco_center[-1]+10000,pt)\n",
    "        binsum = h.Integral(start_reco, end_reco)\n",
    "        print(binsum)\n",
    "        im = 0\n",
    "        for ix in range(start_reco, end_reco):\n",
    "            if binsum>0:\n",
    "                h_norm.SetBinContent(ix,  h.GetBinContent(ix)/(binsum*mreco_width_uf[im]) )\n",
    "            im+=1\n",
    "    return h_norm\n",
    "\n",
    "norm = True\n",
    "if norm:\n",
    "    mode = 'gen'\n",
    "    M = NormM(M, mode = mode)\n",
    "    htrue = NormOutput(htrue)\n",
    "    h = NormInput(h)\n",
    "    for key in jk_dic_root.keys():\n",
    "        jk_dic_root[key] = NormM(jk_dic_root[key], mode = mode )"
   ]
  },
  {
   "cell_type": "code",
   "execution_count": 67,
   "id": "19e8c5e1-7285-4d02-acda-cbd1ce889342",
   "metadata": {
    "collapsed": true,
    "jupyter": {
     "outputs_hidden": true
    },
    "tags": []
   },
   "outputs": [
    {
     "name": "stderr",
     "output_type": "stream",
     "text": [
      "Info in <TUnfold::SetConstraint>: fConstraint=1\n",
      "Warning in <TUnfold::TUnfold>: 10 output bins do not depend on the input data  0 7-9 17-18 26-27 36 55\n",
      "Info in <TUnfold::TUnfold>: 108 input bins and 46 output bins\n",
      "Info in <TUnfoldDensity::TUnfold>: *NOT* unfolding bin #0 (xaxis:generator[ufl])\n",
      "Info in <TUnfoldDensity::TUnfold>: *NOT* unfolding bin #7 (xaxis:generator[6.5,7.5])\n",
      "Info in <TUnfoldDensity::TUnfold>: *NOT* unfolding bin #8 (xaxis:generator[7.5,8.5])\n",
      "Info in <TUnfoldDensity::TUnfold>: *NOT* unfolding bin #9 (xaxis:generator[8.5,9.5])\n",
      "Info in <TUnfoldDensity::TUnfold>: *NOT* unfolding bin #17 (xaxis:generator[16.5,17.5])\n",
      "Info in <TUnfoldDensity::TUnfold>: *NOT* unfolding bin #18 (xaxis:generator[17.5,18.5])\n",
      "Info in <TUnfoldDensity::TUnfold>: *NOT* unfolding bin #26 (xaxis:generator[25.5,26.5])\n",
      "Info in <TUnfoldDensity::TUnfold>: *NOT* unfolding bin #27 (xaxis:generator[26.5,27.5])\n",
      "Info in <TUnfoldDensity::TUnfold>: *NOT* unfolding bin #36 (xaxis:generator[35.5,36.5])\n",
      "Info in <TUnfoldDensity::TUnfold>: *NOT* unfolding bin #55 (xaxis:generator[ofl])\n",
      "Info in <TUnfoldDensity::RegularizeOneDistribution>: regularizing xaxis regMode=3 densityMode=3 axisSteering=*[UOB]\n",
      "Warning in <TUnfoldDensity::SetInput>: 31/108 input bins have zero error, and are ignored.\n",
      "Info in <TUnfoldDensity::ScanLcurve>: logtau=-Infinity X=0.840891 Y=7.728892\n",
      "Info in <TUnfoldDensity::ScanLcurve>: logtau=-3.177661 X=0.853171 Y=7.715025\n",
      "Info in <TUnfoldDensity::ScanLcurve>: logtau=-3.677661 X=0.841643 Y=7.723716\n",
      "Info in <TUnfoldDensity::ScanLcurve>: logtau=-3.427661 X=0.844293 Y=7.719508\n",
      "Info in <TUnfoldDensity::ScanLcurve>: logtau=-3.302661 X=0.847268 Y=7.717395\n",
      "Info in <TUnfoldDensity::ScanLcurve>: logtau=-3.240161 X=0.849648 Y=7.716277\n",
      "Info in <TUnfoldDensity::ScanLcurve>: logtau=-3.552661 X=0.842583 Y=7.721649\n",
      "Info in <TUnfoldDensity::ScanLcurve>: logtau=-3.208911 X=0.851225 Y=7.715673\n",
      "Info in <TUnfoldDensity::ScanLcurve>: logtau=-3.365161 X=0.845566 Y=7.718456\n",
      "Info in <TUnfoldDensity::ScanLcurve>: logtau=-3.490161 X=0.843321 Y=7.720575\n",
      "Info in <TUnfoldDensity::ScanLcurve>: logtau=-3.271411 X=0.848351 Y=7.716847\n",
      "Info in <TUnfoldDensity::ScanLcurve>: logtau=-3.615161 X=0.842035 Y=7.722708\n",
      "Info in <TUnfoldDensity::ScanLcurve>: logtau=-3.193286 X=0.852145 Y=7.715355\n",
      "Info in <TUnfoldDensity::ScanLcurve>: logtau=-3.333911 X=0.846352 Y=7.717929\n",
      "Info in <TUnfoldDensity::ScanLcurve>: logtau=-3.224536 X=0.850397 Y=7.715980\n",
      "Info in <TUnfoldDensity::ScanLcurve>: logtau=-3.396411 X=0.844886 Y=7.718981\n",
      "Info in <TUnfoldDensity::ScanLcurve>: logtau=-3.458911 X=0.843775 Y=7.720039\n",
      "Info in <TUnfoldDensity::ScanLcurve>: logtau=-3.255786 X=0.848969 Y=7.716565\n",
      "Info in <TUnfoldDensity::ScanLcurve>: logtau=-3.521411 X=0.842926 Y=7.721112\n",
      "Info in <TUnfoldDensity::ScanLcurve>: logtau=-3.287036 X=0.847786 Y=7.717123\n",
      "Info in <TUnfoldDensity::ScanLcurve>: logtau=-3.583911 X=0.842288 Y=7.722183\n",
      "Info in <TUnfoldDensity::ScanLcurve>: logtau=-3.646411 X=0.841822 Y=7.723220\n",
      "Info in <TUnfoldDensity::ScanLcurve>: logtau=-3.185473 X=0.852644 Y=7.715192\n",
      "Info in <TUnfoldDensity::ScanLcurve>: logtau=-3.318286 X=0.846792 Y=7.717663\n",
      "Info in <TUnfoldDensity::ScanLcurve>: logtau=-3.201098 X=0.851673 Y=7.715516\n",
      "Info in <TUnfoldDensity::ScanLcurve>: logtau=-3.349536 X=0.845945 Y=7.718193\n",
      "Info in <TUnfoldDensity::ScanLcurve>: logtau=-3.216723 X=0.850800 Y=7.715828\n",
      "Info in <TUnfoldDensity::ScanLcurve>: logtau=-3.380786 X=0.845214 Y=7.718718\n",
      "Info in <TUnfoldDensity::ScanLcurve>: logtau=-3.232348 X=0.850013 Y=7.716129\n",
      "Info in <TUnfoldDensity::ScanLcurve>: logtau=-3.412036 X=0.844579 Y=7.719244\n",
      "Info in <TUnfoldDensity::ScanLcurve>: logtau=-3.443286 X=0.844025 Y=7.719773\n",
      "Info in <TUnfoldDensity::ScanLcurve>: logtau=-3.247973 X=0.849300 Y=7.716422\n",
      "Info in <TUnfoldDensity::ScanLcurve>: logtau=-3.474536 X=0.843540 Y=7.720307\n",
      "Info in <TUnfoldDensity::ScanLcurve>: logtau=-3.263598 X=0.848653 Y=7.716707\n",
      "Info in <TUnfoldDensity::ScanLcurve>: logtau=-3.505786 X=0.843117 Y=7.720843\n",
      "Info in <TUnfoldDensity::ScanLcurve>: logtau=-3.537036 X=0.842748 Y=7.721381\n",
      "Info in <TUnfoldDensity::ScanLcurve>: logtau=-3.279223 X=0.848062 Y=7.716986\n",
      "Info in <TUnfoldDensity::ScanLcurve>: logtau=-3.568286 X=0.842430 Y=7.721917\n",
      "Info in <TUnfoldDensity::ScanLcurve>: logtau=-3.294848 X=0.847522 Y=7.717260\n",
      "Info in <TUnfoldDensity::ScanLcurve>: logtau=-3.599536 X=0.842156 Y=7.722446\n",
      "Info in <TUnfoldDensity::ScanLcurve>: logtau=-3.630786 X=0.841924 Y=7.722966\n",
      "Info in <TUnfoldDensity::ScanLcurve>: logtau=-3.181567 X=0.852904 Y=7.715109\n",
      "Info in <TUnfoldDensity::ScanLcurve>: logtau=-3.310473 X=0.847025 Y=7.717529\n",
      "Info in <TUnfoldDensity::ScanLcurve>: logtau=-3.662036 X=0.841728 Y=7.723470\n",
      "Info in <TUnfoldDensity::ScanLcurve>: logtau=-3.189380 X=0.852391 Y=7.715274\n",
      "Info in <TUnfoldDensity::ScanLcurve>: logtau=-3.326098 X=0.846568 Y=7.717796\n",
      "Info in <TUnfoldDensity::ScanLcurve>: logtau=-3.197192 X=0.851906 Y=7.715436\n",
      "Info in <TUnfoldDensity::ScanLcurve>: logtau=-3.341723 X=0.846144 Y=7.718061\n",
      "Info in <TUnfoldDensity::ScanLcurve>: logtau=-3.205005 X=0.851446 Y=7.715595\n",
      "Info in <TUnfoldDensity::ScanLcurve>: logtau=-3.357348 X=0.845752 Y=7.718324\n",
      "Info in <TUnfoldDensity::ScanLcurve>: Result logtau=-3.514042 X=0.843014 Y=7.720985\n",
      "Info in <TUnfold::SetConstraint>: fConstraint=1\n",
      "Warning in <TUnfold::TUnfold>: 10 output bins do not depend on the input data  0 7-9 17-18 26-27 36 55\n",
      "Info in <TUnfold::TUnfold>: 108 input bins and 46 output bins\n",
      "Info in <TUnfoldDensity::TUnfold>: *NOT* unfolding bin #0 (xaxis:generator[ufl])\n",
      "Info in <TUnfoldDensity::TUnfold>: *NOT* unfolding bin #7 (xaxis:generator[6.5,7.5])\n",
      "Info in <TUnfoldDensity::TUnfold>: *NOT* unfolding bin #8 (xaxis:generator[7.5,8.5])\n",
      "Info in <TUnfoldDensity::TUnfold>: *NOT* unfolding bin #9 (xaxis:generator[8.5,9.5])\n",
      "Info in <TUnfoldDensity::TUnfold>: *NOT* unfolding bin #17 (xaxis:generator[16.5,17.5])\n",
      "Info in <TUnfoldDensity::TUnfold>: *NOT* unfolding bin #18 (xaxis:generator[17.5,18.5])\n",
      "Info in <TUnfoldDensity::TUnfold>: *NOT* unfolding bin #26 (xaxis:generator[25.5,26.5])\n",
      "Info in <TUnfoldDensity::TUnfold>: *NOT* unfolding bin #27 (xaxis:generator[26.5,27.5])\n",
      "Info in <TUnfoldDensity::TUnfold>: *NOT* unfolding bin #36 (xaxis:generator[35.5,36.5])\n",
      "Info in <TUnfoldDensity::TUnfold>: *NOT* unfolding bin #55 (xaxis:generator[ofl])\n",
      "Info in <TUnfoldDensity::RegularizeOneDistribution>: regularizing xaxis regMode=3 densityMode=3 axisSteering=*[UOB]\n",
      "Warning in <TUnfoldDensity::SetInput>: 31/108 input bins have zero error, and are ignored.\n",
      "Info in <TUnfoldDensity::ScanLcurve>: logtau=-Infinity X=0.950288 Y=7.721788\n",
      "Info in <TUnfoldDensity::ScanLcurve>: logtau=-3.156590 X=0.962515 Y=7.708217\n",
      "Info in <TUnfoldDensity::ScanLcurve>: logtau=-3.656590 X=0.950781 Y=7.717973\n",
      "Info in <TUnfoldDensity::ScanLcurve>: logtau=-3.406590 X=0.953057 Y=7.713817\n",
      "Info in <TUnfoldDensity::ScanLcurve>: logtau=-3.281590 X=0.956124 Y=7.711256\n",
      "Info in <TUnfoldDensity::ScanLcurve>: logtau=-3.219090 X=0.958698 Y=7.709824\n",
      "Info in <TUnfoldDensity::ScanLcurve>: logtau=-3.531590 X=0.951512 Y=7.716086\n",
      "Info in <TUnfoldDensity::ScanLcurve>: logtau=-3.187840 X=0.960412 Y=7.709048\n",
      "Info in <TUnfoldDensity::ScanLcurve>: logtau=-3.344090 X=0.954331 Y=7.712575\n",
      "Info in <TUnfoldDensity::ScanLcurve>: logtau=-3.250340 X=0.957291 Y=7.710558\n",
      "Info in <TUnfoldDensity::ScanLcurve>: logtau=-3.469090 X=0.952150 Y=7.714991\n",
      "Info in <TUnfoldDensity::ScanLcurve>: logtau=-3.172215 X=0.961408 Y=7.708640\n",
      "Info in <TUnfoldDensity::ScanLcurve>: logtau=-3.312840 X=0.955149 Y=7.711927\n",
      "Info in <TUnfoldDensity::ScanLcurve>: logtau=-3.594090 X=0.951074 Y=7.717086\n",
      "Info in <TUnfoldDensity::ScanLcurve>: logtau=-3.203465 X=0.959512 Y=7.709442\n",
      "Info in <TUnfoldDensity::ScanLcurve>: logtau=-3.375340 X=0.953641 Y=7.713205\n",
      "Info in <TUnfoldDensity::ScanLcurve>: logtau=-3.234715 X=0.957961 Y=7.710196\n",
      "Info in <TUnfoldDensity::ScanLcurve>: logtau=-3.437840 X=0.952565 Y=7.714413\n",
      "Info in <TUnfoldDensity::ScanLcurve>: logtau=-3.265965 X=0.956680 Y=7.710911\n",
      "Info in <TUnfoldDensity::ScanLcurve>: logtau=-3.500340 X=0.951802 Y=7.715549\n",
      "Info in <TUnfoldDensity::ScanLcurve>: logtau=-3.164402 X=0.961947 Y=7.708431\n",
      "Info in <TUnfoldDensity::ScanLcurve>: logtau=-3.297215 X=0.955615 Y=7.711595\n",
      "Info in <TUnfoldDensity::ScanLcurve>: logtau=-3.562840 X=0.951272 Y=7.716599\n",
      "Info in <TUnfoldDensity::ScanLcurve>: logtau=-3.180027 X=0.960897 Y=7.708846\n",
      "Info in <TUnfoldDensity::ScanLcurve>: logtau=-3.328465 X=0.954723 Y=7.712254\n",
      "Info in <TUnfoldDensity::ScanLcurve>: logtau=-3.195652 X=0.959950 Y=7.709247\n",
      "Info in <TUnfoldDensity::ScanLcurve>: logtau=-3.359715 X=0.953971 Y=7.712892\n",
      "Info in <TUnfoldDensity::ScanLcurve>: logtau=-3.625340 X=0.950912 Y=7.717544\n",
      "Info in <TUnfoldDensity::ScanLcurve>: logtau=-3.211277 X=0.959095 Y=7.709635\n",
      "Info in <TUnfoldDensity::ScanLcurve>: logtau=-3.390965 X=0.953337 Y=7.713513\n",
      "Info in <TUnfoldDensity::ScanLcurve>: logtau=-3.226902 X=0.958321 Y=7.710011\n",
      "Info in <TUnfoldDensity::ScanLcurve>: logtau=-3.422215 X=0.952801 Y=7.714117\n",
      "Info in <TUnfoldDensity::ScanLcurve>: logtau=-3.242527 X=0.957618 Y=7.710378\n",
      "Info in <TUnfoldDensity::ScanLcurve>: logtau=-3.453465 X=0.952349 Y=7.714704\n",
      "Info in <TUnfoldDensity::ScanLcurve>: logtau=-3.258152 X=0.956978 Y=7.710735\n",
      "Info in <TUnfoldDensity::ScanLcurve>: logtau=-3.484715 X=0.951969 Y=7.715273\n",
      "Info in <TUnfoldDensity::ScanLcurve>: logtau=-3.273777 X=0.956396 Y=7.711084\n",
      "Info in <TUnfoldDensity::ScanLcurve>: logtau=-3.289402 X=0.955864 Y=7.711426\n",
      "Info in <TUnfoldDensity::ScanLcurve>: logtau=-3.515965 X=0.951651 Y=7.715821\n",
      "Info in <TUnfoldDensity::ScanLcurve>: logtau=-3.160496 X=0.962227 Y=7.708325\n",
      "Info in <TUnfoldDensity::ScanLcurve>: logtau=-3.168308 X=0.961674 Y=7.708536\n",
      "Info in <TUnfoldDensity::ScanLcurve>: logtau=-3.305027 X=0.955377 Y=7.711761\n",
      "Info in <TUnfoldDensity::ScanLcurve>: logtau=-3.547215 X=0.951386 Y=7.716346\n",
      "Info in <TUnfoldDensity::ScanLcurve>: logtau=-3.176121 X=0.961149 Y=7.708743\n",
      "Info in <TUnfoldDensity::ScanLcurve>: logtau=-3.320652 X=0.954931 Y=7.712091\n",
      "Info in <TUnfoldDensity::ScanLcurve>: logtau=-3.183933 X=0.960651 Y=7.708947\n",
      "Info in <TUnfoldDensity::ScanLcurve>: logtau=-3.578465 X=0.951168 Y=7.716846\n",
      "Info in <TUnfoldDensity::ScanLcurve>: logtau=-3.336277 X=0.954523 Y=7.712415\n",
      "Info in <TUnfoldDensity::ScanLcurve>: logtau=-3.191746 X=0.960178 Y=7.709148\n",
      "Info in <TUnfoldDensity::ScanLcurve>: logtau=-3.609715 X=0.950989 Y=7.717318\n",
      "Info in <TUnfoldDensity::ScanLcurve>: Result logtau=-3.511501 X=0.951693 Y=7.715744\n",
      "Info in <TUnfold::SetConstraint>: fConstraint=1\n",
      "Warning in <TUnfold::TUnfold>: 10 output bins do not depend on the input data  0 7-9 17-18 26-27 36 55\n",
      "Info in <TUnfold::TUnfold>: 108 input bins and 46 output bins\n",
      "Info in <TUnfoldDensity::TUnfold>: *NOT* unfolding bin #0 (xaxis:generator[ufl])\n",
      "Info in <TUnfoldDensity::TUnfold>: *NOT* unfolding bin #7 (xaxis:generator[6.5,7.5])\n",
      "Info in <TUnfoldDensity::TUnfold>: *NOT* unfolding bin #8 (xaxis:generator[7.5,8.5])\n",
      "Info in <TUnfoldDensity::TUnfold>: *NOT* unfolding bin #9 (xaxis:generator[8.5,9.5])\n",
      "Info in <TUnfoldDensity::TUnfold>: *NOT* unfolding bin #17 (xaxis:generator[16.5,17.5])\n",
      "Info in <TUnfoldDensity::TUnfold>: *NOT* unfolding bin #18 (xaxis:generator[17.5,18.5])\n",
      "Info in <TUnfoldDensity::TUnfold>: *NOT* unfolding bin #26 (xaxis:generator[25.5,26.5])\n",
      "Info in <TUnfoldDensity::TUnfold>: *NOT* unfolding bin #27 (xaxis:generator[26.5,27.5])\n",
      "Info in <TUnfoldDensity::TUnfold>: *NOT* unfolding bin #36 (xaxis:generator[35.5,36.5])\n",
      "Info in <TUnfoldDensity::TUnfold>: *NOT* unfolding bin #55 (xaxis:generator[ofl])\n",
      "Info in <TUnfoldDensity::RegularizeOneDistribution>: regularizing xaxis regMode=3 densityMode=3 axisSteering=*[UOB]\n",
      "Warning in <TUnfoldDensity::SetInput>: 31/108 input bins have zero error, and are ignored.\n",
      "Info in <TUnfoldDensity::ScanLcurve>: logtau=-Infinity X=0.947126 Y=7.717660\n",
      "Info in <TUnfoldDensity::ScanLcurve>: logtau=-3.155075 X=0.957202 Y=7.705566\n",
      "Info in <TUnfoldDensity::ScanLcurve>: logtau=-3.655075 X=0.947634 Y=7.713581\n",
      "Info in <TUnfoldDensity::ScanLcurve>: logtau=-3.405075 X=0.949565 Y=7.710012\n",
      "Info in <TUnfoldDensity::ScanLcurve>: logtau=-3.280075 X=0.951970 Y=7.708017\n",
      "Info in <TUnfoldDensity::ScanLcurve>: logtau=-3.217575 X=0.954029 Y=7.706885\n",
      "Info in <TUnfoldDensity::ScanLcurve>: logtau=-3.530075 X=0.948295 Y=7.711874\n",
      "Info in <TUnfoldDensity::ScanLcurve>: logtau=-3.186325 X=0.955435 Y=7.706255\n",
      "Info in <TUnfoldDensity::ScanLcurve>: logtau=-3.342575 X=0.950566 Y=7.709042\n",
      "Info in <TUnfoldDensity::ScanLcurve>: logtau=-3.248825 X=0.952895 Y=7.707469\n",
      "Info in <TUnfoldDensity::ScanLcurve>: logtau=-3.467575 X=0.948833 Y=7.710955\n",
      "Info in <TUnfoldDensity::ScanLcurve>: logtau=-3.170700 X=0.956267 Y=7.705919\n",
      "Info in <TUnfoldDensity::ScanLcurve>: logtau=-3.592575 X=0.947907 Y=7.712757\n",
      "Info in <TUnfoldDensity::ScanLcurve>: logtau=-3.311325 X=0.951206 Y=7.708539\n",
      "Info in <TUnfoldDensity::ScanLcurve>: logtau=-3.201950 X=0.954693 Y=7.706576\n",
      "Info in <TUnfoldDensity::ScanLcurve>: logtau=-3.373825 X=0.950026 Y=7.709531\n",
      "Info in <TUnfoldDensity::ScanLcurve>: logtau=-3.233200 X=0.953432 Y=7.707182\n",
      "Info in <TUnfoldDensity::ScanLcurve>: logtau=-3.436325 X=0.949171 Y=7.710486\n",
      "Info in <TUnfoldDensity::ScanLcurve>: logtau=-3.264450 X=0.952410 Y=7.707747\n",
      "Info in <TUnfoldDensity::ScanLcurve>: logtau=-3.498825 X=0.948543 Y=7.711418\n",
      "Info in <TUnfoldDensity::ScanLcurve>: logtau=-3.162888 X=0.956721 Y=7.705744\n",
      "Info in <TUnfoldDensity::ScanLcurve>: logtau=-3.561325 X=0.948084 Y=7.712321\n",
      "Info in <TUnfoldDensity::ScanLcurve>: logtau=-3.295700 X=0.951571 Y=7.708281\n",
      "Info in <TUnfoldDensity::ScanLcurve>: logtau=-3.178513 X=0.955839 Y=7.706089\n",
      "Info in <TUnfoldDensity::ScanLcurve>: logtau=-3.623825 X=0.947758 Y=7.713177\n",
      "Info in <TUnfoldDensity::ScanLcurve>: logtau=-3.326950 X=0.950872 Y=7.708792\n",
      "Info in <TUnfoldDensity::ScanLcurve>: logtau=-3.194138 X=0.955054 Y=7.706417\n",
      "Info in <TUnfoldDensity::ScanLcurve>: logtau=-3.209763 X=0.954352 Y=7.706732\n",
      "Info in <TUnfoldDensity::ScanLcurve>: logtau=-3.358200 X=0.950285 Y=7.709288\n",
      "Info in <TUnfoldDensity::ScanLcurve>: logtau=-3.225388 X=0.953723 Y=7.707035\n",
      "Info in <TUnfoldDensity::ScanLcurve>: logtau=-3.389450 X=0.949786 Y=7.709773\n",
      "Info in <TUnfoldDensity::ScanLcurve>: logtau=-3.420700 X=0.949360 Y=7.710250\n",
      "Info in <TUnfoldDensity::ScanLcurve>: logtau=-3.241013 X=0.953157 Y=7.707327\n",
      "Info in <TUnfoldDensity::ScanLcurve>: logtau=-3.451950 X=0.948995 Y=7.710721\n",
      "Info in <TUnfoldDensity::ScanLcurve>: logtau=-3.256638 X=0.952647 Y=7.707609\n",
      "Info in <TUnfoldDensity::ScanLcurve>: logtau=-3.483200 X=0.948682 Y=7.711187\n",
      "Info in <TUnfoldDensity::ScanLcurve>: logtau=-3.514450 X=0.948414 Y=7.711647\n",
      "Info in <TUnfoldDensity::ScanLcurve>: logtau=-3.272263 X=0.952185 Y=7.707883\n",
      "Info in <TUnfoldDensity::ScanLcurve>: logtau=-3.158981 X=0.956958 Y=7.705656\n",
      "Info in <TUnfoldDensity::ScanLcurve>: logtau=-3.545700 X=0.948185 Y=7.712099\n",
      "Info in <TUnfoldDensity::ScanLcurve>: logtau=-3.166794 X=0.956491 Y=7.705832\n",
      "Info in <TUnfoldDensity::ScanLcurve>: logtau=-3.287888 X=0.951766 Y=7.708150\n",
      "Info in <TUnfoldDensity::ScanLcurve>: logtau=-3.576950 X=0.947992 Y=7.712541\n",
      "Info in <TUnfoldDensity::ScanLcurve>: logtau=-3.174606 X=0.956050 Y=7.706004\n",
      "Info in <TUnfoldDensity::ScanLcurve>: logtau=-3.303513 X=0.951384 Y=7.708411\n",
      "Info in <TUnfoldDensity::ScanLcurve>: logtau=-3.608200 X=0.947829 Y=7.712969\n",
      "Info in <TUnfoldDensity::ScanLcurve>: logtau=-3.182419 X=0.955635 Y=7.706172\n",
      "Info in <TUnfoldDensity::ScanLcurve>: logtau=-3.639450 X=0.947693 Y=7.713381\n",
      "Info in <TUnfoldDensity::ScanLcurve>: logtau=-3.319138 X=0.951035 Y=7.708666\n",
      "Info in <TUnfoldDensity::ScanLcurve>: logtau=-3.190231 X=0.955242 Y=7.706337\n",
      "Info in <TUnfoldDensity::ScanLcurve>: Result logtau=-3.471609 X=0.948793 Y=7.711015\n",
      "Info in <TUnfold::SetConstraint>: fConstraint=1\n",
      "Warning in <TUnfold::TUnfold>: 10 output bins do not depend on the input data  0 7-9 17-18 26-27 36 55\n",
      "Info in <TUnfold::TUnfold>: 108 input bins and 46 output bins\n",
      "Info in <TUnfoldDensity::TUnfold>: *NOT* unfolding bin #0 (xaxis:generator[ufl])\n",
      "Info in <TUnfoldDensity::TUnfold>: *NOT* unfolding bin #7 (xaxis:generator[6.5,7.5])\n",
      "Info in <TUnfoldDensity::TUnfold>: *NOT* unfolding bin #8 (xaxis:generator[7.5,8.5])\n",
      "Info in <TUnfoldDensity::TUnfold>: *NOT* unfolding bin #9 (xaxis:generator[8.5,9.5])\n",
      "Info in <TUnfoldDensity::TUnfold>: *NOT* unfolding bin #17 (xaxis:generator[16.5,17.5])\n",
      "Info in <TUnfoldDensity::TUnfold>: *NOT* unfolding bin #18 (xaxis:generator[17.5,18.5])\n",
      "Info in <TUnfoldDensity::TUnfold>: *NOT* unfolding bin #26 (xaxis:generator[25.5,26.5])\n",
      "Info in <TUnfoldDensity::TUnfold>: *NOT* unfolding bin #27 (xaxis:generator[26.5,27.5])\n",
      "Info in <TUnfoldDensity::TUnfold>: *NOT* unfolding bin #36 (xaxis:generator[35.5,36.5])\n",
      "Info in <TUnfoldDensity::TUnfold>: *NOT* unfolding bin #55 (xaxis:generator[ofl])\n",
      "Info in <TUnfoldDensity::RegularizeOneDistribution>: regularizing xaxis regMode=3 densityMode=3 axisSteering=*[UOB]\n",
      "Warning in <TUnfoldDensity::SetInput>: 31/108 input bins have zero error, and are ignored.\n",
      "Info in <TUnfoldDensity::ScanLcurve>: logtau=-Infinity X=0.941360 Y=7.761944\n",
      "Info in <TUnfoldDensity::ScanLcurve>: logtau=-3.178211 X=0.976537 Y=7.706871\n",
      "Info in <TUnfoldDensity::ScanLcurve>: logtau=-3.678211 X=0.943842 Y=7.742295\n",
      "Info in <TUnfoldDensity::ScanLcurve>: logtau=-3.428211 X=0.953537 Y=7.723203\n",
      "Info in <TUnfoldDensity::ScanLcurve>: logtau=-3.303211 X=0.963218 Y=7.714183\n",
      "Info in <TUnfoldDensity::ScanLcurve>: logtau=-3.553211 X=0.947240 Y=7.733145\n",
      "Info in <TUnfoldDensity::ScanLcurve>: logtau=-3.240711 X=0.969353 Y=7.710332\n",
      "Info in <TUnfoldDensity::ScanLcurve>: logtau=-3.365711 X=0.957954 Y=7.718490\n",
      "Info in <TUnfoldDensity::ScanLcurve>: logtau=-3.490711 X=0.949977 Y=7.728162\n",
      "Info in <TUnfoldDensity::ScanLcurve>: logtau=-3.615711 X=0.945239 Y=7.737920\n",
      "Info in <TUnfoldDensity::ScanLcurve>: logtau=-3.209461 X=0.972792 Y=7.708561\n",
      "Info in <TUnfoldDensity::ScanLcurve>: logtau=-3.271961 X=0.966171 Y=7.712202\n",
      "Info in <TUnfoldDensity::ScanLcurve>: logtau=-3.334461 X=0.960480 Y=7.716280\n",
      "Info in <TUnfoldDensity::ScanLcurve>: logtau=-3.396961 X=0.955639 Y=7.720804\n",
      "Info in <TUnfoldDensity::ScanLcurve>: logtau=-3.459461 X=0.951651 Y=7.725665\n",
      "Info in <TUnfoldDensity::ScanLcurve>: logtau=-3.521961 X=0.948510 Y=7.730666\n",
      "Info in <TUnfoldDensity::ScanLcurve>: logtau=-3.584461 X=0.946155 Y=7.735572\n",
      "Info in <TUnfoldDensity::ScanLcurve>: logtau=-3.646961 X=0.944473 Y=7.740167\n",
      "Info in <TUnfoldDensity::ScanLcurve>: logtau=-3.193836 X=0.974622 Y=7.707707\n",
      "Info in <TUnfoldDensity::ScanLcurve>: logtau=-3.225086 X=0.971038 Y=7.709435\n",
      "Info in <TUnfoldDensity::ScanLcurve>: logtau=-3.256336 X=0.967732 Y=7.711253\n",
      "Info in <TUnfoldDensity::ScanLcurve>: logtau=-3.287586 X=0.964667 Y=7.713178\n",
      "Info in <TUnfoldDensity::ScanLcurve>: logtau=-3.318836 X=0.961823 Y=7.715217\n",
      "Info in <TUnfoldDensity::ScanLcurve>: logtau=-3.350086 X=0.959191 Y=7.717371\n",
      "Info in <TUnfoldDensity::ScanLcurve>: logtau=-3.381336 X=0.956769 Y=7.719635\n",
      "Info in <TUnfoldDensity::ScanLcurve>: logtau=-3.412586 X=0.954561 Y=7.721994\n",
      "Info in <TUnfoldDensity::ScanLcurve>: logtau=-3.443836 X=0.952567 Y=7.724427\n",
      "Info in <TUnfoldDensity::ScanLcurve>: logtau=-3.475086 X=0.950787 Y=7.726911\n",
      "Info in <TUnfoldDensity::ScanLcurve>: logtau=-3.506336 X=0.949218 Y=7.729415\n",
      "Info in <TUnfoldDensity::ScanLcurve>: logtau=-3.537586 X=0.947851 Y=7.731910\n",
      "Info in <TUnfoldDensity::ScanLcurve>: logtau=-3.568836 X=0.946675 Y=7.734367\n",
      "Info in <TUnfoldDensity::ScanLcurve>: logtau=-3.600086 X=0.945677 Y=7.736757\n",
      "Info in <TUnfoldDensity::ScanLcurve>: logtau=-3.631336 X=0.944838 Y=7.739057\n",
      "Info in <TUnfoldDensity::ScanLcurve>: logtau=-3.662586 X=0.944142 Y=7.741247\n",
      "Info in <TUnfoldDensity::ScanLcurve>: logtau=-3.186024 X=0.975569 Y=7.707287\n",
      "Info in <TUnfoldDensity::ScanLcurve>: logtau=-3.201649 X=0.973697 Y=7.708132\n",
      "Info in <TUnfoldDensity::ScanLcurve>: logtau=-3.217274 X=0.971906 Y=7.708995\n",
      "Info in <TUnfoldDensity::ScanLcurve>: logtau=-3.232899 X=0.970187 Y=7.709880\n",
      "Info in <TUnfoldDensity::ScanLcurve>: logtau=-3.248524 X=0.968535 Y=7.710789\n",
      "Info in <TUnfoldDensity::ScanLcurve>: logtau=-3.264149 X=0.966944 Y=7.711724\n",
      "Info in <TUnfoldDensity::ScanLcurve>: logtau=-3.279774 X=0.965412 Y=7.712686\n",
      "Info in <TUnfoldDensity::ScanLcurve>: logtau=-3.295399 X=0.963936 Y=7.713676\n",
      "Info in <TUnfoldDensity::ScanLcurve>: logtau=-3.311024 X=0.962514 Y=7.714696\n",
      "Info in <TUnfoldDensity::ScanLcurve>: logtau=-3.326649 X=0.961145 Y=7.715745\n",
      "Info in <TUnfoldDensity::ScanLcurve>: logtau=-3.342274 X=0.959829 Y=7.716822\n",
      "Info in <TUnfoldDensity::ScanLcurve>: logtau=-3.357899 X=0.958566 Y=7.717927\n",
      "Info in <TUnfoldDensity::ScanLcurve>: logtau=-3.373524 X=0.957355 Y=7.719059\n",
      "Info in <TUnfoldDensity::ScanLcurve>: logtau=-3.389149 X=0.956197 Y=7.720216\n",
      "Info in <TUnfoldDensity::ScanLcurve>: logtau=-3.404774 X=0.955093 Y=7.721396\n",
      "Info in <TUnfoldDensity::ScanLcurve>: logtau=-3.420399 X=0.954042 Y=7.722596\n",
      "Info in <TUnfoldDensity::ScanLcurve>: Result logtau=-3.435353 X=0.953087 Y=7.723761\n",
      "Info in <TUnfold::SetConstraint>: fConstraint=1\n",
      "Warning in <TUnfold::TUnfold>: 10 output bins do not depend on the input data  0 7-9 17-18 26-27 36 55\n",
      "Info in <TUnfold::TUnfold>: 108 input bins and 46 output bins\n",
      "Info in <TUnfoldDensity::TUnfold>: *NOT* unfolding bin #0 (xaxis:generator[ufl])\n",
      "Info in <TUnfoldDensity::TUnfold>: *NOT* unfolding bin #7 (xaxis:generator[6.5,7.5])\n",
      "Info in <TUnfoldDensity::TUnfold>: *NOT* unfolding bin #8 (xaxis:generator[7.5,8.5])\n",
      "Info in <TUnfoldDensity::TUnfold>: *NOT* unfolding bin #9 (xaxis:generator[8.5,9.5])\n",
      "Info in <TUnfoldDensity::TUnfold>: *NOT* unfolding bin #17 (xaxis:generator[16.5,17.5])\n",
      "Info in <TUnfoldDensity::TUnfold>: *NOT* unfolding bin #18 (xaxis:generator[17.5,18.5])\n",
      "Info in <TUnfoldDensity::TUnfold>: *NOT* unfolding bin #26 (xaxis:generator[25.5,26.5])\n",
      "Info in <TUnfoldDensity::TUnfold>: *NOT* unfolding bin #27 (xaxis:generator[26.5,27.5])\n",
      "Info in <TUnfoldDensity::TUnfold>: *NOT* unfolding bin #36 (xaxis:generator[35.5,36.5])\n",
      "Info in <TUnfoldDensity::TUnfold>: *NOT* unfolding bin #55 (xaxis:generator[ofl])\n",
      "Info in <TUnfoldDensity::RegularizeOneDistribution>: regularizing xaxis regMode=3 densityMode=3 axisSteering=*[UOB]\n",
      "Warning in <TUnfoldDensity::SetInput>: 31/108 input bins have zero error, and are ignored.\n",
      "Info in <TUnfoldDensity::ScanLcurve>: logtau=-Infinity X=0.939405 Y=7.709837\n",
      "Info in <TUnfoldDensity::ScanLcurve>: logtau=-3.152493 X=0.950353 Y=7.697664\n",
      "Info in <TUnfoldDensity::ScanLcurve>: logtau=-3.652493 X=0.939879 Y=7.706150\n",
      "Info in <TUnfoldDensity::ScanLcurve>: logtau=-3.402493 X=0.941880 Y=7.702537\n",
      "Info in <TUnfoldDensity::ScanLcurve>: logtau=-3.277493 X=0.944538 Y=7.700362\n",
      "Info in <TUnfoldDensity::ScanLcurve>: logtau=-3.214993 X=0.946837 Y=7.699111\n",
      "Info in <TUnfoldDensity::ScanLcurve>: logtau=-3.527493 X=0.940539 Y=7.704474\n",
      "Info in <TUnfoldDensity::ScanLcurve>: logtau=-3.183743 X=0.948401 Y=7.698417\n",
      "Info in <TUnfoldDensity::ScanLcurve>: logtau=-3.339993 X=0.942976 Y=7.701488\n",
      "Info in <TUnfoldDensity::ScanLcurve>: logtau=-3.246243 X=0.945571 Y=7.699756\n",
      "Info in <TUnfoldDensity::ScanLcurve>: logtau=-3.464993 X=0.941097 Y=7.703532\n",
      "Info in <TUnfoldDensity::ScanLcurve>: logtau=-3.168118 X=0.949322 Y=7.698049\n",
      "Info in <TUnfoldDensity::ScanLcurve>: logtau=-3.308743 X=0.943685 Y=7.700937\n",
      "Info in <TUnfoldDensity::ScanLcurve>: logtau=-3.589993 X=0.940147 Y=7.705352\n",
      "Info in <TUnfoldDensity::ScanLcurve>: logtau=-3.199368 X=0.947577 Y=7.698771\n",
      "Info in <TUnfoldDensity::ScanLcurve>: logtau=-3.371243 X=0.942381 Y=7.702020\n",
      "Info in <TUnfoldDensity::ScanLcurve>: logtau=-3.230618 X=0.946171 Y=7.699439\n",
      "Info in <TUnfoldDensity::ScanLcurve>: logtau=-3.433743 X=0.941456 Y=7.703041\n",
      "Info in <TUnfoldDensity::ScanLcurve>: logtau=-3.261868 X=0.945029 Y=7.700063\n",
      "Info in <TUnfoldDensity::ScanLcurve>: logtau=-3.160306 X=0.949823 Y=7.697858\n",
      "Info in <TUnfoldDensity::ScanLcurve>: logtau=-3.496243 X=0.940794 Y=7.704010\n",
      "Info in <TUnfoldDensity::ScanLcurve>: logtau=-3.293118 X=0.944092 Y=7.700653\n",
      "Info in <TUnfoldDensity::ScanLcurve>: logtau=-3.175931 X=0.948849 Y=7.698235\n",
      "Info in <TUnfoldDensity::ScanLcurve>: logtau=-3.558743 X=0.940325 Y=7.704922\n",
      "Info in <TUnfoldDensity::ScanLcurve>: logtau=-3.324368 X=0.943315 Y=7.701215\n",
      "Info in <TUnfoldDensity::ScanLcurve>: logtau=-3.191556 X=0.947978 Y=7.698596\n",
      "Info in <TUnfoldDensity::ScanLcurve>: logtau=-3.621243 X=0.940000 Y=7.705762\n",
      "Info in <TUnfoldDensity::ScanLcurve>: logtau=-3.207181 X=0.947197 Y=7.698943\n",
      "Info in <TUnfoldDensity::ScanLcurve>: logtau=-3.355618 X=0.942666 Y=7.701756\n",
      "Info in <TUnfoldDensity::ScanLcurve>: logtau=-3.222806 X=0.946495 Y=7.699276\n",
      "Info in <TUnfoldDensity::ScanLcurve>: logtau=-3.386868 X=0.942120 Y=7.702280\n",
      "Info in <TUnfoldDensity::ScanLcurve>: logtau=-3.238431 X=0.945864 Y=7.699599\n",
      "Info in <TUnfoldDensity::ScanLcurve>: logtau=-3.418118 X=0.941659 Y=7.702790\n",
      "Info in <TUnfoldDensity::ScanLcurve>: logtau=-3.254056 X=0.945294 Y=7.699911\n",
      "Info in <TUnfoldDensity::ScanLcurve>: logtau=-3.449368 X=0.941269 Y=7.703288\n",
      "Info in <TUnfoldDensity::ScanLcurve>: logtau=-3.269681 X=0.944778 Y=7.700214\n",
      "Info in <TUnfoldDensity::ScanLcurve>: logtau=-3.480618 X=0.940939 Y=7.703772\n",
      "Info in <TUnfoldDensity::ScanLcurve>: logtau=-3.156399 X=0.950084 Y=7.697762\n",
      "Info in <TUnfoldDensity::ScanLcurve>: logtau=-3.164212 X=0.949569 Y=7.697954\n",
      "Info in <TUnfoldDensity::ScanLcurve>: logtau=-3.285306 X=0.944309 Y=7.700508\n",
      "Info in <TUnfoldDensity::ScanLcurve>: logtau=-3.511868 X=0.940661 Y=7.704243\n",
      "Info in <TUnfoldDensity::ScanLcurve>: logtau=-3.172024 X=0.949082 Y=7.698142\n",
      "Info in <TUnfoldDensity::ScanLcurve>: logtau=-3.543118 X=0.940427 Y=7.704700\n",
      "Info in <TUnfoldDensity::ScanLcurve>: logtau=-3.300931 X=0.943884 Y=7.700796\n",
      "Info in <TUnfoldDensity::ScanLcurve>: logtau=-3.179837 X=0.948622 Y=7.698327\n",
      "Info in <TUnfoldDensity::ScanLcurve>: logtau=-3.574368 X=0.940232 Y=7.705139\n",
      "Info in <TUnfoldDensity::ScanLcurve>: logtau=-3.316556 X=0.943496 Y=7.701077\n",
      "Info in <TUnfoldDensity::ScanLcurve>: logtau=-3.187649 X=0.948186 Y=7.698507\n",
      "Info in <TUnfoldDensity::ScanLcurve>: logtau=-3.195462 X=0.947774 Y=7.698684\n",
      "Info in <TUnfoldDensity::ScanLcurve>: logtau=-3.605618 X=0.940070 Y=7.705559\n",
      "Info in <TUnfoldDensity::ScanLcurve>: Result logtau=-3.494196 X=0.940812 Y=7.703979\n",
      "Info in <TUnfold::SetConstraint>: fConstraint=1\n",
      "Warning in <TUnfold::TUnfold>: 10 output bins do not depend on the input data  0 7-9 17-18 26-27 36 55\n",
      "Info in <TUnfold::TUnfold>: 108 input bins and 46 output bins\n",
      "Info in <TUnfoldDensity::TUnfold>: *NOT* unfolding bin #0 (xaxis:generator[ufl])\n",
      "Info in <TUnfoldDensity::TUnfold>: *NOT* unfolding bin #7 (xaxis:generator[6.5,7.5])\n",
      "Info in <TUnfoldDensity::TUnfold>: *NOT* unfolding bin #8 (xaxis:generator[7.5,8.5])\n",
      "Info in <TUnfoldDensity::TUnfold>: *NOT* unfolding bin #9 (xaxis:generator[8.5,9.5])\n",
      "Info in <TUnfoldDensity::TUnfold>: *NOT* unfolding bin #17 (xaxis:generator[16.5,17.5])\n",
      "Info in <TUnfoldDensity::TUnfold>: *NOT* unfolding bin #18 (xaxis:generator[17.5,18.5])\n",
      "Info in <TUnfoldDensity::TUnfold>: *NOT* unfolding bin #26 (xaxis:generator[25.5,26.5])\n",
      "Info in <TUnfoldDensity::TUnfold>: *NOT* unfolding bin #27 (xaxis:generator[26.5,27.5])\n",
      "Info in <TUnfoldDensity::TUnfold>: *NOT* unfolding bin #36 (xaxis:generator[35.5,36.5])\n",
      "Info in <TUnfoldDensity::TUnfold>: *NOT* unfolding bin #55 (xaxis:generator[ofl])\n",
      "Info in <TUnfoldDensity::RegularizeOneDistribution>: regularizing xaxis regMode=3 densityMode=3 axisSteering=*[UOB]\n",
      "Warning in <TUnfoldDensity::SetInput>: 31/108 input bins have zero error, and are ignored.\n",
      "Info in <TUnfoldDensity::ScanLcurve>: logtau=-Infinity X=1.021113 Y=7.712302\n",
      "Info in <TUnfoldDensity::ScanLcurve>: logtau=-3.138855 X=1.027916 Y=7.705046\n",
      "Info in <TUnfoldDensity::ScanLcurve>: logtau=-3.638855 X=1.021327 Y=7.710349\n",
      "Info in <TUnfoldDensity::ScanLcurve>: logtau=-3.388855 X=1.022239 Y=7.708536\n",
      "Info in <TUnfoldDensity::ScanLcurve>: logtau=-3.263855 X=1.023770 Y=7.707158\n",
      "Info in <TUnfoldDensity::ScanLcurve>: logtau=-3.201355 X=1.025321 Y=7.706225\n",
      "Info in <TUnfoldDensity::ScanLcurve>: logtau=-3.170105 X=1.026451 Y=7.705671\n",
      "Info in <TUnfoldDensity::ScanLcurve>: logtau=-3.326355 X=1.022827 Y=7.707911\n",
      "Info in <TUnfoldDensity::ScanLcurve>: logtau=-3.513855 X=1.021610 Y=7.709542\n",
      "Info in <TUnfoldDensity::ScanLcurve>: logtau=-3.232605 X=1.024448 Y=7.706718\n",
      "Info in <TUnfoldDensity::ScanLcurve>: logtau=-3.154480 X=1.027136 Y=7.705368\n",
      "Info in <TUnfoldDensity::ScanLcurve>: logtau=-3.185730 X=1.025850 Y=7.705956\n",
      "Info in <TUnfoldDensity::ScanLcurve>: logtau=-3.295105 X=1.023241 Y=7.707554\n",
      "Info in <TUnfoldDensity::ScanLcurve>: logtau=-3.451355 X=1.021861 Y=7.709071\n",
      "Info in <TUnfoldDensity::ScanLcurve>: logtau=-3.216980 X=1.024857 Y=7.706478\n",
      "Info in <TUnfoldDensity::ScanLcurve>: logtau=-3.357605 X=1.022499 Y=7.708237\n",
      "Info in <TUnfoldDensity::ScanLcurve>: logtau=-3.576355 X=1.021441 Y=7.709966\n",
      "Info in <TUnfoldDensity::ScanLcurve>: logtau=-3.146668 X=1.027513 Y=7.705210\n",
      "Info in <TUnfoldDensity::ScanLcurve>: logtau=-3.248230 X=1.024087 Y=7.706944\n",
      "Info in <TUnfoldDensity::ScanLcurve>: logtau=-3.162293 X=1.026782 Y=7.705522\n",
      "Info in <TUnfoldDensity::ScanLcurve>: logtau=-3.177918 X=1.026141 Y=7.705815\n",
      "Info in <TUnfoldDensity::ScanLcurve>: logtau=-3.279480 X=1.023489 Y=7.707361\n",
      "Info in <TUnfoldDensity::ScanLcurve>: logtau=-3.420105 X=1.022030 Y=7.708812\n",
      "Info in <TUnfoldDensity::ScanLcurve>: logtau=-3.193543 X=1.025577 Y=7.706092\n",
      "Info in <TUnfoldDensity::ScanLcurve>: logtau=-3.310730 X=1.023022 Y=7.707737\n",
      "Info in <TUnfoldDensity::ScanLcurve>: logtau=-3.482605 X=1.021723 Y=7.709313\n",
      "Info in <TUnfoldDensity::ScanLcurve>: logtau=-3.209168 X=1.025081 Y=7.706353\n",
      "Info in <TUnfoldDensity::ScanLcurve>: logtau=-3.224793 X=1.024646 Y=7.706600\n",
      "Info in <TUnfoldDensity::ScanLcurve>: logtau=-3.341980 X=1.022654 Y=7.708078\n",
      "Info in <TUnfoldDensity::ScanLcurve>: logtau=-3.545105 X=1.021518 Y=7.709759\n",
      "Info in <TUnfoldDensity::ScanLcurve>: logtau=-3.142761 X=1.027711 Y=7.705128\n",
      "Info in <TUnfoldDensity::ScanLcurve>: logtau=-3.240418 X=1.024262 Y=7.706832\n",
      "Info in <TUnfoldDensity::ScanLcurve>: logtau=-3.150574 X=1.027322 Y=7.705289\n",
      "Info in <TUnfoldDensity::ScanLcurve>: logtau=-3.607605 X=1.021378 Y=7.710162\n",
      "Info in <TUnfoldDensity::ScanLcurve>: logtau=-3.373230 X=1.022362 Y=7.708389\n",
      "Info in <TUnfoldDensity::ScanLcurve>: logtau=-3.158386 X=1.026956 Y=7.705445\n",
      "Info in <TUnfoldDensity::ScanLcurve>: logtau=-3.256043 X=1.023924 Y=7.707052\n",
      "Info in <TUnfoldDensity::ScanLcurve>: logtau=-3.166199 X=1.026614 Y=7.705597\n",
      "Info in <TUnfoldDensity::ScanLcurve>: logtau=-3.404480 X=1.022129 Y=7.708677\n",
      "Info in <TUnfoldDensity::ScanLcurve>: logtau=-3.271668 X=1.023625 Y=7.707261\n",
      "Info in <TUnfoldDensity::ScanLcurve>: logtau=-3.174011 X=1.026293 Y=7.705744\n",
      "Info in <TUnfoldDensity::ScanLcurve>: logtau=-3.181824 X=1.025993 Y=7.705886\n",
      "Info in <TUnfoldDensity::ScanLcurve>: logtau=-3.287293 X=1.023361 Y=7.707458\n",
      "Info in <TUnfoldDensity::ScanLcurve>: logtau=-3.435730 X=1.021941 Y=7.708944\n",
      "Info in <TUnfoldDensity::ScanLcurve>: logtau=-3.189636 X=1.025711 Y=7.706025\n",
      "Info in <TUnfoldDensity::ScanLcurve>: logtau=-3.197449 X=1.025447 Y=7.706159\n",
      "Info in <TUnfoldDensity::ScanLcurve>: logtau=-3.302918 X=1.023128 Y=7.707646\n",
      "Info in <TUnfoldDensity::ScanLcurve>: logtau=-3.466980 X=1.021788 Y=7.709194\n",
      "Info in <TUnfoldDensity::ScanLcurve>: logtau=-3.205261 X=1.025199 Y=7.706289\n",
      "Info in <TUnfoldDensity::ScanLcurve>: logtau=-3.318543 X=1.022921 Y=7.707825\n",
      "Info in <TUnfoldDensity::ScanLcurve>: Result logtau=-3.497343 X=1.021667 Y=7.709423\n",
      "Info in <TUnfold::SetConstraint>: fConstraint=1\n",
      "Warning in <TUnfold::TUnfold>: 10 output bins do not depend on the input data  0 7-9 17-18 26-27 36 55\n",
      "Info in <TUnfold::TUnfold>: 108 input bins and 46 output bins\n",
      "Info in <TUnfoldDensity::TUnfold>: *NOT* unfolding bin #0 (xaxis:generator[ufl])\n",
      "Info in <TUnfoldDensity::TUnfold>: *NOT* unfolding bin #7 (xaxis:generator[6.5,7.5])\n",
      "Info in <TUnfoldDensity::TUnfold>: *NOT* unfolding bin #8 (xaxis:generator[7.5,8.5])\n",
      "Info in <TUnfoldDensity::TUnfold>: *NOT* unfolding bin #9 (xaxis:generator[8.5,9.5])\n",
      "Info in <TUnfoldDensity::TUnfold>: *NOT* unfolding bin #17 (xaxis:generator[16.5,17.5])\n",
      "Info in <TUnfoldDensity::TUnfold>: *NOT* unfolding bin #18 (xaxis:generator[17.5,18.5])\n",
      "Info in <TUnfoldDensity::TUnfold>: *NOT* unfolding bin #26 (xaxis:generator[25.5,26.5])\n",
      "Info in <TUnfoldDensity::TUnfold>: *NOT* unfolding bin #27 (xaxis:generator[26.5,27.5])\n",
      "Info in <TUnfoldDensity::TUnfold>: *NOT* unfolding bin #36 (xaxis:generator[35.5,36.5])\n",
      "Info in <TUnfoldDensity::TUnfold>: *NOT* unfolding bin #55 (xaxis:generator[ofl])\n",
      "Info in <TUnfoldDensity::RegularizeOneDistribution>: regularizing xaxis regMode=3 densityMode=3 axisSteering=*[UOB]\n",
      "Warning in <TUnfoldDensity::SetInput>: 31/108 input bins have zero error, and are ignored.\n",
      "Info in <TUnfoldDensity::ScanLcurve>: logtau=-Infinity X=1.105823 Y=7.719157\n",
      "Info in <TUnfoldDensity::ScanLcurve>: logtau=-3.124944 X=1.116543 Y=7.704690\n",
      "Info in <TUnfoldDensity::ScanLcurve>: logtau=-3.624944 X=1.106227 Y=7.715314\n",
      "Info in <TUnfoldDensity::ScanLcurve>: logtau=-3.374944 X=1.108208 Y=7.710838\n",
      "Info in <TUnfoldDensity::ScanLcurve>: logtau=-3.249944 X=1.110930 Y=7.708009\n",
      "Info in <TUnfoldDensity::ScanLcurve>: logtau=-3.187444 X=1.113201 Y=7.706439\n",
      "Info in <TUnfoldDensity::ScanLcurve>: logtau=-3.499944 X=1.106852 Y=7.713313\n",
      "Info in <TUnfoldDensity::ScanLcurve>: logtau=-3.312444 X=1.109339 Y=7.709466\n",
      "Info in <TUnfoldDensity::ScanLcurve>: logtau=-3.156194 X=1.114703 Y=7.705592\n",
      "Info in <TUnfoldDensity::ScanLcurve>: logtau=-3.437444 X=1.107408 Y=7.712125\n",
      "Info in <TUnfoldDensity::ScanLcurve>: logtau=-3.218694 X=1.111962 Y=7.707241\n",
      "Info in <TUnfoldDensity::ScanLcurve>: logtau=-3.281194 X=1.110066 Y=7.708749\n",
      "Info in <TUnfoldDensity::ScanLcurve>: logtau=-3.562444 X=1.106475 Y=7.714380\n",
      "Info in <TUnfoldDensity::ScanLcurve>: logtau=-3.140569 X=1.115575 Y=7.705149\n",
      "Info in <TUnfoldDensity::ScanLcurve>: logtau=-3.343694 X=1.108726 Y=7.710162\n",
      "Info in <TUnfoldDensity::ScanLcurve>: logtau=-3.171819 X=1.113915 Y=7.706022\n",
      "Info in <TUnfoldDensity::ScanLcurve>: logtau=-3.406194 X=1.107773 Y=7.711493\n",
      "Info in <TUnfoldDensity::ScanLcurve>: logtau=-3.203069 X=1.112552 Y=7.706845\n",
      "Info in <TUnfoldDensity::ScanLcurve>: logtau=-3.468694 X=1.107104 Y=7.712733\n",
      "Info in <TUnfoldDensity::ScanLcurve>: logtau=-3.234319 X=1.111423 Y=7.707629\n",
      "Info in <TUnfoldDensity::ScanLcurve>: logtau=-3.265569 X=1.110479 Y=7.708382\n",
      "Info in <TUnfoldDensity::ScanLcurve>: logtau=-3.531194 X=1.106645 Y=7.713863\n",
      "Info in <TUnfoldDensity::ScanLcurve>: logtau=-3.132757 X=1.116046 Y=7.704921\n",
      "Info in <TUnfoldDensity::ScanLcurve>: logtau=-3.296819 X=1.109687 Y=7.709110\n",
      "Info in <TUnfoldDensity::ScanLcurve>: logtau=-3.148382 X=1.115128 Y=7.705372\n",
      "Info in <TUnfoldDensity::ScanLcurve>: logtau=-3.593694 X=1.106338 Y=7.714864\n",
      "Info in <TUnfoldDensity::ScanLcurve>: logtau=-3.328069 X=1.109019 Y=7.709816\n",
      "Info in <TUnfoldDensity::ScanLcurve>: logtau=-3.164007 X=1.114300 Y=7.705809\n",
      "Info in <TUnfoldDensity::ScanLcurve>: logtau=-3.359319 X=1.108456 Y=7.710502\n",
      "Info in <TUnfoldDensity::ScanLcurve>: logtau=-3.179632 X=1.113549 Y=7.706232\n",
      "Info in <TUnfoldDensity::ScanLcurve>: logtau=-3.390569 X=1.107981 Y=7.711168\n",
      "Info in <TUnfoldDensity::ScanLcurve>: logtau=-3.195257 X=1.112869 Y=7.706643\n",
      "Info in <TUnfoldDensity::ScanLcurve>: logtau=-3.421819 X=1.107583 Y=7.711812\n",
      "Info in <TUnfoldDensity::ScanLcurve>: logtau=-3.210882 X=1.112250 Y=7.707044\n",
      "Info in <TUnfoldDensity::ScanLcurve>: logtau=-3.453069 X=1.107249 Y=7.712432\n",
      "Info in <TUnfoldDensity::ScanLcurve>: logtau=-3.226507 X=1.111686 Y=7.707436\n",
      "Info in <TUnfoldDensity::ScanLcurve>: logtau=-3.484319 X=1.106972 Y=7.713026\n",
      "Info in <TUnfoldDensity::ScanLcurve>: logtau=-3.242132 X=1.111171 Y=7.707820\n",
      "Info in <TUnfoldDensity::ScanLcurve>: logtau=-3.515569 X=1.106743 Y=7.713592\n",
      "Info in <TUnfoldDensity::ScanLcurve>: logtau=-3.257757 X=1.110700 Y=7.708197\n",
      "Info in <TUnfoldDensity::ScanLcurve>: logtau=-3.273382 X=1.110268 Y=7.708567\n",
      "Info in <TUnfoldDensity::ScanLcurve>: logtau=-3.128850 X=1.116291 Y=7.704806\n",
      "Info in <TUnfoldDensity::ScanLcurve>: logtau=-3.546819 X=1.106556 Y=7.714126\n",
      "Info in <TUnfoldDensity::ScanLcurve>: logtau=-3.289007 X=1.109873 Y=7.708930\n",
      "Info in <TUnfoldDensity::ScanLcurve>: logtau=-3.136663 X=1.115808 Y=7.705036\n",
      "Info in <TUnfoldDensity::ScanLcurve>: logtau=-3.578069 X=1.106403 Y=7.714627\n",
      "Info in <TUnfoldDensity::ScanLcurve>: logtau=-3.144475 X=1.115349 Y=7.705261\n",
      "Info in <TUnfoldDensity::ScanLcurve>: logtau=-3.304632 X=1.109509 Y=7.709289\n",
      "Info in <TUnfoldDensity::ScanLcurve>: logtau=-3.152288 X=1.114913 Y=7.705483\n",
      "Info in <TUnfoldDensity::ScanLcurve>: logtau=-3.320257 X=1.109176 Y=7.709642\n",
      "Info in <TUnfoldDensity::ScanLcurve>: Result logtau=-3.427597 X=1.107516 Y=7.711928\n",
      "Info in <TUnfold::SetConstraint>: fConstraint=1\n",
      "Warning in <TUnfold::TUnfold>: 10 output bins do not depend on the input data  0 7-9 17-18 26-27 36 55\n",
      "Info in <TUnfold::TUnfold>: 108 input bins and 46 output bins\n",
      "Info in <TUnfoldDensity::TUnfold>: *NOT* unfolding bin #0 (xaxis:generator[ufl])\n",
      "Info in <TUnfoldDensity::TUnfold>: *NOT* unfolding bin #7 (xaxis:generator[6.5,7.5])\n",
      "Info in <TUnfoldDensity::TUnfold>: *NOT* unfolding bin #8 (xaxis:generator[7.5,8.5])\n",
      "Info in <TUnfoldDensity::TUnfold>: *NOT* unfolding bin #9 (xaxis:generator[8.5,9.5])\n",
      "Info in <TUnfoldDensity::TUnfold>: *NOT* unfolding bin #17 (xaxis:generator[16.5,17.5])\n",
      "Info in <TUnfoldDensity::TUnfold>: *NOT* unfolding bin #18 (xaxis:generator[17.5,18.5])\n",
      "Info in <TUnfoldDensity::TUnfold>: *NOT* unfolding bin #26 (xaxis:generator[25.5,26.5])\n",
      "Info in <TUnfoldDensity::TUnfold>: *NOT* unfolding bin #27 (xaxis:generator[26.5,27.5])\n",
      "Info in <TUnfoldDensity::TUnfold>: *NOT* unfolding bin #36 (xaxis:generator[35.5,36.5])\n",
      "Info in <TUnfoldDensity::TUnfold>: *NOT* unfolding bin #55 (xaxis:generator[ofl])\n",
      "Info in <TUnfoldDensity::RegularizeOneDistribution>: regularizing xaxis regMode=3 densityMode=3 axisSteering=*[UOB]\n",
      "Warning in <TUnfoldDensity::SetInput>: 31/108 input bins have zero error, and are ignored.\n",
      "Info in <TUnfoldDensity::ScanLcurve>: logtau=-Infinity X=1.087441 Y=7.714833\n",
      "Info in <TUnfoldDensity::ScanLcurve>: logtau=-3.126715 X=1.100249 Y=7.697008\n",
      "Info in <TUnfoldDensity::ScanLcurve>: logtau=-3.626715 X=1.087977 Y=7.709849\n",
      "Info in <TUnfoldDensity::ScanLcurve>: logtau=-3.376715 X=1.090530 Y=7.704168\n",
      "Info in <TUnfoldDensity::ScanLcurve>: logtau=-3.251715 X=1.093861 Y=7.700751\n",
      "Info in <TUnfoldDensity::ScanLcurve>: logtau=-3.189215 X=1.096508 Y=7.698944\n",
      "Info in <TUnfoldDensity::ScanLcurve>: logtau=-3.501715 X=1.088794 Y=7.707283\n",
      "Info in <TUnfoldDensity::ScanLcurve>: logtau=-3.314215 X=1.091938 Y=7.702487\n",
      "Info in <TUnfoldDensity::ScanLcurve>: logtau=-3.157965 X=1.098209 Y=7.697998\n",
      "Info in <TUnfoldDensity::ScanLcurve>: logtau=-3.439215 X=1.089512 Y=7.705778\n",
      "Info in <TUnfoldDensity::ScanLcurve>: logtau=-3.220465 X=1.095076 Y=7.699859\n",
      "Info in <TUnfoldDensity::ScanLcurve>: logtau=-3.564215 X=1.088302 Y=7.708649\n",
      "Info in <TUnfoldDensity::ScanLcurve>: logtau=-3.282965 X=1.092825 Y=7.701626\n",
      "Info in <TUnfoldDensity::ScanLcurve>: logtau=-3.142340 X=1.099181 Y=7.697509\n",
      "Info in <TUnfoldDensity::ScanLcurve>: logtau=-3.345465 X=1.091178 Y=7.703335\n",
      "Info in <TUnfoldDensity::ScanLcurve>: logtau=-3.173590 X=1.097321 Y=7.698476\n",
      "Info in <TUnfoldDensity::ScanLcurve>: logtau=-3.407965 X=1.089978 Y=7.704984\n",
      "Info in <TUnfoldDensity::ScanLcurve>: logtau=-3.204840 X=1.095762 Y=7.699405\n",
      "Info in <TUnfoldDensity::ScanLcurve>: logtau=-3.470465 X=1.089120 Y=7.706546\n",
      "Info in <TUnfoldDensity::ScanLcurve>: logtau=-3.236090 X=1.094444 Y=7.700308\n",
      "Info in <TUnfoldDensity::ScanLcurve>: logtau=-3.532965 X=1.088524 Y=7.707985\n",
      "Info in <TUnfoldDensity::ScanLcurve>: logtau=-3.267340 X=1.093323 Y=7.701191\n",
      "Info in <TUnfoldDensity::ScanLcurve>: logtau=-3.595465 X=1.088122 Y=7.709271\n",
      "Info in <TUnfoldDensity::ScanLcurve>: logtau=-3.298590 X=1.092364 Y=7.702058\n",
      "Info in <TUnfoldDensity::ScanLcurve>: logtau=-3.134527 X=1.099703 Y=7.697260\n",
      "Info in <TUnfoldDensity::ScanLcurve>: logtau=-3.329840 X=1.091543 Y=7.702913\n",
      "Info in <TUnfoldDensity::ScanLcurve>: logtau=-3.150152 X=1.098684 Y=7.697755\n",
      "Info in <TUnfoldDensity::ScanLcurve>: logtau=-3.361090 X=1.090841 Y=7.703753\n",
      "Info in <TUnfoldDensity::ScanLcurve>: logtau=-3.165777 X=1.097755 Y=7.698238\n",
      "Info in <TUnfoldDensity::ScanLcurve>: logtau=-3.392340 X=1.090243 Y=7.704578\n",
      "Info in <TUnfoldDensity::ScanLcurve>: logtau=-3.181402 X=1.096905 Y=7.698711\n",
      "Info in <TUnfoldDensity::ScanLcurve>: logtau=-3.423590 X=1.089735 Y=7.705384\n",
      "Info in <TUnfoldDensity::ScanLcurve>: logtau=-3.197027 X=1.096127 Y=7.699176\n",
      "Info in <TUnfoldDensity::ScanLcurve>: logtau=-3.454840 X=1.089307 Y=7.706165\n",
      "Info in <TUnfoldDensity::ScanLcurve>: logtau=-3.212652 X=1.095412 Y=7.699633\n",
      "Info in <TUnfoldDensity::ScanLcurve>: logtau=-3.486090 X=1.088949 Y=7.706918\n",
      "Info in <TUnfoldDensity::ScanLcurve>: logtau=-3.228277 X=1.094754 Y=7.700084\n",
      "Info in <TUnfoldDensity::ScanLcurve>: logtau=-3.517340 X=1.088652 Y=7.707639\n",
      "Info in <TUnfoldDensity::ScanLcurve>: logtau=-3.243902 X=1.094147 Y=7.700530\n",
      "Info in <TUnfoldDensity::ScanLcurve>: logtau=-3.548590 X=1.088407 Y=7.708322\n",
      "Info in <TUnfoldDensity::ScanLcurve>: logtau=-3.259527 X=1.093586 Y=7.700972\n",
      "Info in <TUnfoldDensity::ScanLcurve>: logtau=-3.275152 X=1.093069 Y=7.701409\n",
      "Info in <TUnfoldDensity::ScanLcurve>: logtau=-3.579840 X=1.088207 Y=7.708965\n",
      "Info in <TUnfoldDensity::ScanLcurve>: logtau=-3.290777 X=1.092590 Y=7.701843\n",
      "Info in <TUnfoldDensity::ScanLcurve>: logtau=-3.306402 X=1.092147 Y=7.702273\n",
      "Info in <TUnfoldDensity::ScanLcurve>: logtau=-3.130621 X=1.099973 Y=7.697134\n",
      "Info in <TUnfoldDensity::ScanLcurve>: logtau=-3.611090 X=1.088045 Y=7.709566\n",
      "Info in <TUnfoldDensity::ScanLcurve>: logtau=-3.322027 X=1.091737 Y=7.702700\n",
      "Info in <TUnfoldDensity::ScanLcurve>: logtau=-3.138433 X=1.099439 Y=7.697385\n",
      "Info in <TUnfoldDensity::ScanLcurve>: logtau=-3.337652 X=1.091357 Y=7.703124\n",
      "Info in <TUnfoldDensity::ScanLcurve>: Result logtau=-3.421491 X=1.089767 Y=7.705330\n",
      "Info in <TUnfold::SetConstraint>: fConstraint=1\n",
      "Warning in <TUnfold::TUnfold>: 10 output bins do not depend on the input data  0 7-9 17-18 26-27 36 55\n",
      "Info in <TUnfold::TUnfold>: 108 input bins and 46 output bins\n",
      "Info in <TUnfoldDensity::TUnfold>: *NOT* unfolding bin #0 (xaxis:generator[ufl])\n",
      "Info in <TUnfoldDensity::TUnfold>: *NOT* unfolding bin #7 (xaxis:generator[6.5,7.5])\n",
      "Info in <TUnfoldDensity::TUnfold>: *NOT* unfolding bin #8 (xaxis:generator[7.5,8.5])\n",
      "Info in <TUnfoldDensity::TUnfold>: *NOT* unfolding bin #9 (xaxis:generator[8.5,9.5])\n",
      "Info in <TUnfoldDensity::TUnfold>: *NOT* unfolding bin #17 (xaxis:generator[16.5,17.5])\n",
      "Info in <TUnfoldDensity::TUnfold>: *NOT* unfolding bin #18 (xaxis:generator[17.5,18.5])\n",
      "Info in <TUnfoldDensity::TUnfold>: *NOT* unfolding bin #26 (xaxis:generator[25.5,26.5])\n",
      "Info in <TUnfoldDensity::TUnfold>: *NOT* unfolding bin #27 (xaxis:generator[26.5,27.5])\n",
      "Info in <TUnfoldDensity::TUnfold>: *NOT* unfolding bin #36 (xaxis:generator[35.5,36.5])\n",
      "Info in <TUnfoldDensity::TUnfold>: *NOT* unfolding bin #55 (xaxis:generator[ofl])\n",
      "Info in <TUnfoldDensity::RegularizeOneDistribution>: regularizing xaxis regMode=3 densityMode=3 axisSteering=*[UOB]\n",
      "Warning in <TUnfoldDensity::SetInput>: 31/108 input bins have zero error, and are ignored.\n",
      "Info in <TUnfoldDensity::ScanLcurve>: logtau=-Infinity X=0.956422 Y=7.742358\n",
      "Info in <TUnfoldDensity::ScanLcurve>: logtau=-3.165802 X=0.976762 Y=7.715669\n",
      "Info in <TUnfoldDensity::ScanLcurve>: logtau=-3.665802 X=0.957478 Y=7.734114\n",
      "Info in <TUnfoldDensity::ScanLcurve>: logtau=-3.415802 X=0.962231 Y=7.725120\n",
      "Info in <TUnfoldDensity::ScanLcurve>: logtau=-3.290802 X=0.967787 Y=7.720233\n",
      "Info in <TUnfoldDensity::ScanLcurve>: logtau=-3.540802 X=0.959046 Y=7.729967\n",
      "Info in <TUnfoldDensity::ScanLcurve>: logtau=-3.228302 X=0.971730 Y=7.717918\n",
      "Info in <TUnfoldDensity::ScanLcurve>: logtau=-3.353302 X=0.964666 Y=7.722644\n",
      "Info in <TUnfoldDensity::ScanLcurve>: logtau=-3.478302 X=0.960388 Y=7.727591\n",
      "Info in <TUnfoldDensity::ScanLcurve>: logtau=-3.197052 X=0.974085 Y=7.716789\n",
      "Info in <TUnfoldDensity::ScanLcurve>: logtau=-3.259552 X=0.969643 Y=7.719064\n",
      "Info in <TUnfoldDensity::ScanLcurve>: logtau=-3.603302 X=0.958108 Y=7.732162\n",
      "Info in <TUnfoldDensity::ScanLcurve>: logtau=-3.322052 X=0.966134 Y=7.721427\n",
      "Info in <TUnfoldDensity::ScanLcurve>: logtau=-3.384552 X=0.963369 Y=7.723877\n",
      "Info in <TUnfoldDensity::ScanLcurve>: logtau=-3.447052 X=0.961242 Y=7.726362\n",
      "Info in <TUnfoldDensity::ScanLcurve>: logtau=-3.181427 X=0.975379 Y=7.716229\n",
      "Info in <TUnfoldDensity::ScanLcurve>: logtau=-3.509552 X=0.959661 Y=7.728797\n",
      "Info in <TUnfoldDensity::ScanLcurve>: logtau=-3.212677 X=0.972871 Y=7.717352\n",
      "Info in <TUnfoldDensity::ScanLcurve>: logtau=-3.572052 X=0.958533 Y=7.731091\n",
      "Info in <TUnfoldDensity::ScanLcurve>: logtau=-3.243927 X=0.970656 Y=7.718488\n",
      "Info in <TUnfoldDensity::ScanLcurve>: logtau=-3.275177 X=0.968688 Y=7.719646\n",
      "Info in <TUnfoldDensity::ScanLcurve>: logtau=-3.634552 X=0.957760 Y=7.733171\n",
      "Info in <TUnfoldDensity::ScanLcurve>: logtau=-3.306427 X=0.966936 Y=7.720827\n",
      "Info in <TUnfoldDensity::ScanLcurve>: logtau=-3.337677 X=0.965378 Y=7.722033\n",
      "Info in <TUnfoldDensity::ScanLcurve>: logtau=-3.368927 X=0.963997 Y=7.723259\n",
      "Info in <TUnfoldDensity::ScanLcurve>: logtau=-3.400177 X=0.962781 Y=7.724498\n",
      "Info in <TUnfoldDensity::ScanLcurve>: logtau=-3.431427 X=0.961719 Y=7.725742\n",
      "Info in <TUnfoldDensity::ScanLcurve>: logtau=-3.462677 X=0.960799 Y=7.726979\n",
      "Info in <TUnfoldDensity::ScanLcurve>: logtau=-3.173615 X=0.976059 Y=7.715949\n",
      "Info in <TUnfoldDensity::ScanLcurve>: logtau=-3.189240 X=0.974722 Y=7.716509\n",
      "Info in <TUnfoldDensity::ScanLcurve>: logtau=-3.493927 X=0.960010 Y=7.728198\n",
      "Info in <TUnfoldDensity::ScanLcurve>: logtau=-3.204865 X=0.973469 Y=7.717070\n",
      "Info in <TUnfoldDensity::ScanLcurve>: logtau=-3.525177 X=0.959340 Y=7.729387\n",
      "Info in <TUnfoldDensity::ScanLcurve>: logtau=-3.220490 X=0.972292 Y=7.717634\n",
      "Info in <TUnfoldDensity::ScanLcurve>: logtau=-3.556427 X=0.958778 Y=7.730536\n",
      "Info in <TUnfoldDensity::ScanLcurve>: logtau=-3.236115 X=0.971185 Y=7.718203\n",
      "Info in <TUnfoldDensity::ScanLcurve>: logtau=-3.251740 X=0.970142 Y=7.718776\n",
      "Info in <TUnfoldDensity::ScanLcurve>: logtau=-3.587677 X=0.958310 Y=7.731634\n",
      "Info in <TUnfoldDensity::ScanLcurve>: logtau=-3.267365 X=0.969159 Y=7.719354\n",
      "Info in <TUnfoldDensity::ScanLcurve>: logtau=-3.282990 X=0.968231 Y=7.719939\n",
      "Info in <TUnfoldDensity::ScanLcurve>: logtau=-3.618927 X=0.957925 Y=7.732674\n",
      "Info in <TUnfoldDensity::ScanLcurve>: logtau=-3.298615 X=0.967355 Y=7.720530\n",
      "Info in <TUnfoldDensity::ScanLcurve>: logtau=-3.314240 X=0.966529 Y=7.721127\n",
      "Info in <TUnfoldDensity::ScanLcurve>: logtau=-3.650177 X=0.957612 Y=7.733651\n",
      "Info in <TUnfoldDensity::ScanLcurve>: logtau=-3.329865 X=0.965750 Y=7.721729\n",
      "Info in <TUnfoldDensity::ScanLcurve>: logtau=-3.345490 X=0.965017 Y=7.722338\n",
      "Info in <TUnfoldDensity::ScanLcurve>: logtau=-3.361115 X=0.964326 Y=7.722951\n",
      "Info in <TUnfoldDensity::ScanLcurve>: logtau=-3.376740 X=0.963678 Y=7.723568\n",
      "Info in <TUnfoldDensity::ScanLcurve>: logtau=-3.392365 X=0.963070 Y=7.724188\n",
      "Info in <TUnfoldDensity::ScanLcurve>: logtau=-3.407990 X=0.962502 Y=7.724809\n",
      "Info in <TUnfoldDensity::ScanLcurve>: Result logtau=-3.492481 X=0.960043 Y=7.728142\n",
      "Info in <TUnfold::SetConstraint>: fConstraint=1\n",
      "Warning in <TUnfold::TUnfold>: 10 output bins do not depend on the input data  0 7-9 17-18 26-27 36 55\n",
      "Info in <TUnfold::TUnfold>: 108 input bins and 46 output bins\n",
      "Info in <TUnfoldDensity::TUnfold>: *NOT* unfolding bin #0 (xaxis:generator[ufl])\n",
      "Info in <TUnfoldDensity::TUnfold>: *NOT* unfolding bin #7 (xaxis:generator[6.5,7.5])\n",
      "Info in <TUnfoldDensity::TUnfold>: *NOT* unfolding bin #8 (xaxis:generator[7.5,8.5])\n",
      "Info in <TUnfoldDensity::TUnfold>: *NOT* unfolding bin #9 (xaxis:generator[8.5,9.5])\n",
      "Info in <TUnfoldDensity::TUnfold>: *NOT* unfolding bin #17 (xaxis:generator[16.5,17.5])\n",
      "Info in <TUnfoldDensity::TUnfold>: *NOT* unfolding bin #18 (xaxis:generator[17.5,18.5])\n",
      "Info in <TUnfoldDensity::TUnfold>: *NOT* unfolding bin #26 (xaxis:generator[25.5,26.5])\n",
      "Info in <TUnfoldDensity::TUnfold>: *NOT* unfolding bin #27 (xaxis:generator[26.5,27.5])\n",
      "Info in <TUnfoldDensity::TUnfold>: *NOT* unfolding bin #36 (xaxis:generator[35.5,36.5])\n",
      "Info in <TUnfoldDensity::TUnfold>: *NOT* unfolding bin #55 (xaxis:generator[ofl])\n",
      "Info in <TUnfoldDensity::RegularizeOneDistribution>: regularizing xaxis regMode=3 densityMode=3 axisSteering=*[UOB]\n",
      "Warning in <TUnfoldDensity::SetInput>: 31/108 input bins have zero error, and are ignored.\n",
      "Info in <TUnfoldDensity::ScanLcurve>: logtau=-Infinity X=0.865249 Y=7.713647\n",
      "Info in <TUnfoldDensity::ScanLcurve>: logtau=-3.166395 X=0.873559 Y=7.707012\n",
      "Info in <TUnfoldDensity::ScanLcurve>: logtau=-3.666395 X=0.865471 Y=7.712118\n",
      "Info in <TUnfoldDensity::ScanLcurve>: logtau=-3.416395 X=0.866570 Y=7.710408\n",
      "Info in <TUnfoldDensity::ScanLcurve>: logtau=-3.291395 X=0.868452 Y=7.709069\n",
      "Info in <TUnfoldDensity::ScanLcurve>: logtau=-3.228895 X=0.870358 Y=7.708163\n",
      "Info in <TUnfoldDensity::ScanLcurve>: logtau=-3.197645 X=0.871749 Y=7.707623\n",
      "Info in <TUnfoldDensity::ScanLcurve>: logtau=-3.353895 X=0.867293 Y=7.709801\n",
      "Info in <TUnfoldDensity::ScanLcurve>: logtau=-3.260145 X=0.869285 Y=7.708642\n",
      "Info in <TUnfoldDensity::ScanLcurve>: logtau=-3.541395 X=0.865802 Y=7.711377\n",
      "Info in <TUnfoldDensity::ScanLcurve>: logtau=-3.182020 X=0.872594 Y=7.707327\n",
      "Info in <TUnfoldDensity::ScanLcurve>: logtau=-3.213270 X=0.871008 Y=7.707901\n",
      "Info in <TUnfoldDensity::ScanLcurve>: logtau=-3.322645 X=0.867803 Y=7.709453\n",
      "Info in <TUnfoldDensity::ScanLcurve>: logtau=-3.478895 X=0.866105 Y=7.710926\n",
      "Info in <TUnfoldDensity::ScanLcurve>: logtau=-3.244520 X=0.869787 Y=7.708409\n",
      "Info in <TUnfoldDensity::ScanLcurve>: logtau=-3.174207 X=0.873061 Y=7.707172\n",
      "Info in <TUnfoldDensity::ScanLcurve>: logtau=-3.385145 X=0.866890 Y=7.710117\n",
      "Info in <TUnfoldDensity::ScanLcurve>: logtau=-3.275770 X=0.868842 Y=7.708861\n",
      "Info in <TUnfoldDensity::ScanLcurve>: logtau=-3.189832 X=0.872158 Y=7.707477\n",
      "Info in <TUnfoldDensity::ScanLcurve>: logtau=-3.603895 X=0.865602 Y=7.711773\n",
      "Info in <TUnfoldDensity::ScanLcurve>: logtau=-3.205457 X=0.871367 Y=7.707764\n",
      "Info in <TUnfoldDensity::ScanLcurve>: logtau=-3.307020 X=0.868108 Y=7.709266\n",
      "Info in <TUnfoldDensity::ScanLcurve>: logtau=-3.221082 X=0.870673 Y=7.708034\n",
      "Info in <TUnfoldDensity::ScanLcurve>: logtau=-3.447645 X=0.866313 Y=7.710677\n",
      "Info in <TUnfoldDensity::ScanLcurve>: logtau=-3.236707 X=0.870063 Y=7.708288\n",
      "Info in <TUnfoldDensity::ScanLcurve>: logtau=-3.338270 X=0.867533 Y=7.709631\n",
      "Info in <TUnfoldDensity::ScanLcurve>: logtau=-3.252332 X=0.869528 Y=7.708527\n",
      "Info in <TUnfoldDensity::ScanLcurve>: logtau=-3.510145 X=0.865938 Y=7.711159\n",
      "Info in <TUnfoldDensity::ScanLcurve>: logtau=-3.170301 X=0.873306 Y=7.707093\n",
      "Info in <TUnfoldDensity::ScanLcurve>: logtau=-3.369520 X=0.867080 Y=7.709962\n",
      "Info in <TUnfoldDensity::ScanLcurve>: logtau=-3.267957 X=0.869056 Y=7.708753\n",
      "Info in <TUnfoldDensity::ScanLcurve>: logtau=-3.178114 X=0.872824 Y=7.707250\n",
      "Info in <TUnfoldDensity::ScanLcurve>: logtau=-3.185926 X=0.872373 Y=7.707403\n",
      "Info in <TUnfoldDensity::ScanLcurve>: logtau=-3.572645 X=0.865692 Y=7.711582\n",
      "Info in <TUnfoldDensity::ScanLcurve>: logtau=-3.283582 X=0.868641 Y=7.708967\n",
      "Info in <TUnfoldDensity::ScanLcurve>: logtau=-3.193739 X=0.871950 Y=7.707551\n",
      "Info in <TUnfoldDensity::ScanLcurve>: logtau=-3.400770 X=0.866721 Y=7.710266\n",
      "Info in <TUnfoldDensity::ScanLcurve>: logtau=-3.201551 X=0.871555 Y=7.707694\n",
      "Info in <TUnfoldDensity::ScanLcurve>: logtau=-3.299207 X=0.868275 Y=7.709169\n",
      "Info in <TUnfoldDensity::ScanLcurve>: logtau=-3.209364 X=0.871185 Y=7.707833\n",
      "Info in <TUnfoldDensity::ScanLcurve>: logtau=-3.432020 X=0.866434 Y=7.710545\n",
      "Info in <TUnfoldDensity::ScanLcurve>: logtau=-3.635145 X=0.865530 Y=7.711952\n",
      "Info in <TUnfoldDensity::ScanLcurve>: logtau=-3.217176 X=0.870838 Y=7.707968\n",
      "Info in <TUnfoldDensity::ScanLcurve>: logtau=-3.314832 X=0.867951 Y=7.709361\n",
      "Info in <TUnfoldDensity::ScanLcurve>: logtau=-3.224989 X=0.870513 Y=7.708099\n",
      "Info in <TUnfoldDensity::ScanLcurve>: logtau=-3.463270 X=0.866203 Y=7.710804\n",
      "Info in <TUnfoldDensity::ScanLcurve>: logtau=-3.330457 X=0.867664 Y=7.709543\n",
      "Info in <TUnfoldDensity::ScanLcurve>: logtau=-3.232801 X=0.870208 Y=7.708226\n",
      "Info in <TUnfoldDensity::ScanLcurve>: logtau=-3.240614 X=0.869923 Y=7.708349\n",
      "Info in <TUnfoldDensity::ScanLcurve>: logtau=-3.346082 X=0.867410 Y=7.709717\n",
      "Info in <TUnfoldDensity::ScanLcurve>: Result logtau=-3.588270 X=0.865645 Y=7.711679\n"
     ]
    }
   ],
   "source": [
    "orientation = ROOT.TUnfold.kHistMapOutputHoriz\n",
    "regMode = ROOT.TUnfold.kRegModeCurvature\n",
    "con = ROOT.TUnfold.kEConstraintArea #ROOT.TUnfold.kEConstraintArea\n",
    "mode =  ROOT.TUnfoldDensity.kDensityModeBinWidth\n",
    "axisSteering =  \"*[UOB]\"\n",
    "\n",
    "#u = ROOT.TUnfoldDensity(M, orientation, regMode, con, mode, genBin, detBin, \"signal\", axisSteering)\n",
    "u_list = []\n",
    "for i in range(10):\n",
    "    u_list.append(ROOT.TUnfoldDensity(jk_dic_root[str(i)],orientation,regMode,con))\n",
    "\n",
    "    u_list[i].SetInput(h)\n",
    "\n",
    "\n",
    "    nScan=50\n",
    "    tauMin=0.0\n",
    "    tauMax=0.0\n",
    "    iBest=0\n",
    "\n",
    "    logTauX = ROOT.MakeNullPointer(ROOT.TSpline)\n",
    "    logTauY = ROOT.MakeNullPointer(ROOT.TSpline)\n",
    "    lCurve = ROOT.MakeNullPointer(ROOT.TGraph)\n",
    "    u_list[i].ScanLcurve(nScan,tauMin,tauMax,lCurve,logTauX,logTauY)\n",
    "    \n",
    "    "
   ]
  },
  {
   "cell_type": "code",
   "execution_count": 68,
   "id": "4e8fc584-ee97-4a31-b375-c4e75f4eb33a",
   "metadata": {
    "tags": []
   },
   "outputs": [
    {
     "name": "stderr",
     "output_type": "stream",
     "text": [
      "Warning in <TROOT::Append>: Replacing existing TH1: o0 (Potential memory leak).\n",
      "Warning in <TROOT::Append>: Replacing existing TH1: o1 (Potential memory leak).\n",
      "Warning in <TROOT::Append>: Replacing existing TH1: o2 (Potential memory leak).\n",
      "Warning in <TROOT::Append>: Replacing existing TH1: o3 (Potential memory leak).\n",
      "Warning in <TROOT::Append>: Replacing existing TH1: o4 (Potential memory leak).\n",
      "Warning in <TROOT::Append>: Replacing existing TH1: o5 (Potential memory leak).\n",
      "Warning in <TROOT::Append>: Replacing existing TH1: o6 (Potential memory leak).\n",
      "Warning in <TROOT::Append>: Replacing existing TH1: o7 (Potential memory leak).\n",
      "Warning in <TROOT::Append>: Replacing existing TH1: o8 (Potential memory leak).\n",
      "Warning in <TROOT::Append>: Replacing existing TH1: o9 (Potential memory leak).\n"
     ]
    }
   ],
   "source": [
    "o_list = []\n",
    "for i in range(10):\n",
    "    o_list.append( u_list[i].GetOutput(\"o\"+str(i)))"
   ]
  },
  {
   "cell_type": "code",
   "execution_count": 72,
   "id": "9f81d36e-0ab6-494a-a658-a6082040bec7",
   "metadata": {
    "tags": []
   },
   "outputs": [],
   "source": [
    "a = u_list[0].GetEmatrixSysUncorr('mat')"
   ]
  },
  {
   "cell_type": "code",
   "execution_count": 91,
   "id": "94126654-3674-4e60-9612-89518ed3be3e",
   "metadata": {
    "tags": []
   },
   "outputs": [],
   "source": [
    "o_unc = o_list[0].Clone('unc')\n",
    "o_unc.Reset()\n",
    "for i in range(1, o_unc.GetNbinsX()):\n",
    "    o_unc.SetBinContent(i, o_list[0].GetBinContent(i))\n",
    "    o_unc.SetBinError(i, a.GetBinContent(i,i)**0.5)"
   ]
  },
  {
   "cell_type": "code",
   "execution_count": null,
   "id": "4f504fc5-14f4-4c61-b891-fe771ca66fc7",
   "metadata": {},
   "outputs": [],
   "source": []
  },
  {
   "cell_type": "code",
   "execution_count": 92,
   "id": "d3c29de5-5cc3-4094-943c-53e5e95dd274",
   "metadata": {
    "tags": []
   },
   "outputs": [
    {
     "data": {
      "image/png": "[encoded data removed]",
      "text/plain": [
       "<IPython.core.display.Image object>"
      ]
     },
     "metadata": {},
     "output_type": "display_data"
    }
   ],
   "source": [
    "c_output = ROOT.TCanvas()\n",
    "for i in range(10):\n",
    "    o_list[i].SetLineColor(i)\n",
    "    o_list[i].Draw(\"hist same\")\n",
    "    \n",
    "c_output.Draw()"
   ]
  },
  {
   "cell_type": "code",
   "execution_count": 97,
   "id": "a363d2a5-b506-455a-850c-c66018ba0414",
   "metadata": {
    "tags": []
   },
   "outputs": [],
   "source": [
    "%jsroot"
   ]
  },
  {
   "cell_type": "code",
   "execution_count": 100,
   "id": "fc4200db-5ccb-4563-aecb-6a6c13e032a2",
   "metadata": {
    "tags": []
   },
   "outputs": [
    {
     "data": {
      "text/html": [
       "\n",
       "\n",
       "<div id=\"root_plot_1717665765301\"\n",
       "     style=\"width: 696px; height: 472px\">\n",
       "</div>\n",
       "<script>\n",
       "\n",
       "function display_root_plot_1717665765301(Core) {\n",
       "   let obj = Core.parse({\"_typename\":\"TCanvas\",\"fUniqueID\":0,\"fBits\":3342344,\"fLineColor\":1,\"fLineStyle\":1,\"fLineWidth\":1,\"fFillColor\":0,\"fFillStyle\":1001,\"fLeftMargin\":0.1,\"fRightMargin\":0.1,\"fBottomMargin\":0.1,\"fTopMargin\":0.1,\"fXfile\":2,\"fYfile\":2,\"fAfile\":1,\"fXstat\":0.99,\"fYstat\":0.99,\"fAstat\":2,\"fFrameFillColor\":0,\"fFrameLineColor\":1,\"fFrameFillStyle\":1001,\"fFrameLineStyle\":1,\"fFrameLineWidth\":1,\"fFrameBorderSize\":1,\"fFrameBorderMode\":0,\"fX1\":-6.25000050291422,\"fY1\":-3769.05617530608,\"fX2\":61.2500005029142,\"fY2\":14068.0810328836,\"fXtoAbsPixelk\":64.4444986697517,\"fXtoPixelk\":64.4444986697517,\"fXtoPixel\":10.3111109574636,\"fYtoAbsPixelk\":372.264621944445,\"fYtoPixelk\":372.264621944445,\"fYtoPixel\":-0.0264616454137767,\"fUtoAbsPixelk\":5e-5,\"fUtoPixelk\":5e-5,\"fUtoPixel\":696,\"fVtoAbsPixelk\":472.00005,\"fVtoPixelk\":472,\"fVtoPixel\":-472,\"fAbsPixeltoXk\":-6.25000050291422,\"fPixeltoXk\":-6.25000050291422,\"fPixeltoX\":0.0969827600658455,\"fAbsPixeltoYk\":14068.0810328836,\"fPixeltoYk\":-3769.05617530608,\"fPixeltoY\":-37.7905449326054,\"fXlowNDC\":0,\"fYlowNDC\":0,\"fXUpNDC\":1,\"fYUpNDC\":1,\"fWNDC\":1,\"fHNDC\":1,\"fAbsXlowNDC\":0,\"fAbsYlowNDC\":0,\"fAbsWNDC\":1,\"fAbsHNDC\":1,\"fUxmin\":0.5,\"fUymin\":-1985.34234816948,\"fUxmax\":54.5,\"fUymax\":12284.367205747,\"fTheta\":30,\"fPhi\":30,\"fAspectRatio\":0,\"fNumber\":0,\"fTickx\":0,\"fTicky\":0,\"fLogx\":0,\"fLogy\":0,\"fLogz\":0,\"fPadPaint\":0,\"fCrosshair\":0,\"fCrosshairPos\":0,\"fBorderSize\":2,\"fBorderMode\":0,\"fModified\":false,\"fGridx\":false,\"fGridy\":false,\"fAbsCoord\":false,\"fEditable\":true,\"fFixedAspectRatio\":false,\"fPrimitives\":{\"_typename\":\"TList\",\"name\":\"TList\",\"arr\":[{\"_typename\":\"TFrame\",\"fUniqueID\":0,\"fBits\":8,\"fLineColor\":1,\"fLineStyle\":1,\"fLineWidth\":1,\"fFillColor\":0,\"fFillStyle\":1001,\"fX1\":0.5,\"fY1\":-1985.34234816948,\"fX2\":54.5,\"fY2\":12284.367205747,\"fBorderSize\":1,\"fBorderMode\":0},{\"_typename\":\"TH1D\",\"fUniqueID\":0,\"fBits\":520,\"fName\":\"unc\",\"fTitle\":\"o0\",\"fLineColor\":0,\"fLineStyle\":1,\"fLineWidth\":2,\"fFillColor\":2,\"fFillStyle\":2,\"fMarkerColor\":1,\"fMarkerStyle\":1,\"fMarkerSize\":1,\"fNcells\":56,\"fXaxis\":{\"_typename\":\"TAxis\",\"fUniqueID\":0,\"fBits\":0,\"fName\":\"xaxis\",\"fTitle\":\"generator\",\"fNdivisions\":510,\"fAxisColor\":1,\"fLabelColor\":1,\"fLabelFont\":42,\"fLabelOffset\":0.005,\"fLabelSize\":0.035,\"fTickLength\":0.03,\"fTitleOffset\":1,\"fTitleSize\":0.035,\"fTitleColor\":1,\"fTitleFont\":42,\"fNbins\":54,\"fXmin\":0.5,\"fXmax\":54.5,\"fXbins\":{\"$arr\":\"Float64\",\"len\":55,\"v\":[0.5,1.5,2.5,3.5,4.5,5.5,6.5,7.5,8.5,9.5,10.5,11.5,12.5,13.5,14.5,15.5,16.5,17.5,18.5,19.5,20.5,21.5,22.5,23.5,24.5,25.5,26.5,27.5,28.5,29.5,30.5,31.5,32.5,33.5,34.5,35.5,36.5,37.5,38.5,39.5,40.5,41.5,42.5,43.5,44.5,45.5,46.5,47.5,48.5,49.5,50.5,51.5,52.5,53.5,54.5]},\"fFirst\":0,\"fLast\":0,\"fBits2\":0,\"fTimeDisplay\":false,\"fTimeFormat\":\"\",\"fLabels\":null,\"fModLabs\":null},\"fYaxis\":{\"_typename\":\"TAxis\",\"fUniqueID\":0,\"fBits\":0,\"fName\":\"yaxis\",\"fTitle\":\"\",\"fNdivisions\":510,\"fAxisColor\":1,\"fLabelColor\":1,\"fLabelFont\":42,\"fLabelOffset\":0.005,\"fLabelSize\":0.035,\"fTickLength\":0.03,\"fTitleOffset\":0,\"fTitleSize\":0.035,\"fTitleColor\":1,\"fTitleFont\":42,\"fNbins\":1,\"fXmin\":0,\"fXmax\":1,\"fXbins\":[],\"fFirst\":0,\"fLast\":0,\"fBits2\":0,\"fTimeDisplay\":false,\"fTimeFormat\":\"\",\"fLabels\":null,\"fModLabs\":null},\"fZaxis\":{\"_typename\":\"TAxis\",\"fUniqueID\":0,\"fBits\":0,\"fName\":\"zaxis\",\"fTitle\":\"\",\"fNdivisions\":510,\"fAxisColor\":1,\"fLabelColor\":1,\"fLabelFont\":42,\"fLabelOffset\":0.005,\"fLabelSize\":0.035,\"fTickLength\":0.03,\"fTitleOffset\":1,\"fTitleSize\":0.035,\"fTitleColor\":1,\"fTitleFont\":42,\"fNbins\":1,\"fXmin\":0,\"fXmax\":1,\"fXbins\":[],\"fFirst\":0,\"fLast\":0,\"fBits2\":0,\"fTimeDisplay\":false,\"fTimeFormat\":\"\",\"fLabels\":null,\"fModLabs\":null},\"fBarOffset\":0,\"fBarWidth\":1000,\"fEntries\":53,\"fTsumw\":0,\"fTsumw2\":0,\"fTsumwx\":0,\"fTsumwx2\":0,\"fMaximum\":-1111,\"fMinimum\":-1111,\"fNormFactor\":0,\"fContour\":[],\"fSumw2\":{\"$arr\":\"Float64\",\"len\":56,\"p\":1,\"v\":[7669.48211964475,368702.610795549,12693231.9990089,1752734.55249168,51188.745103898,95.1992614381665,0,0,0,1841.43824826641,470009.238008789,36651416.1689291,13225988.0915793,731462.311153541,14116.7771903846,55.0085389822931,0,0,2889.53605972472,160154.699853554,9458771.67545276,5685669.91581142,495014.525500691,24804.6422758227,241.778642588644,0,0,154.450361317525,5366.64967537131,347531.692078806,251904.696714396,33817.4132469365,3688.63640367186,260.917189127721,17.7497288724607,0,32.7964914157482,743.801056270671,11975.1443323637,6023.48413280327,1971.23338661641,325.92276018444,88.1078858252658,17.9912904127631,1.34994666891455,0.36704464510099,113.547803244767,1000.14943740072,869.561095311871,446.289005934099,128.137778094601,32.8835899917854,8.75019373260903]},\"fOption\":\"\",\"fFunctions\":{\"_typename\":\"TList\",\"name\":\"TList\",\"arr\":[],\"opt\":[]},\"fBufferSize\":0,\"fBuffer\":[],\"fBinStatErrOpt\":0,\"fStatOverflows\":2,\"fArray\":{\"$arr\":\"Float64\",\"len\":56,\"p\":1,\"v\":[-6.87746425058455,464.56989666448,2224.56624881227,664.594631949828,144.753791870973,1.94464225132639,0,0,0,31.5626869992399,733.532645457986,5550.81591816663,2847.98660417083,690.927263625662,86.9561027472932,3.89630549892422,0,0,-9.65051827844534,630.704307459489,7327.95963343364,5699.98979449403,1977.97450458332,640.615661831628,104.151292553377,0,0,5.70380695381769,44.275231070755,1111.29042740011,1498.00813367278,699.380262635485,300.872944137386,200.457331131675,3.58185020425736,0,0.467811582102679,7.36539965955338,165.171108686312,320.357502039,206.299198904423,108.972263127605,105.773550652433,16.1321849383602,0.834456551100192,0.0497521857202859,-0.21631670364788,24.8195541842128,90.7865041690991,94.418327725585,65.1385054419894,78.9508571735902,30.2794996530798]}},{\"_typename\":\"TPaveText\",\"fUniqueID\":0,\"fBits\":9,\"fLineColor\":1,\"fLineStyle\":1,\"fLineWidth\":1,\"fFillColor\":0,\"fFillStyle\":0,\"fX1\":25.4672413490199,\"fY1\":12997.8528708277,\"fX2\":29.5327586509801,\"fY2\":13978.8954318968,\"fX1NDC\":0.469885057471264,\"fY1NDC\":0.940000003948808,\"fX2NDC\":0.530114942528736,\"fY2NDC\":0.995000004768372,\"fBorderSize\":0,\"fInit\":1,\"fShadowColor\":1,\"fCornerRadius\":0,\"fOption\":\"blNDC\",\"fName\":\"title\",\"fTextAngle\":0,\"fTextSize\":0,\"fTextAlign\":22,\"fTextColor\":1,\"fTextFont\":42,\"fLabel\":\"\",\"fLongest\":2,\"fMargin\":0.05,\"fLines\":{\"_typename\":\"TList\",\"name\":\"TList\",\"arr\":[{\"_typename\":\"TLatex\",\"fUniqueID\":0,\"fBits\":0,\"fName\":\"\",\"fTitle\":\"o0\",\"fTextAngle\":0,\"fTextSize\":0,\"fTextAlign\":0,\"fTextColor\":0,\"fTextFont\":0,\"fX\":0,\"fY\":0,\"fLineColor\":1,\"fLineStyle\":1,\"fLineWidth\":2,\"fLimitFactorSize\":3,\"fOriginSize\":0.0467500016093254}],\"opt\":[\"\"]}},{\"_typename\":\"TStyle\",\"fUniqueID\":0,\"fBits\":0,\"fName\":\"Modern\",\"fTitle\":\"Modern Style\",\"fLineColor\":1,\"fLineStyle\":1,\"fLineWidth\":1,\"fFillColor\":19,\"fFillStyle\":1001,\"fMarkerColor\":1,\"fMarkerStyle\":1,\"fMarkerSize\":1,\"fTextAngle\":0,\"fTextSize\":0.05,\"fTextAlign\":11,\"fTextColor\":1,\"fTextFont\":62,\"fXaxis\":{\"_typename\":\"TAttAxis\",\"fNdivisions\":510,\"fAxisColor\":1,\"fLabelColor\":1,\"fLabelFont\":42,\"fLabelOffset\":0.005,\"fLabelSize\":0.035,\"fTickLength\":0.03,\"fTitleOffset\":1,\"fTitleSize\":0.035,\"fTitleColor\":1,\"fTitleFont\":42},\"fYaxis\":{\"_typename\":\"TAttAxis\",\"fNdivisions\":510,\"fAxisColor\":1,\"fLabelColor\":1,\"fLabelFont\":42,\"fLabelOffset\":0.005,\"fLabelSize\":0.035,\"fTickLength\":0.03,\"fTitleOffset\":0,\"fTitleSize\":0.035,\"fTitleColor\":1,\"fTitleFont\":42},\"fZaxis\":{\"_typename\":\"TAttAxis\",\"fNdivisions\":510,\"fAxisColor\":1,\"fLabelColor\":1,\"fLabelFont\":42,\"fLabelOffset\":0.005,\"fLabelSize\":0.035,\"fTickLength\":0.03,\"fTitleOffset\":1,\"fTitleSize\":0.035,\"fTitleColor\":1,\"fTitleFont\":42},\"fBarWidth\":1,\"fBarOffset\":0,\"fColorModelPS\":0,\"fDrawBorder\":0,\"fOptLogx\":0,\"fOptLogy\":0,\"fOptLogz\":0,\"fOptDate\":0,\"fOptStat\":0,\"fOptTitle\":1,\"fOptFile\":0,\"fOptFit\":0,\"fShowEventStatus\":0,\"fShowEditor\":0,\"fShowToolBar\":0,\"fNumberContours\":20,\"fAttDate\":{\"_typename\":\"TAttText\",\"fTextAngle\":0,\"fTextSize\":0.025,\"fTextAlign\":11,\"fTextColor\":1,\"fTextFont\":62},\"fDateX\":0.01,\"fDateY\":0.01,\"fEndErrorSize\":2,\"fErrorX\":0.5,\"fFuncColor\":2,\"fFuncStyle\":1,\"fFuncWidth\":2,\"fGridColor\":0,\"fGridStyle\":3,\"fGridWidth\":1,\"fLegendBorderSize\":1,\"fLegendFillColor\":0,\"fLegendFont\":42,\"fLegendTextSize\":0,\"fHatchesLineWidth\":1,\"fHatchesSpacing\":1,\"fFrameFillColor\":0,\"fFrameLineColor\":1,\"fFrameFillStyle\":1001,\"fFrameLineStyle\":1,\"fFrameLineWidth\":1,\"fFrameBorderSize\":1,\"fFrameBorderMode\":0,\"fHistFillColor\":0,\"fHistLineColor\":602,\"fHistFillStyle\":1001,\"fHistLineStyle\":1,\"fHistLineWidth\":1,\"fHistMinimumZero\":false,\"fHistTopMargin\":0.05,\"fCanvasPreferGL\":false,\"fCanvasColor\":0,\"fCanvasBorderSize\":2,\"fCanvasBorderMode\":0,\"fCanvasDefH\":500,\"fCanvasDefW\":700,\"fCanvasDefX\":10,\"fCanvasDefY\":10,\"fPadColor\":0,\"fPadBorderSize\":2,\"fPadBorderMode\":0,\"fPadBottomMargin\":0.1,\"fPadTopMargin\":0.1,\"fPadLeftMargin\":0.1,\"fPadRightMargin\":0.1,\"fPadGridX\":false,\"fPadGridY\":false,\"fPadTickX\":0,\"fPadTickY\":0,\"fPaperSizeX\":20,\"fPaperSizeY\":26,\"fScreenFactor\":1,\"fStatColor\":0,\"fStatTextColor\":1,\"fStatBorderSize\":1,\"fStatFont\":42,\"fStatFontSize\":0,\"fStatStyle\":1001,\"fStatFormat\":\"6.4g\",\"fStatX\":0.98,\"fStatY\":0.935,\"fStatW\":0.2,\"fStatH\":0.16,\"fStripDecimals\":true,\"fTitleAlign\":23,\"fTitleColor\":0,\"fTitleTextColor\":1,\"fTitleBorderSize\":0,\"fTitleFont\":42,\"fTitleFontSize\":0.05,\"fTitleStyle\":0,\"fTitleX\":0.5,\"fTitleY\":0.995,\"fTitleW\":0,\"fTitleH\":0,\"fLegoInnerR\":0.5,\"fLineStyles\":[\"\",\"  \",\" 12 12\",\" 4 8\",\" 12 16 4 16\",\" 20 12 4 12\",\" 20 12 4 12 4 12 4 12\",\" 20 20\",\" 20 12 4 12 4 12\",\" 80 20\",\" 80 40 4 40\",\"  \",\"  \",\"  \",\"  \",\"  \",\"  \",\"  \",\"  \",\"  \",\"  \",\"  \",\"  \",\"  \",\"  \",\"  \",\"  \",\"  \",\"  \",\"  \"],\"fHeaderPS\":\"\",\"fTitlePS\":\"\",\"fFitFormat\":\"5.4g\",\"fPaintTextFormat\":\"g\",\"fLineScalePS\":3,\"fJoinLinePS\":0,\"fCapLinePS\":0,\"fTimeOffset\":788918400,\"fImageScaling\":1}],\"opt\":[\"\",\"e\",\"blNDC\",\"\"]},\"fExecs\":null,\"fName\":\"c1_n5\",\"fTitle\":\"c1_n5\",\"fNumPaletteColor\":0,\"fNextPaletteColor\":0,\"fDISPLAY\":\"$DISPLAY\",\"fDoubleBuffer\":0,\"fRetained\":true,\"fXsizeUser\":0,\"fYsizeUser\":0,\"fXsizeReal\":20,\"fYsizeReal\":14.28571,\"fWindowTopX\":0,\"fWindowTopY\":0,\"fWindowWidth\":0,\"fWindowHeight\":0,\"fCw\":696,\"fCh\":472,\"fCatt\":{\"_typename\":\"TAttCanvas\",\"fXBetween\":2,\"fYBetween\":2,\"fTitleFromTop\":1.2,\"fXdate\":0.2,\"fYdate\":0.3,\"fAdate\":1},\"kMoveOpaque\":true,\"kResizeOpaque\":true,\"fHighLightColor\":2,\"fBatch\":true,\"kShowEventStatus\":false,\"kAutoExec\":true,\"kMenuBar\":true});\n",
       "   Core.settings.HandleKeys = false;\n",
       "   Core.draw(\"root_plot_1717665765301\", obj, \"\");\n",
       "}\n",
       "\n",
       "function script_load_root_plot_1717665765301(src, on_error) {\n",
       "    let script = document.createElement('script');\n",
       "    script.src = src;\n",
       "    script.onload = function() { display_root_plot_1717665765301(JSROOT); };\n",
       "    script.onerror = function() { script.remove(); on_error(); };\n",
       "    document.head.appendChild(script);\n",
       "}\n",
       "\n",
       "if (typeof requirejs !== 'undefined') {\n",
       "\n",
       "    // We are in jupyter notebooks, use require.js which should be configured already\n",
       "    requirejs.config({\n",
       "       paths: { 'JSRootCore' : [ 'build/jsroot', 'https://root.cern/js/7.2.1/build/jsroot', 'https://jsroot.gsi.de/7.2.1/build/jsroot' ] }\n",
       "    })(['JSRootCore'],  function(Core) {\n",
       "       display_root_plot_1717665765301(Core);\n",
       "    });\n",
       "\n",
       "} else if (typeof JSROOT !== 'undefined') {\n",
       "\n",
       "   // JSROOT already loaded, just use it\n",
       "   display_root_plot_1717665765301(JSROOT);\n",
       "\n",
       "} else {\n",
       "\n",
       "    // We are in jupyterlab without require.js, directly loading jsroot\n",
       "    // Jupyterlab might be installed in a different base_url so we need to know it.\n",
       "    try {\n",
       "        var base_url = JSON.parse(document.getElementById('jupyter-config-data').innerHTML).baseUrl;\n",
       "    } catch(_) {\n",
       "        var base_url = '/';\n",
       "    }\n",
       "\n",
       "    // Try loading a local version of requirejs and fallback to cdn if not possible.\n",
       "    script_load_root_plot_1717665765301(base_url + 'static/build/jsroot.js', function(){\n",
       "        console.error('Fail to load JSROOT locally, please check your jupyter_notebook_config.py file');\n",
       "        script_load_root_plot_1717665765301('https://root.cern/js/7.2.1/build/jsroot.js', function(){\n",
       "            document.getElementById(\"root_plot_1717665765301\").innerHTML = \"Failed to load JSROOT\";\n",
       "        });\n",
       "    });\n",
       "}\n",
       "\n",
       "</script>\n"
      ],
      "text/plain": [
       "<IPython.core.display.HTML object>"
      ]
     },
     "metadata": {},
     "output_type": "display_data"
    }
   ],
   "source": [
    "c_new = ROOT.TCanvas()\n",
    "o_unc.SetLineWidth(2)\n",
    "o_unc.SetFillColor(2)\n",
    "o_unc.SetFillStyle(2)\n",
    "o_unc.Draw('e')\n",
    "c_new.Draw()"
   ]
  },
  {
   "cell_type": "code",
   "execution_count": 201,
   "id": "c2241349-089d-48af-a4e1-b348b647cd15",
   "metadata": {
    "tags": []
   },
   "outputs": [],
   "source": [
    "bin_avg = []\n",
    "bin_rms = []\n",
    "for i_bin in range(o_list[0].GetNbinsX()):\n",
    "    content_list = []\n",
    "    for i_jk in range(10):\n",
    "        content_list.append(o_list[i_jk].GetBinContent(i_bin))\n",
    "    bin_avg.append(np.mean(content_list) )\n",
    "    mean_content = np.mean(content_list)\n",
    "    std = np.std(content_list)\n",
    "    error = np.sqrt(10/9)*std\n",
    "    bin_rms.append(error)\n",
    "        "
   ]
  },
  {
   "cell_type": "code",
   "execution_count": 114,
   "id": "6616b295-14c5-4ea8-a775-1052dc2e8f82",
   "metadata": {
    "tags": []
   },
   "outputs": [
    {
     "name": "stderr",
     "output_type": "stream",
     "text": [
      "/tmp/ipykernel_108/1641746775.py:1: RuntimeWarning: invalid value encountered in divide\n",
      "  plt.plot(h_np/np.sum(h_np, axis = 0))\n"
     ]
    },
    {
     "data": {
      "text/plain": [
       "[<matplotlib.lines.Line2D at 0x7f38b4b31550>,\n",
       " <matplotlib.lines.Line2D at 0x7f38b4b315b0>,\n",
       " <matplotlib.lines.Line2D at 0x7f38b4b315e0>,\n",
       " <matplotlib.lines.Line2D at 0x7f38b4b316d0>,\n",
       " <matplotlib.lines.Line2D at 0x7f38b4b317c0>,\n",
       " <matplotlib.lines.Line2D at 0x7f38b4b318b0>,\n",
       " <matplotlib.lines.Line2D at 0x7f38b4b319a0>]"
      ]
     },
     "execution_count": 114,
     "metadata": {},
     "output_type": "execute_result"
    },
    {
     "data": {
      "image/png": "[encoded data removed]",
      "text/plain": [
       "<Figure size 640x480 with 1 Axes>"
      ]
     },
     "metadata": {},
     "output_type": "display_data"
    }
   ],
   "source": [
    "plt.plot(h_np/np.sum(h_np, axis = 0))"
   ]
  },
  {
   "cell_type": "code",
   "execution_count": 115,
   "id": "0771ab92-d318-47f8-b3e9-4163c2129e22",
   "metadata": {
    "tags": []
   },
   "outputs": [
    {
     "data": {
      "text/plain": [
       "array([4.35382644e-02, 6.11615665e+03, 2.12094510e+04, 5.89519656e+03,\n",
       "       1.27652568e+03, 5.06461193e+02, 0.00000000e+00])"
      ]
     },
     "execution_count": 115,
     "metadata": {},
     "output_type": "execute_result"
    }
   ],
   "source": [
    "np.sum(h_np, axis = 0)"
   ]
  },
  {
   "cell_type": "code",
   "execution_count": 202,
   "id": "cf3956fc-7cd1-43c5-9efe-276f088fb1f2",
   "metadata": {
    "tags": []
   },
   "outputs": [
    {
     "data": {
      "text/plain": [
       "[0.0,\n",
       " 17.545310181280183,\n",
       " 69.05546596107094,\n",
       " 204.9835268182678,\n",
       " 96.9408764327293,\n",
       " 27.88606345154055,\n",
       " 3.0019954519572676,\n",
       " 0.0,\n",
       " 0.0,\n",
       " 0.0,\n",
       " 6.979633192427557,\n",
       " 90.13027936422174,\n",
       " 372.5235659429548,\n",
       " 233.23322230641514,\n",
       " 82.91343683274953,\n",
       " 17.658802643875994,\n",
       " 1.2414583319092318,\n",
       " 0.0,\n",
       " 0.0,\n",
       " 11.432602471903545,\n",
       " 50.33242714089552,\n",
       " 206.42244678360365,\n",
       " 153.47551794763422,\n",
       " 60.38281232694768,\n",
       " 19.26209191124189,\n",
       " 3.1613678347537504,\n",
       " 0.0,\n",
       " 0.0,\n",
       " 2.0770443227653477,\n",
       " 8.772104088830693,\n",
       " 42.726008470219575,\n",
       " 33.2288394369535,\n",
       " 14.363908997853382,\n",
       " 6.179220754062998,\n",
       " 2.81868075992233,\n",
       " 0.2852524142200814,\n",
       " 0.0,\n",
       " 0.3524943541306907,\n",
       " 0.9306119945448997,\n",
       " 6.071297547883086,\n",
       " 7.676716323272144,\n",
       " 2.4511763397534034,\n",
       " 1.7323970280697418,\n",
       " 1.022684419220411,\n",
       " 0.415603487236508,\n",
       " 0.1684499134291063,\n",
       " 0.02809932344412453,\n",
       " 0.40683097287649683,\n",
       " 1.2224700976904468,\n",
       " 1.6379113005004848,\n",
       " 0.8614418156886735,\n",
       " 0.5473229003650188,\n",
       " 0.24730809162243567,\n",
       " 0.17621215616357191]"
      ]
     },
     "execution_count": 202,
     "metadata": {},
     "output_type": "execute_result"
    }
   ],
   "source": [
    "bin_rms"
   ]
  },
  {
   "cell_type": "code",
   "execution_count": 205,
   "id": "d83eef56-cceb-410e-a092-11ce8b419496",
   "metadata": {
    "tags": []
   },
   "outputs": [],
   "source": [
    "bin_rms = np.array(bin_rms)\n",
    "if not groomed:\n",
    "    np.savetxt('rms_data_u.txt', bin_rms)\n",
    "else:\n",
    "    np.savetxt('rms_data_g.txt', bin_rms)"
   ]
  },
  {
   "cell_type": "code",
   "execution_count": 204,
   "id": "9bea1f57-7944-40dd-99f4-94dc6058cf18",
   "metadata": {
    "tags": []
   },
   "outputs": [
    {
     "data": {
      "text/plain": [
       "[<matplotlib.lines.Line2D at 0x7f2026095070>]"
      ]
     },
     "execution_count": 204,
     "metadata": {},
     "output_type": "execute_result"
    },
    {
     "data": {
      "image/png": "[encoded data removed]",
      "text/plain": [
       "<Figure size 640x480 with 1 Axes>"
      ]
     },
     "metadata": {},
     "output_type": "display_data"
    }
   ],
   "source": [
    "plt.plot(bin_avg)"
   ]
  },
  {
   "cell_type": "code",
   "execution_count": 186,
   "id": "b683b898-c3bd-4c57-9677-0160e8a6e25e",
   "metadata": {
    "tags": []
   },
   "outputs": [
    {
     "name": "stderr",
     "output_type": "stream",
     "text": [
      "/tmp/ipykernel_381/2812826202.py:1: RuntimeWarning: invalid value encountered in divide\n",
      "  plt.plot(  bin_rms/np.array(bin_avg), marker = 'o')\n"
     ]
    },
    {
     "data": {
      "text/plain": [
       "Text(0, 0.5, 'Bin Error')"
      ]
     },
     "execution_count": 186,
     "metadata": {},
     "output_type": "execute_result"
    },
    {
     "data": {
      "image/png": "[encoded data removed]",
      "text/plain": [
       "<Figure size 640x480 with 1 Axes>"
      ]
     },
     "metadata": {},
     "output_type": "display_data"
    }
   ],
   "source": [
    "plt.plot(  bin_rms/np.array(bin_avg), marker = 'o')\n",
    "plt.xlabel('Bin number')\n",
    "plt.ylabel('Bin Error')"
   ]
  },
  {
   "cell_type": "code",
   "execution_count": 59,
   "id": "f8abefd4-2970-4b40-9344-c507f72090ca",
   "metadata": {
    "tags": []
   },
   "outputs": [
    {
     "name": "stdout",
     "output_type": "stream",
     "text": [
      "Standard Error using RMS method: 0.0010007189603352883\n",
      "Standard Error using 10-fold Jackknife method: 0.0009843620863746346\n"
     ]
    }
   ],
   "source": [
    "import numpy as np\n",
    "\n",
    "sample_size = 1000000\n",
    "data = np.random.normal(loc=0, scale=1, size=sample_size)  \n",
    "\n",
    "sample_mean = np.mean(data)\n",
    "sample_std = np.std(data, ddof=1)\n",
    "standard_error_rms = sample_std / np.sqrt(sample_size)\n",
    "\n",
    "# Step 3: Calculate Standard Error using 10-fold Jackknife Resampling\n",
    "k = 10\n",
    "n = len(data)\n",
    "subset_size = n // k\n",
    "jackknife_means = []\n",
    "\n",
    "for i in range(k):\n",
    "    start_index = i * subset_size\n",
    "    end_index = start_index + subset_size if i < k - 1 else n\n",
    "    jackknife_sample = np.delete(data, np.arange(start_index, end_index))\n",
    "    jackknife_mean = np.mean(jackknife_sample)\n",
    "    jackknife_means.append(jackknife_mean)\n",
    "\n",
    "jackknife_means = np.array(jackknife_means)\n",
    "mean_jackknife_means = np.mean(jackknife_means)\n",
    "jackknife_variance = (k - 1) / k * np.sum((jackknife_means - mean_jackknife_means) ** 2)\n",
    "standard_error_jackknife = np.sqrt(jackknife_variance)\n",
    "\n",
    "# Step 4: Compare the Results\n",
    "print(\"Standard Error using RMS method:\", standard_error_rms)\n",
    "print(\"Standard Error using 10-fold Jackknife method:\", standard_error_jackknife)"
   ]
  },
  {
   "cell_type": "code",
   "execution_count": 60,
   "id": "176270fc-8834-4389-90bd-3f6148466483",
   "metadata": {
    "tags": []
   },
   "outputs": [
    {
     "data": {
      "text/plain": [
       "array([ 1.06063901e-04, -7.01322564e-04,  1.71562781e-04, -4.30829451e-06,\n",
       "       -6.71789093e-04, -4.41172654e-04, -7.75405832e-04, -3.11397108e-04,\n",
       "       -5.57603386e-04, -4.88913667e-04])"
      ]
     },
     "execution_count": 60,
     "metadata": {},
     "output_type": "execute_result"
    }
   ],
   "source": [
    "jackknife_means"
   ]
  },
  {
   "cell_type": "code",
   "execution_count": 85,
   "id": "7c3e691d-e002-442b-a074-e5b680398778",
   "metadata": {
    "tags": []
   },
   "outputs": [
    {
     "data": {
      "text/plain": [
       "35"
      ]
     },
     "execution_count": 85,
     "metadata": {},
     "output_type": "execute_result"
    }
   ],
   "source": [
    "signalBinning.GetGlobalBinNumber(5,261)"
   ]
  },
  {
   "cell_type": "code",
   "execution_count": 87,
   "id": "c89d0dd7-9a48-496b-8fb4-c48da585be5f",
   "metadata": {
    "tags": []
   },
   "outputs": [
    {
     "data": {
      "text/plain": [
       "(0.0, 200.0)"
      ]
     },
     "execution_count": 87,
     "metadata": {},
     "output_type": "execute_result"
    },
    {
     "data": {
      "image/png": "[encoded data removed]",
      "text/plain": [
       "<Figure size 640x480 with 1 Axes>"
      ]
     },
     "metadata": {},
     "output_type": "display_data"
    }
   ],
   "source": [
    "plt.errorbar( mgen_center, bin_avg[23: 32], bin_rms[23: 32], marker = '.')\n",
    "plt.xlim(0,200)"
   ]
  },
  {
   "cell_type": "code",
   "execution_count": 86,
   "id": "1ff72aba-0af1-4632-8fff-83a5d78d4fd5",
   "metadata": {
    "tags": []
   },
   "outputs": [
    {
     "data": {
      "text/plain": [
       "(0.0, 200.0)"
      ]
     },
     "execution_count": 86,
     "metadata": {},
     "output_type": "execute_result"
    },
    {
     "data": {
      "image/png": "[encoded data removed]",
      "text/plain": [
       "<Figure size 640x480 with 1 Axes>"
      ]
     },
     "metadata": {},
     "output_type": "display_data"
    }
   ],
   "source": [
    "plt.errorbar( mgen_center, bin_avg[34: 43], bin_rms[34: 43], marker = 'o')\n",
    "plt.xlim(0,200)"
   ]
  },
  {
   "cell_type": "code",
   "execution_count": null,
   "id": "265f60ac-7410-4229-aec2-939974ba931d",
   "metadata": {},
   "outputs": [],
   "source": []
  },
  {
   "cell_type": "code",
   "execution_count": 235,
   "id": "3e6d531e-0604-4179-b822-93d6569d34df",
   "metadata": {
    "tags": []
   },
   "outputs": [
    {
     "data": {
      "text/html": [
       "\n",
       "\n",
       "<div id=\"root_plot_1717508557392\"\n",
       "     style=\"width: 696px; height: 472px\">\n",
       "</div>\n",
       "<script>\n",
       "\n",
       "function display_root_plot_1717508557392(Core) {\n",
       "   let obj = Core.parse({\"_typename\":\"TCanvas\",\"fUniqueID\":0,\"fBits\":3342344,\"fLineColor\":1,\"fLineStyle\":1,\"fLineWidth\":1,\"fFillColor\":0,\"fFillStyle\":1001,\"fLeftMargin\":0.1,\"fRightMargin\":0.1,\"fBottomMargin\":0.1,\"fTopMargin\":0.1,\"fXfile\":2,\"fYfile\":2,\"fAfile\":1,\"fXstat\":0.99,\"fYstat\":0.99,\"fAstat\":2,\"fFrameFillColor\":0,\"fFrameLineColor\":1,\"fFrameFillStyle\":1001,\"fFrameLineStyle\":1,\"fFrameLineWidth\":1,\"fFrameBorderSize\":1,\"fFrameBorderMode\":0,\"fX1\":-25.0000018626453,\"fY1\":-0.00254398596335098,\"fX2\":225.000001862645,\"fY2\":0.022895872153825,\"fXtoAbsPixelk\":69.6000541484835,\"fXtoPixelk\":69.6000541484835,\"fXtoPixel\":2.78399995851517,\"fYtoAbsPixelk\":424.800047186661,\"fYtoPixelk\":424.800047186661,\"fYtoPixel\":-18553.5625955919,\"fUtoAbsPixelk\":5e-5,\"fUtoPixelk\":5e-5,\"fUtoPixel\":696,\"fVtoAbsPixelk\":472.00005,\"fVtoPixelk\":472,\"fVtoPixel\":-472,\"fAbsPixeltoXk\":-25.0000018626453,\"fPixeltoXk\":-25.0000018626453,\"fPixeltoX\":0.359195407651279,\"fAbsPixeltoYk\":0.022895872153825,\"fPixeltoYk\":-0.00254398596335098,\"fPixeltoY\":-5.38980044855423e-5,\"fXlowNDC\":0,\"fYlowNDC\":0,\"fXUpNDC\":1,\"fYUpNDC\":1,\"fWNDC\":1,\"fHNDC\":1,\"fAbsXlowNDC\":0,\"fAbsYlowNDC\":0,\"fAbsWNDC\":1,\"fAbsHNDC\":1,\"fUxmin\":0,\"fUymin\":0,\"fUxmax\":200,\"fUymax\":0.020351886190474,\"fTheta\":30,\"fPhi\":30,\"fAspectRatio\":0,\"fNumber\":0,\"fTickx\":0,\"fTicky\":0,\"fLogx\":0,\"fLogy\":0,\"fLogz\":0,\"fPadPaint\":0,\"fCrosshair\":0,\"fCrosshairPos\":0,\"fBorderSize\":2,\"fBorderMode\":0,\"fModified\":false,\"fGridx\":false,\"fGridy\":false,\"fAbsCoord\":false,\"fEditable\":true,\"fFixedAspectRatio\":false,\"fPrimitives\":{\"_typename\":\"TList\",\"name\":\"TList\",\"arr\":[{\"_typename\":\"TFrame\",\"fUniqueID\":0,\"fBits\":8,\"fLineColor\":1,\"fLineStyle\":1,\"fLineWidth\":1,\"fFillColor\":0,\"fFillStyle\":1001,\"fX1\":0,\"fY1\":0,\"fX2\":200,\"fY2\":0.020351886190474,\"fBorderSize\":1,\"fBorderMode\":0},{\"_typename\":\"TH1F\",\"fUniqueID\":0,\"fBits\":520,\"fName\":\"unfolded_pt20\",\"fTitle\":\"Unfolded Ungroomed Jet Mass for p_{T}   0260 - 350 GeV\",\"fLineColor\":0,\"fLineStyle\":1,\"fLineWidth\":1,\"fFillColor\":0,\"fFillStyle\":1001,\"fMarkerColor\":1,\"fMarkerStyle\":1,\"fMarkerSize\":1,\"fNcells\":11,\"fXaxis\":{\"_typename\":\"TAxis\",\"fUniqueID\":0,\"fBits\":2048,\"fName\":\"xaxis\",\"fTitle\":\"\",\"fNdivisions\":510,\"fAxisColor\":1,\"fLabelColor\":1,\"fLabelFont\":42,\"fLabelOffset\":0.005,\"fLabelSize\":0.035,\"fTickLength\":0.03,\"fTitleOffset\":1,\"fTitleSize\":0.035,\"fTitleColor\":1,\"fTitleFont\":42,\"fNbins\":9,\"fXmin\":0,\"fXmax\":13000,\"fXbins\":{\"$arr\":\"Float64\",\"len\":10,\"p\":1,\"v\":[10,20,40,60,80,100,150,200,13000]},\"fFirst\":1,\"fLast\":8,\"fBits2\":0,\"fTimeDisplay\":false,\"fTimeFormat\":\"\",\"fLabels\":null,\"fModLabs\":null},\"fYaxis\":{\"_typename\":\"TAxis\",\"fUniqueID\":0,\"fBits\":0,\"fName\":\"yaxis\",\"fTitle\":\"\",\"fNdivisions\":510,\"fAxisColor\":1,\"fLabelColor\":1,\"fLabelFont\":42,\"fLabelOffset\":0.005,\"fLabelSize\":0.035,\"fTickLength\":0.03,\"fTitleOffset\":0,\"fTitleSize\":0.035,\"fTitleColor\":1,\"fTitleFont\":42,\"fNbins\":1,\"fXmin\":0,\"fXmax\":1,\"fXbins\":[],\"fFirst\":0,\"fLast\":0,\"fBits2\":0,\"fTimeDisplay\":false,\"fTimeFormat\":\"\",\"fLabels\":null,\"fModLabs\":null},\"fZaxis\":{\"_typename\":\"TAxis\",\"fUniqueID\":0,\"fBits\":0,\"fName\":\"zaxis\",\"fTitle\":\"\",\"fNdivisions\":510,\"fAxisColor\":1,\"fLabelColor\":1,\"fLabelFont\":42,\"fLabelOffset\":0.005,\"fLabelSize\":0.035,\"fTickLength\":0.03,\"fTitleOffset\":1,\"fTitleSize\":0.035,\"fTitleColor\":1,\"fTitleFont\":42,\"fNbins\":1,\"fXmin\":0,\"fXmax\":1,\"fXbins\":[],\"fFirst\":0,\"fLast\":0,\"fBits2\":0,\"fTimeDisplay\":false,\"fTimeFormat\":\"\",\"fLabels\":null,\"fModLabs\":null},\"fBarOffset\":0,\"fBarWidth\":1000,\"fEntries\":9,\"fTsumw\":0,\"fTsumw2\":0,\"fTsumwx\":0,\"fTsumwx2\":0,\"fMaximum\":-1111,\"fMinimum\":-1111,\"fNormFactor\":0,\"fContour\":[],\"fSumw2\":[],\"fOption\":\"\",\"fFunctions\":{\"_typename\":\"TList\",\"name\":\"TList\",\"arr\":[],\"opt\":[]},\"fBufferSize\":0,\"fBuffer\":[],\"fBinStatErrOpt\":0,\"fStatOverflows\":2,\"fArray\":{\"$arr\":\"Float32\",\"len\":11,\"p\":1,\"v\":[1.476033e-4,0.001145756,0.014379,0.01938275,0.009049291,0.003892999,0.001037488,1.853825e-5]}},{\"_typename\":\"TH1F\",\"fUniqueID\":0,\"fBits\":520,\"fName\":\"unfolded_pt21\",\"fTitle\":\"Unfolded Ungroomed Jet Mass for p_{T}   1260 - 350 GeV\",\"fLineColor\":1,\"fLineStyle\":1,\"fLineWidth\":1,\"fFillColor\":0,\"fFillStyle\":1001,\"fMarkerColor\":1,\"fMarkerStyle\":1,\"fMarkerSize\":1,\"fNcells\":11,\"fXaxis\":{\"_typename\":\"TAxis\",\"fUniqueID\":0,\"fBits\":2048,\"fName\":\"xaxis\",\"fTitle\":\"\",\"fNdivisions\":510,\"fAxisColor\":1,\"fLabelColor\":1,\"fLabelFont\":42,\"fLabelOffset\":0.005,\"fLabelSize\":0.035,\"fTickLength\":0.03,\"fTitleOffset\":1,\"fTitleSize\":0.035,\"fTitleColor\":1,\"fTitleFont\":42,\"fNbins\":9,\"fXmin\":0,\"fXmax\":13000,\"fXbins\":{\"$arr\":\"Float64\",\"len\":10,\"p\":1,\"v\":[10,20,40,60,80,100,150,200,13000]},\"fFirst\":1,\"fLast\":8,\"fBits2\":0,\"fTimeDisplay\":false,\"fTimeFormat\":\"\",\"fLabels\":null,\"fModLabs\":null},\"fYaxis\":{\"_typename\":\"TAxis\",\"fUniqueID\":0,\"fBits\":0,\"fName\":\"yaxis\",\"fTitle\":\"\",\"fNdivisions\":510,\"fAxisColor\":1,\"fLabelColor\":1,\"fLabelFont\":42,\"fLabelOffset\":0.005,\"fLabelSize\":0.035,\"fTickLength\":0.03,\"fTitleOffset\":0,\"fTitleSize\":0.035,\"fTitleColor\":1,\"fTitleFont\":42,\"fNbins\":1,\"fXmin\":0,\"fXmax\":1,\"fXbins\":[],\"fFirst\":0,\"fLast\":0,\"fBits2\":0,\"fTimeDisplay\":false,\"fTimeFormat\":\"\",\"fLabels\":null,\"fModLabs\":null},\"fZaxis\":{\"_typename\":\"TAxis\",\"fUniqueID\":0,\"fBits\":0,\"fName\":\"zaxis\",\"fTitle\":\"\",\"fNdivisions\":510,\"fAxisColor\":1,\"fLabelColor\":1,\"fLabelFont\":42,\"fLabelOffset\":0.005,\"fLabelSize\":0.035,\"fTickLength\":0.03,\"fTitleOffset\":1,\"fTitleSize\":0.035,\"fTitleColor\":1,\"fTitleFont\":42,\"fNbins\":1,\"fXmin\":0,\"fXmax\":1,\"fXbins\":[],\"fFirst\":0,\"fLast\":0,\"fBits2\":0,\"fTimeDisplay\":false,\"fTimeFormat\":\"\",\"fLabels\":null,\"fModLabs\":null},\"fBarOffset\":0,\"fBarWidth\":1000,\"fEntries\":9,\"fTsumw\":0,\"fTsumw2\":0,\"fTsumwx\":0,\"fTsumwx2\":0,\"fMaximum\":-1111,\"fMinimum\":-1111,\"fNormFactor\":0,\"fContour\":[],\"fSumw2\":[],\"fOption\":\"\",\"fFunctions\":{\"_typename\":\"TList\",\"name\":\"TList\",\"arr\":[],\"opt\":[]},\"fBufferSize\":0,\"fBuffer\":[],\"fBinStatErrOpt\":0,\"fStatOverflows\":2,\"fArray\":{\"$arr\":\"Float32\",\"len\":11,\"p\":1,\"v\":[1.352452e-4,0.001335723,0.01456827,0.01891932,0.008640308,0.003924504,9.941076e-4,1.621529e-5]}},{\"_typename\":\"TH1F\",\"fUniqueID\":0,\"fBits\":520,\"fName\":\"unfolded_pt22\",\"fTitle\":\"Unfolded Ungroomed Jet Mass for p_{T}   2260 - 350 GeV\",\"fLineColor\":2,\"fLineStyle\":1,\"fLineWidth\":1,\"fFillColor\":0,\"fFillStyle\":1001,\"fMarkerColor\":1,\"fMarkerStyle\":1,\"fMarkerSize\":1,\"fNcells\":11,\"fXaxis\":{\"_typename\":\"TAxis\",\"fUniqueID\":0,\"fBits\":2048,\"fName\":\"xaxis\",\"fTitle\":\"\",\"fNdivisions\":510,\"fAxisColor\":1,\"fLabelColor\":1,\"fLabelFont\":42,\"fLabelOffset\":0.005,\"fLabelSize\":0.035,\"fTickLength\":0.03,\"fTitleOffset\":1,\"fTitleSize\":0.035,\"fTitleColor\":1,\"fTitleFont\":42,\"fNbins\":9,\"fXmin\":0,\"fXmax\":13000,\"fXbins\":{\"$arr\":\"Float64\",\"len\":10,\"p\":1,\"v\":[10,20,40,60,80,100,150,200,13000]},\"fFirst\":1,\"fLast\":8,\"fBits2\":0,\"fTimeDisplay\":false,\"fTimeFormat\":\"\",\"fLabels\":null,\"fModLabs\":null},\"fYaxis\":{\"_typename\":\"TAxis\",\"fUniqueID\":0,\"fBits\":0,\"fName\":\"yaxis\",\"fTitle\":\"\",\"fNdivisions\":510,\"fAxisColor\":1,\"fLabelColor\":1,\"fLabelFont\":42,\"fLabelOffset\":0.005,\"fLabelSize\":0.035,\"fTickLength\":0.03,\"fTitleOffset\":0,\"fTitleSize\":0.035,\"fTitleColor\":1,\"fTitleFont\":42,\"fNbins\":1,\"fXmin\":0,\"fXmax\":1,\"fXbins\":[],\"fFirst\":0,\"fLast\":0,\"fBits2\":0,\"fTimeDisplay\":false,\"fTimeFormat\":\"\",\"fLabels\":null,\"fModLabs\":null},\"fZaxis\":{\"_typename\":\"TAxis\",\"fUniqueID\":0,\"fBits\":0,\"fName\":\"zaxis\",\"fTitle\":\"\",\"fNdivisions\":510,\"fAxisColor\":1,\"fLabelColor\":1,\"fLabelFont\":42,\"fLabelOffset\":0.005,\"fLabelSize\":0.035,\"fTickLength\":0.03,\"fTitleOffset\":1,\"fTitleSize\":0.035,\"fTitleColor\":1,\"fTitleFont\":42,\"fNbins\":1,\"fXmin\":0,\"fXmax\":1,\"fXbins\":[],\"fFirst\":0,\"fLast\":0,\"fBits2\":0,\"fTimeDisplay\":false,\"fTimeFormat\":\"\",\"fLabels\":null,\"fModLabs\":null},\"fBarOffset\":0,\"fBarWidth\":1000,\"fEntries\":9,\"fTsumw\":0,\"fTsumw2\":0,\"fTsumwx\":0,\"fTsumwx2\":0,\"fMaximum\":-1111,\"fMinimum\":-1111,\"fNormFactor\":0,\"fContour\":[],\"fSumw2\":[],\"fOption\":\"\",\"fFunctions\":{\"_typename\":\"TList\",\"name\":\"TList\",\"arr\":[],\"opt\":[]},\"fBufferSize\":0,\"fBuffer\":[],\"fBinStatErrOpt\":0,\"fStatOverflows\":2,\"fArray\":{\"$arr\":\"Float32\",\"len\":11,\"p\":1,\"v\":[1.711458e-4,8.936896e-4,0.01397812,0.01967611,0.009118197,0.004053779,0.001040582,1.596735e-5]}},{\"_typename\":\"TH1F\",\"fUniqueID\":0,\"fBits\":520,\"fName\":\"unfolded_pt23\",\"fTitle\":\"Unfolded Ungroomed Jet Mass for p_{T}   3260 - 350 GeV\",\"fLineColor\":3,\"fLineStyle\":1,\"fLineWidth\":1,\"fFillColor\":0,\"fFillStyle\":1001,\"fMarkerColor\":1,\"fMarkerStyle\":1,\"fMarkerSize\":1,\"fNcells\":11,\"fXaxis\":{\"_typename\":\"TAxis\",\"fUniqueID\":0,\"fBits\":2048,\"fName\":\"xaxis\",\"fTitle\":\"\",\"fNdivisions\":510,\"fAxisColor\":1,\"fLabelColor\":1,\"fLabelFont\":42,\"fLabelOffset\":0.005,\"fLabelSize\":0.035,\"fTickLength\":0.03,\"fTitleOffset\":1,\"fTitleSize\":0.035,\"fTitleColor\":1,\"fTitleFont\":42,\"fNbins\":9,\"fXmin\":0,\"fXmax\":13000,\"fXbins\":{\"$arr\":\"Float64\",\"len\":10,\"p\":1,\"v\":[10,20,40,60,80,100,150,200,13000]},\"fFirst\":1,\"fLast\":8,\"fBits2\":0,\"fTimeDisplay\":false,\"fTimeFormat\":\"\",\"fLabels\":null,\"fModLabs\":null},\"fYaxis\":{\"_typename\":\"TAxis\",\"fUniqueID\":0,\"fBits\":0,\"fName\":\"yaxis\",\"fTitle\":\"\",\"fNdivisions\":510,\"fAxisColor\":1,\"fLabelColor\":1,\"fLabelFont\":42,\"fLabelOffset\":0.005,\"fLabelSize\":0.035,\"fTickLength\":0.03,\"fTitleOffset\":0,\"fTitleSize\":0.035,\"fTitleColor\":1,\"fTitleFont\":42,\"fNbins\":1,\"fXmin\":0,\"fXmax\":1,\"fXbins\":[],\"fFirst\":0,\"fLast\":0,\"fBits2\":0,\"fTimeDisplay\":false,\"fTimeFormat\":\"\",\"fLabels\":null,\"fModLabs\":null},\"fZaxis\":{\"_typename\":\"TAxis\",\"fUniqueID\":0,\"fBits\":0,\"fName\":\"zaxis\",\"fTitle\":\"\",\"fNdivisions\":510,\"fAxisColor\":1,\"fLabelColor\":1,\"fLabelFont\":42,\"fLabelOffset\":0.005,\"fLabelSize\":0.035,\"fTickLength\":0.03,\"fTitleOffset\":1,\"fTitleSize\":0.035,\"fTitleColor\":1,\"fTitleFont\":42,\"fNbins\":1,\"fXmin\":0,\"fXmax\":1,\"fXbins\":[],\"fFirst\":0,\"fLast\":0,\"fBits2\":0,\"fTimeDisplay\":false,\"fTimeFormat\":\"\",\"fLabels\":null,\"fModLabs\":null},\"fBarOffset\":0,\"fBarWidth\":1000,\"fEntries\":9,\"fTsumw\":0,\"fTsumw2\":0,\"fTsumwx\":0,\"fTsumwx2\":0,\"fMaximum\":-1111,\"fMinimum\":-1111,\"fNormFactor\":0,\"fContour\":[],\"fSumw2\":[],\"fOption\":\"\",\"fFunctions\":{\"_typename\":\"TList\",\"name\":\"TList\",\"arr\":[],\"opt\":[]},\"fBufferSize\":0,\"fBuffer\":[],\"fBinStatErrOpt\":0,\"fStatOverflows\":2,\"fArray\":{\"$arr\":\"Float32\",\"len\":11,\"p\":1,\"v\":[1.214146e-4,0.001536401,0.01552247,0.0201193,0.009242002,0.004071945,0.001022593,1.864954e-5]}},{\"_typename\":\"TH1F\",\"fUniqueID\":0,\"fBits\":520,\"fName\":\"unfolded_pt24\",\"fTitle\":\"Unfolded Ungroomed Jet Mass for p_{T}   4260 - 350 GeV\",\"fLineColor\":4,\"fLineStyle\":1,\"fLineWidth\":1,\"fFillColor\":0,\"fFillStyle\":1001,\"fMarkerColor\":1,\"fMarkerStyle\":1,\"fMarkerSize\":1,\"fNcells\":11,\"fXaxis\":{\"_typename\":\"TAxis\",\"fUniqueID\":0,\"fBits\":2048,\"fName\":\"xaxis\",\"fTitle\":\"\",\"fNdivisions\":510,\"fAxisColor\":1,\"fLabelColor\":1,\"fLabelFont\":42,\"fLabelOffset\":0.005,\"fLabelSize\":0.035,\"fTickLength\":0.03,\"fTitleOffset\":1,\"fTitleSize\":0.035,\"fTitleColor\":1,\"fTitleFont\":42,\"fNbins\":9,\"fXmin\":0,\"fXmax\":13000,\"fXbins\":{\"$arr\":\"Float64\",\"len\":10,\"p\":1,\"v\":[10,20,40,60,80,100,150,200,13000]},\"fFirst\":1,\"fLast\":8,\"fBits2\":0,\"fTimeDisplay\":false,\"fTimeFormat\":\"\",\"fLabels\":null,\"fModLabs\":null},\"fYaxis\":{\"_typename\":\"TAxis\",\"fUniqueID\":0,\"fBits\":0,\"fName\":\"yaxis\",\"fTitle\":\"\",\"fNdivisions\":510,\"fAxisColor\":1,\"fLabelColor\":1,\"fLabelFont\":42,\"fLabelOffset\":0.005,\"fLabelSize\":0.035,\"fTickLength\":0.03,\"fTitleOffset\":0,\"fTitleSize\":0.035,\"fTitleColor\":1,\"fTitleFont\":42,\"fNbins\":1,\"fXmin\":0,\"fXmax\":1,\"fXbins\":[],\"fFirst\":0,\"fLast\":0,\"fBits2\":0,\"fTimeDisplay\":false,\"fTimeFormat\":\"\",\"fLabels\":null,\"fModLabs\":null},\"fZaxis\":{\"_typename\":\"TAxis\",\"fUniqueID\":0,\"fBits\":0,\"fName\":\"zaxis\",\"fTitle\":\"\",\"fNdivisions\":510,\"fAxisColor\":1,\"fLabelColor\":1,\"fLabelFont\":42,\"fLabelOffset\":0.005,\"fLabelSize\":0.035,\"fTickLength\":0.03,\"fTitleOffset\":1,\"fTitleSize\":0.035,\"fTitleColor\":1,\"fTitleFont\":42,\"fNbins\":1,\"fXmin\":0,\"fXmax\":1,\"fXbins\":[],\"fFirst\":0,\"fLast\":0,\"fBits2\":0,\"fTimeDisplay\":false,\"fTimeFormat\":\"\",\"fLabels\":null,\"fModLabs\":null},\"fBarOffset\":0,\"fBarWidth\":1000,\"fEntries\":9,\"fTsumw\":0,\"fTsumw2\":0,\"fTsumwx\":0,\"fTsumwx2\":0,\"fMaximum\":-1111,\"fMinimum\":-1111,\"fNormFactor\":0,\"fContour\":[],\"fSumw2\":[],\"fOption\":\"\",\"fFunctions\":{\"_typename\":\"TList\",\"name\":\"TList\",\"arr\":[],\"opt\":[]},\"fBufferSize\":0,\"fBuffer\":[],\"fBinStatErrOpt\":0,\"fStatOverflows\":2,\"fArray\":{\"$arr\":\"Float32\",\"len\":11,\"p\":1,\"v\":[1.398815e-4,0.001349529,0.01441653,0.01887575,0.008831629,0.003842398,0.001012621,1.602484e-5]}},{\"_typename\":\"TH1F\",\"fUniqueID\":0,\"fBits\":520,\"fName\":\"unfolded_pt25\",\"fTitle\":\"Unfolded Ungroomed Jet Mass for p_{T}   5260 - 350 GeV\",\"fLineColor\":5,\"fLineStyle\":1,\"fLineWidth\":1,\"fFillColor\":0,\"fFillStyle\":1001,\"fMarkerColor\":1,\"fMarkerStyle\":1,\"fMarkerSize\":1,\"fNcells\":11,\"fXaxis\":{\"_typename\":\"TAxis\",\"fUniqueID\":0,\"fBits\":2048,\"fName\":\"xaxis\",\"fTitle\":\"\",\"fNdivisions\":510,\"fAxisColor\":1,\"fLabelColor\":1,\"fLabelFont\":42,\"fLabelOffset\":0.005,\"fLabelSize\":0.035,\"fTickLength\":0.03,\"fTitleOffset\":1,\"fTitleSize\":0.035,\"fTitleColor\":1,\"fTitleFont\":42,\"fNbins\":9,\"fXmin\":0,\"fXmax\":13000,\"fXbins\":{\"$arr\":\"Float64\",\"len\":10,\"p\":1,\"v\":[10,20,40,60,80,100,150,200,13000]},\"fFirst\":1,\"fLast\":8,\"fBits2\":0,\"fTimeDisplay\":false,\"fTimeFormat\":\"\",\"fLabels\":null,\"fModLabs\":null},\"fYaxis\":{\"_typename\":\"TAxis\",\"fUniqueID\":0,\"fBits\":0,\"fName\":\"yaxis\",\"fTitle\":\"\",\"fNdivisions\":510,\"fAxisColor\":1,\"fLabelColor\":1,\"fLabelFont\":42,\"fLabelOffset\":0.005,\"fLabelSize\":0.035,\"fTickLength\":0.03,\"fTitleOffset\":0,\"fTitleSize\":0.035,\"fTitleColor\":1,\"fTitleFont\":42,\"fNbins\":1,\"fXmin\":0,\"fXmax\":1,\"fXbins\":[],\"fFirst\":0,\"fLast\":0,\"fBits2\":0,\"fTimeDisplay\":false,\"fTimeFormat\":\"\",\"fLabels\":null,\"fModLabs\":null},\"fZaxis\":{\"_typename\":\"TAxis\",\"fUniqueID\":0,\"fBits\":0,\"fName\":\"zaxis\",\"fTitle\":\"\",\"fNdivisions\":510,\"fAxisColor\":1,\"fLabelColor\":1,\"fLabelFont\":42,\"fLabelOffset\":0.005,\"fLabelSize\":0.035,\"fTickLength\":0.03,\"fTitleOffset\":1,\"fTitleSize\":0.035,\"fTitleColor\":1,\"fTitleFont\":42,\"fNbins\":1,\"fXmin\":0,\"fXmax\":1,\"fXbins\":[],\"fFirst\":0,\"fLast\":0,\"fBits2\":0,\"fTimeDisplay\":false,\"fTimeFormat\":\"\",\"fLabels\":null,\"fModLabs\":null},\"fBarOffset\":0,\"fBarWidth\":1000,\"fEntries\":9,\"fTsumw\":0,\"fTsumw2\":0,\"fTsumwx\":0,\"fTsumwx2\":0,\"fMaximum\":-1111,\"fMinimum\":-1111,\"fNormFactor\":0,\"fContour\":[],\"fSumw2\":[],\"fOption\":\"\",\"fFunctions\":{\"_typename\":\"TList\",\"name\":\"TList\",\"arr\":[],\"opt\":[]},\"fBufferSize\":0,\"fBuffer\":[],\"fBinStatErrOpt\":0,\"fStatOverflows\":2,\"fArray\":{\"$arr\":\"Float32\",\"len\":11,\"p\":1,\"v\":[1.521224e-4,0.001254563,0.01378123,0.01882781,0.008771577,0.003933043,0.001009985,1.885399e-5]}},{\"_typename\":\"TH1F\",\"fUniqueID\":0,\"fBits\":520,\"fName\":\"unfolded_pt26\",\"fTitle\":\"Unfolded Ungroomed Jet Mass for p_{T}   6260 - 350 GeV\",\"fLineColor\":6,\"fLineStyle\":1,\"fLineWidth\":1,\"fFillColor\":0,\"fFillStyle\":1001,\"fMarkerColor\":1,\"fMarkerStyle\":1,\"fMarkerSize\":1,\"fNcells\":11,\"fXaxis\":{\"_typename\":\"TAxis\",\"fUniqueID\":0,\"fBits\":2048,\"fName\":\"xaxis\",\"fTitle\":\"\",\"fNdivisions\":510,\"fAxisColor\":1,\"fLabelColor\":1,\"fLabelFont\":42,\"fLabelOffset\":0.005,\"fLabelSize\":0.035,\"fTickLength\":0.03,\"fTitleOffset\":1,\"fTitleSize\":0.035,\"fTitleColor\":1,\"fTitleFont\":42,\"fNbins\":9,\"fXmin\":0,\"fXmax\":13000,\"fXbins\":{\"$arr\":\"Float64\",\"len\":10,\"p\":1,\"v\":[10,20,40,60,80,100,150,200,13000]},\"fFirst\":1,\"fLast\":8,\"fBits2\":0,\"fTimeDisplay\":false,\"fTimeFormat\":\"\",\"fLabels\":null,\"fModLabs\":null},\"fYaxis\":{\"_typename\":\"TAxis\",\"fUniqueID\":0,\"fBits\":0,\"fName\":\"yaxis\",\"fTitle\":\"\",\"fNdivisions\":510,\"fAxisColor\":1,\"fLabelColor\":1,\"fLabelFont\":42,\"fLabelOffset\":0.005,\"fLabelSize\":0.035,\"fTickLength\":0.03,\"fTitleOffset\":0,\"fTitleSize\":0.035,\"fTitleColor\":1,\"fTitleFont\":42,\"fNbins\":1,\"fXmin\":0,\"fXmax\":1,\"fXbins\":[],\"fFirst\":0,\"fLast\":0,\"fBits2\":0,\"fTimeDisplay\":false,\"fTimeFormat\":\"\",\"fLabels\":null,\"fModLabs\":null},\"fZaxis\":{\"_typename\":\"TAxis\",\"fUniqueID\":0,\"fBits\":0,\"fName\":\"zaxis\",\"fTitle\":\"\",\"fNdivisions\":510,\"fAxisColor\":1,\"fLabelColor\":1,\"fLabelFont\":42,\"fLabelOffset\":0.005,\"fLabelSize\":0.035,\"fTickLength\":0.03,\"fTitleOffset\":1,\"fTitleSize\":0.035,\"fTitleColor\":1,\"fTitleFont\":42,\"fNbins\":1,\"fXmin\":0,\"fXmax\":1,\"fXbins\":[],\"fFirst\":0,\"fLast\":0,\"fBits2\":0,\"fTimeDisplay\":false,\"fTimeFormat\":\"\",\"fLabels\":null,\"fModLabs\":null},\"fBarOffset\":0,\"fBarWidth\":1000,\"fEntries\":9,\"fTsumw\":0,\"fTsumw2\":0,\"fTsumwx\":0,\"fTsumwx2\":0,\"fMaximum\":-1111,\"fMinimum\":-1111,\"fNormFactor\":0,\"fContour\":[],\"fSumw2\":[],\"fOption\":\"\",\"fFunctions\":{\"_typename\":\"TList\",\"name\":\"TList\",\"arr\":[],\"opt\":[]},\"fBufferSize\":0,\"fBuffer\":[],\"fBinStatErrOpt\":0,\"fStatOverflows\":2,\"fArray\":{\"$arr\":\"Float32\",\"len\":11,\"p\":1,\"v\":[2.073261e-4,0.001207415,0.01471464,0.01959768,0.009016532,0.004001012,0.001023181,2.000586e-5]}},{\"_typename\":\"TH1F\",\"fUniqueID\":0,\"fBits\":520,\"fName\":\"unfolded_pt27\",\"fTitle\":\"Unfolded Ungroomed Jet Mass for p_{T}   7260 - 350 GeV\",\"fLineColor\":7,\"fLineStyle\":1,\"fLineWidth\":1,\"fFillColor\":0,\"fFillStyle\":1001,\"fMarkerColor\":1,\"fMarkerStyle\":1,\"fMarkerSize\":1,\"fNcells\":11,\"fXaxis\":{\"_typename\":\"TAxis\",\"fUniqueID\":0,\"fBits\":2048,\"fName\":\"xaxis\",\"fTitle\":\"\",\"fNdivisions\":510,\"fAxisColor\":1,\"fLabelColor\":1,\"fLabelFont\":42,\"fLabelOffset\":0.005,\"fLabelSize\":0.035,\"fTickLength\":0.03,\"fTitleOffset\":1,\"fTitleSize\":0.035,\"fTitleColor\":1,\"fTitleFont\":42,\"fNbins\":9,\"fXmin\":0,\"fXmax\":13000,\"fXbins\":{\"$arr\":\"Float64\",\"len\":10,\"p\":1,\"v\":[10,20,40,60,80,100,150,200,13000]},\"fFirst\":1,\"fLast\":8,\"fBits2\":0,\"fTimeDisplay\":false,\"fTimeFormat\":\"\",\"fLabels\":null,\"fModLabs\":null},\"fYaxis\":{\"_typename\":\"TAxis\",\"fUniqueID\":0,\"fBits\":0,\"fName\":\"yaxis\",\"fTitle\":\"\",\"fNdivisions\":510,\"fAxisColor\":1,\"fLabelColor\":1,\"fLabelFont\":42,\"fLabelOffset\":0.005,\"fLabelSize\":0.035,\"fTickLength\":0.03,\"fTitleOffset\":0,\"fTitleSize\":0.035,\"fTitleColor\":1,\"fTitleFont\":42,\"fNbins\":1,\"fXmin\":0,\"fXmax\":1,\"fXbins\":[],\"fFirst\":0,\"fLast\":0,\"fBits2\":0,\"fTimeDisplay\":false,\"fTimeFormat\":\"\",\"fLabels\":null,\"fModLabs\":null},\"fZaxis\":{\"_typename\":\"TAxis\",\"fUniqueID\":0,\"fBits\":0,\"fName\":\"zaxis\",\"fTitle\":\"\",\"fNdivisions\":510,\"fAxisColor\":1,\"fLabelColor\":1,\"fLabelFont\":42,\"fLabelOffset\":0.005,\"fLabelSize\":0.035,\"fTickLength\":0.03,\"fTitleOffset\":1,\"fTitleSize\":0.035,\"fTitleColor\":1,\"fTitleFont\":42,\"fNbins\":1,\"fXmin\":0,\"fXmax\":1,\"fXbins\":[],\"fFirst\":0,\"fLast\":0,\"fBits2\":0,\"fTimeDisplay\":false,\"fTimeFormat\":\"\",\"fLabels\":null,\"fModLabs\":null},\"fBarOffset\":0,\"fBarWidth\":1000,\"fEntries\":9,\"fTsumw\":0,\"fTsumw2\":0,\"fTsumwx\":0,\"fTsumwx2\":0,\"fMaximum\":-1111,\"fMinimum\":-1111,\"fNormFactor\":0,\"fContour\":[],\"fSumw2\":[],\"fOption\":\"\",\"fFunctions\":{\"_typename\":\"TList\",\"name\":\"TList\",\"arr\":[],\"opt\":[]},\"fBufferSize\":0,\"fBuffer\":[],\"fBinStatErrOpt\":0,\"fStatOverflows\":2,\"fArray\":{\"$arr\":\"Float32\",\"len\":11,\"p\":1,\"v\":[1.503817e-4,7.548022e-4,0.01458141,0.01951855,0.008818027,0.003956977,0.001003747,1.930298e-5]}},{\"_typename\":\"TH1F\",\"fUniqueID\":0,\"fBits\":520,\"fName\":\"unfolded_pt28\",\"fTitle\":\"Unfolded Ungroomed Jet Mass for p_{T}   8260 - 350 GeV\",\"fLineColor\":8,\"fLineStyle\":1,\"fLineWidth\":1,\"fFillColor\":0,\"fFillStyle\":1001,\"fMarkerColor\":1,\"fMarkerStyle\":1,\"fMarkerSize\":1,\"fNcells\":11,\"fXaxis\":{\"_typename\":\"TAxis\",\"fUniqueID\":0,\"fBits\":2048,\"fName\":\"xaxis\",\"fTitle\":\"\",\"fNdivisions\":510,\"fAxisColor\":1,\"fLabelColor\":1,\"fLabelFont\":42,\"fLabelOffset\":0.005,\"fLabelSize\":0.035,\"fTickLength\":0.03,\"fTitleOffset\":1,\"fTitleSize\":0.035,\"fTitleColor\":1,\"fTitleFont\":42,\"fNbins\":9,\"fXmin\":0,\"fXmax\":13000,\"fXbins\":{\"$arr\":\"Float64\",\"len\":10,\"p\":1,\"v\":[10,20,40,60,80,100,150,200,13000]},\"fFirst\":1,\"fLast\":8,\"fBits2\":0,\"fTimeDisplay\":false,\"fTimeFormat\":\"\",\"fLabels\":null,\"fModLabs\":null},\"fYaxis\":{\"_typename\":\"TAxis\",\"fUniqueID\":0,\"fBits\":0,\"fName\":\"yaxis\",\"fTitle\":\"\",\"fNdivisions\":510,\"fAxisColor\":1,\"fLabelColor\":1,\"fLabelFont\":42,\"fLabelOffset\":0.005,\"fLabelSize\":0.035,\"fTickLength\":0.03,\"fTitleOffset\":0,\"fTitleSize\":0.035,\"fTitleColor\":1,\"fTitleFont\":42,\"fNbins\":1,\"fXmin\":0,\"fXmax\":1,\"fXbins\":[],\"fFirst\":0,\"fLast\":0,\"fBits2\":0,\"fTimeDisplay\":false,\"fTimeFormat\":\"\",\"fLabels\":null,\"fModLabs\":null},\"fZaxis\":{\"_typename\":\"TAxis\",\"fUniqueID\":0,\"fBits\":0,\"fName\":\"zaxis\",\"fTitle\":\"\",\"fNdivisions\":510,\"fAxisColor\":1,\"fLabelColor\":1,\"fLabelFont\":42,\"fLabelOffset\":0.005,\"fLabelSize\":0.035,\"fTickLength\":0.03,\"fTitleOffset\":1,\"fTitleSize\":0.035,\"fTitleColor\":1,\"fTitleFont\":42,\"fNbins\":1,\"fXmin\":0,\"fXmax\":1,\"fXbins\":[],\"fFirst\":0,\"fLast\":0,\"fBits2\":0,\"fTimeDisplay\":false,\"fTimeFormat\":\"\",\"fLabels\":null,\"fModLabs\":null},\"fBarOffset\":0,\"fBarWidth\":1000,\"fEntries\":9,\"fTsumw\":0,\"fTsumw2\":0,\"fTsumwx\":0,\"fTsumwx2\":0,\"fMaximum\":-1111,\"fMinimum\":-1111,\"fNormFactor\":0,\"fContour\":[],\"fSumw2\":[],\"fOption\":\"\",\"fFunctions\":{\"_typename\":\"TList\",\"name\":\"TList\",\"arr\":[],\"opt\":[]},\"fBufferSize\":0,\"fBuffer\":[],\"fBinStatErrOpt\":0,\"fStatOverflows\":2,\"fArray\":{\"$arr\":\"Float32\",\"len\":11,\"p\":1,\"v\":[6.784253e-5,0.001241585,0.01514718,0.01981932,0.009093925,0.003835033,0.001015154,1.912907e-5]}},{\"_typename\":\"TH1F\",\"fUniqueID\":0,\"fBits\":520,\"fName\":\"unfolded_pt29\",\"fTitle\":\"Unfolded Ungroomed Jet Mass for p_{T}   9260 - 350 GeV\",\"fLineColor\":9,\"fLineStyle\":1,\"fLineWidth\":1,\"fFillColor\":0,\"fFillStyle\":1001,\"fMarkerColor\":1,\"fMarkerStyle\":1,\"fMarkerSize\":1,\"fNcells\":11,\"fXaxis\":{\"_typename\":\"TAxis\",\"fUniqueID\":0,\"fBits\":2048,\"fName\":\"xaxis\",\"fTitle\":\"\",\"fNdivisions\":510,\"fAxisColor\":1,\"fLabelColor\":1,\"fLabelFont\":42,\"fLabelOffset\":0.005,\"fLabelSize\":0.035,\"fTickLength\":0.03,\"fTitleOffset\":1,\"fTitleSize\":0.035,\"fTitleColor\":1,\"fTitleFont\":42,\"fNbins\":9,\"fXmin\":0,\"fXmax\":13000,\"fXbins\":{\"$arr\":\"Float64\",\"len\":10,\"p\":1,\"v\":[10,20,40,60,80,100,150,200,13000]},\"fFirst\":1,\"fLast\":8,\"fBits2\":0,\"fTimeDisplay\":false,\"fTimeFormat\":\"\",\"fLabels\":null,\"fModLabs\":null},\"fYaxis\":{\"_typename\":\"TAxis\",\"fUniqueID\":0,\"fBits\":0,\"fName\":\"yaxis\",\"fTitle\":\"\",\"fNdivisions\":510,\"fAxisColor\":1,\"fLabelColor\":1,\"fLabelFont\":42,\"fLabelOffset\":0.005,\"fLabelSize\":0.035,\"fTickLength\":0.03,\"fTitleOffset\":0,\"fTitleSize\":0.035,\"fTitleColor\":1,\"fTitleFont\":42,\"fNbins\":1,\"fXmin\":0,\"fXmax\":1,\"fXbins\":[],\"fFirst\":0,\"fLast\":0,\"fBits2\":0,\"fTimeDisplay\":false,\"fTimeFormat\":\"\",\"fLabels\":null,\"fModLabs\":null},\"fZaxis\":{\"_typename\":\"TAxis\",\"fUniqueID\":0,\"fBits\":0,\"fName\":\"zaxis\",\"fTitle\":\"\",\"fNdivisions\":510,\"fAxisColor\":1,\"fLabelColor\":1,\"fLabelFont\":42,\"fLabelOffset\":0.005,\"fLabelSize\":0.035,\"fTickLength\":0.03,\"fTitleOffset\":1,\"fTitleSize\":0.035,\"fTitleColor\":1,\"fTitleFont\":42,\"fNbins\":1,\"fXmin\":0,\"fXmax\":1,\"fXbins\":[],\"fFirst\":0,\"fLast\":0,\"fBits2\":0,\"fTimeDisplay\":false,\"fTimeFormat\":\"\",\"fLabels\":null,\"fModLabs\":null},\"fBarOffset\":0,\"fBarWidth\":1000,\"fEntries\":9,\"fTsumw\":0,\"fTsumw2\":0,\"fTsumwx\":0,\"fTsumwx2\":0,\"fMaximum\":-1111,\"fMinimum\":-1111,\"fNormFactor\":0,\"fContour\":[],\"fSumw2\":[],\"fOption\":\"\",\"fFunctions\":{\"_typename\":\"TList\",\"name\":\"TList\",\"arr\":[],\"opt\":[]},\"fBufferSize\":0,\"fBuffer\":[],\"fBinStatErrOpt\":0,\"fStatOverflows\":2,\"fArray\":{\"$arr\":\"Float32\",\"len\":11,\"p\":1,\"v\":[2.716033e-4,0.001081379,0.01385291,0.01931202,0.008893308,0.003924107,0.00100701,1.820115e-5]}},{\"_typename\":\"TPaveText\",\"fUniqueID\":0,\"fBits\":9,\"fLineColor\":1,\"fLineStyle\":1,\"fLineWidth\":1,\"fFillColor\":0,\"fFillStyle\":0,\"fX1\":12.4999986961483,\"fY1\":0.0207636672176836,\"fX2\":187.500001303852,\"fY2\":0.0227686729845458,\"fX1NDC\":0.15,\"fY1NDC\":0.916186445446338,\"fX2NDC\":0.85,\"fY2NDC\":0.995000004768372,\"fBorderSize\":0,\"fInit\":1,\"fShadowColor\":1,\"fCornerRadius\":0,\"fOption\":\"blNDC\",\"fName\":\"title\",\"fTextAngle\":0,\"fTextSize\":0,\"fTextAlign\":22,\"fTextColor\":1,\"fTextFont\":42,\"fLabel\":\"\",\"fLongest\":54,\"fMargin\":0.05,\"fLines\":{\"_typename\":\"TList\",\"name\":\"TList\",\"arr\":[{\"_typename\":\"TLatex\",\"fUniqueID\":0,\"fBits\":0,\"fName\":\"\",\"fTitle\":\"Unfolded Ungroomed Jet Mass for p_{T}   0260 - 350 GeV\",\"fTextAngle\":0,\"fTextSize\":0,\"fTextAlign\":0,\"fTextColor\":0,\"fTextFont\":0,\"fX\":0,\"fY\":0,\"fLineColor\":1,\"fLineStyle\":1,\"fLineWidth\":2,\"fLimitFactorSize\":3,\"fOriginSize\":0.0669915229082108}],\"opt\":[\"\"]}},{\"_typename\":\"TStyle\",\"fUniqueID\":0,\"fBits\":0,\"fName\":\"Modern\",\"fTitle\":\"Modern Style\",\"fLineColor\":1,\"fLineStyle\":1,\"fLineWidth\":1,\"fFillColor\":19,\"fFillStyle\":1001,\"fMarkerColor\":1,\"fMarkerStyle\":1,\"fMarkerSize\":1,\"fTextAngle\":0,\"fTextSize\":0.05,\"fTextAlign\":11,\"fTextColor\":1,\"fTextFont\":62,\"fXaxis\":{\"_typename\":\"TAttAxis\",\"fNdivisions\":510,\"fAxisColor\":1,\"fLabelColor\":1,\"fLabelFont\":42,\"fLabelOffset\":0.005,\"fLabelSize\":0.035,\"fTickLength\":0.03,\"fTitleOffset\":1,\"fTitleSize\":0.035,\"fTitleColor\":1,\"fTitleFont\":42},\"fYaxis\":{\"_typename\":\"TAttAxis\",\"fNdivisions\":510,\"fAxisColor\":1,\"fLabelColor\":1,\"fLabelFont\":42,\"fLabelOffset\":0.005,\"fLabelSize\":0.035,\"fTickLength\":0.03,\"fTitleOffset\":0,\"fTitleSize\":0.035,\"fTitleColor\":1,\"fTitleFont\":42},\"fZaxis\":{\"_typename\":\"TAttAxis\",\"fNdivisions\":510,\"fAxisColor\":1,\"fLabelColor\":1,\"fLabelFont\":42,\"fLabelOffset\":0.005,\"fLabelSize\":0.035,\"fTickLength\":0.03,\"fTitleOffset\":1,\"fTitleSize\":0.035,\"fTitleColor\":1,\"fTitleFont\":42},\"fBarWidth\":1,\"fBarOffset\":0,\"fColorModelPS\":0,\"fDrawBorder\":0,\"fOptLogx\":0,\"fOptLogy\":0,\"fOptLogz\":0,\"fOptDate\":0,\"fOptStat\":0,\"fOptTitle\":1,\"fOptFile\":0,\"fOptFit\":0,\"fShowEventStatus\":0,\"fShowEditor\":0,\"fShowToolBar\":0,\"fNumberContours\":20,\"fAttDate\":{\"_typename\":\"TAttText\",\"fTextAngle\":0,\"fTextSize\":0.025,\"fTextAlign\":11,\"fTextColor\":1,\"fTextFont\":62},\"fDateX\":0.01,\"fDateY\":0.01,\"fEndErrorSize\":2,\"fErrorX\":0.5,\"fFuncColor\":2,\"fFuncStyle\":1,\"fFuncWidth\":2,\"fGridColor\":0,\"fGridStyle\":3,\"fGridWidth\":1,\"fLegendBorderSize\":1,\"fLegendFillColor\":0,\"fLegendFont\":42,\"fLegendTextSize\":0,\"fHatchesLineWidth\":1,\"fHatchesSpacing\":1,\"fFrameFillColor\":0,\"fFrameLineColor\":1,\"fFrameFillStyle\":1001,\"fFrameLineStyle\":1,\"fFrameLineWidth\":1,\"fFrameBorderSize\":1,\"fFrameBorderMode\":0,\"fHistFillColor\":0,\"fHistLineColor\":602,\"fHistFillStyle\":1001,\"fHistLineStyle\":1,\"fHistLineWidth\":1,\"fHistMinimumZero\":false,\"fHistTopMargin\":0.05,\"fCanvasPreferGL\":false,\"fCanvasColor\":0,\"fCanvasBorderSize\":2,\"fCanvasBorderMode\":0,\"fCanvasDefH\":500,\"fCanvasDefW\":700,\"fCanvasDefX\":10,\"fCanvasDefY\":10,\"fPadColor\":0,\"fPadBorderSize\":2,\"fPadBorderMode\":0,\"fPadBottomMargin\":0.1,\"fPadTopMargin\":0.1,\"fPadLeftMargin\":0.1,\"fPadRightMargin\":0.1,\"fPadGridX\":false,\"fPadGridY\":false,\"fPadTickX\":0,\"fPadTickY\":0,\"fPaperSizeX\":20,\"fPaperSizeY\":26,\"fScreenFactor\":1,\"fStatColor\":0,\"fStatTextColor\":1,\"fStatBorderSize\":1,\"fStatFont\":42,\"fStatFontSize\":0,\"fStatStyle\":1001,\"fStatFormat\":\"6.4g\",\"fStatX\":0.98,\"fStatY\":0.935,\"fStatW\":0.2,\"fStatH\":0.16,\"fStripDecimals\":true,\"fTitleAlign\":23,\"fTitleColor\":0,\"fTitleTextColor\":1,\"fTitleBorderSize\":0,\"fTitleFont\":42,\"fTitleFontSize\":0.05,\"fTitleStyle\":0,\"fTitleX\":0.5,\"fTitleY\":0.995,\"fTitleW\":0,\"fTitleH\":0,\"fLegoInnerR\":0.5,\"fLineStyles\":[\"\",\"  \",\" 12 12\",\" 4 8\",\" 12 16 4 16\",\" 20 12 4 12\",\" 20 12 4 12 4 12 4 12\",\" 20 20\",\" 20 12 4 12 4 12\",\" 80 20\",\" 80 40 4 40\",\"  \",\"  \",\"  \",\"  \",\"  \",\"  \",\"  \",\"  \",\"  \",\"  \",\"  \",\"  \",\"  \",\"  \",\"  \",\"  \",\"  \",\"  \",\"  \"],\"fHeaderPS\":\"\",\"fTitlePS\":\"\",\"fFitFormat\":\"5.4g\",\"fPaintTextFormat\":\"g\",\"fLineScalePS\":3,\"fJoinLinePS\":0,\"fCapLinePS\":0,\"fTimeOffset\":788918400,\"fImageScaling\":1}],\"opt\":[\"\",\"hist \",\"hist same\",\"hist same\",\"hist same\",\"hist same\",\"hist same\",\"hist same\",\"hist same\",\"hist same\",\"hist same\",\"blNDC\",\"\"]},\"fExecs\":null,\"fName\":\"c2\",\"fTitle\":\"c2\",\"fNumPaletteColor\":0,\"fNextPaletteColor\":0,\"fDISPLAY\":\"$DISPLAY\",\"fDoubleBuffer\":0,\"fRetained\":true,\"fXsizeUser\":0,\"fYsizeUser\":0,\"fXsizeReal\":20,\"fYsizeReal\":14.28571,\"fWindowTopX\":0,\"fWindowTopY\":0,\"fWindowWidth\":0,\"fWindowHeight\":0,\"fCw\":696,\"fCh\":472,\"fCatt\":{\"_typename\":\"TAttCanvas\",\"fXBetween\":2,\"fYBetween\":2,\"fTitleFromTop\":1.2,\"fXdate\":0.2,\"fYdate\":0.3,\"fAdate\":1},\"kMoveOpaque\":true,\"kResizeOpaque\":true,\"fHighLightColor\":2,\"fBatch\":true,\"kShowEventStatus\":false,\"kAutoExec\":true,\"kMenuBar\":true});\n",
       "   Core.settings.HandleKeys = false;\n",
       "   Core.draw(\"root_plot_1717508557392\", obj, \"\");\n",
       "}\n",
       "\n",
       "function script_load_root_plot_1717508557392(src, on_error) {\n",
       "    let script = document.createElement('script');\n",
       "    script.src = src;\n",
       "    script.onload = function() { display_root_plot_1717508557392(JSROOT); };\n",
       "    script.onerror = function() { script.remove(); on_error(); };\n",
       "    document.head.appendChild(script);\n",
       "}\n",
       "\n",
       "if (typeof requirejs !== 'undefined') {\n",
       "\n",
       "    // We are in jupyter notebooks, use require.js which should be configured already\n",
       "    requirejs.config({\n",
       "       paths: { 'JSRootCore' : [ 'build/jsroot', 'https://root.cern/js/7.2.1/build/jsroot', 'https://jsroot.gsi.de/7.2.1/build/jsroot' ] }\n",
       "    })(['JSRootCore'],  function(Core) {\n",
       "       display_root_plot_1717508557392(Core);\n",
       "    });\n",
       "\n",
       "} else if (typeof JSROOT !== 'undefined') {\n",
       "\n",
       "   // JSROOT already loaded, just use it\n",
       "   display_root_plot_1717508557392(JSROOT);\n",
       "\n",
       "} else {\n",
       "\n",
       "    // We are in jupyterlab without require.js, directly loading jsroot\n",
       "    // Jupyterlab might be installed in a different base_url so we need to know it.\n",
       "    try {\n",
       "        var base_url = JSON.parse(document.getElementById('jupyter-config-data').innerHTML).baseUrl;\n",
       "    } catch(_) {\n",
       "        var base_url = '/';\n",
       "    }\n",
       "\n",
       "    // Try loading a local version of requirejs and fallback to cdn if not possible.\n",
       "    script_load_root_plot_1717508557392(base_url + 'static/build/jsroot.js', function(){\n",
       "        console.error('Fail to load JSROOT locally, please check your jupyter_notebook_config.py file');\n",
       "        script_load_root_plot_1717508557392('https://root.cern/js/7.2.1/build/jsroot.js', function(){\n",
       "            document.getElementById(\"root_plot_1717508557392\").innerHTML = \"Failed to load JSROOT\";\n",
       "        });\n",
       "    });\n",
       "}\n",
       "\n",
       "</script>\n"
      ],
      "text/plain": [
       "<IPython.core.display.HTML object>"
      ]
     },
     "metadata": {},
     "output_type": "display_data"
    }
   ],
   "source": [
    "canvs = []\n",
    "hists = []\n",
    "hcopy_list = []\n",
    "i = 2\n",
    "for ipt in range(i,i+1): \n",
    "    ci = ROOT.TCanvas(\"c\" + str(ipt), \"c\" + str(ipt))\n",
    "    \n",
    "    for i_jk in range(10):\n",
    "        hcopy_list.append(ROOT.TH1F(\"unfolded_pt\" + str(ipt)+str(i_jk), \"Unfolded Ungroomed Jet Mass for p_{T} \" + \"  \"+  str(i_jk)+ str(ptbinsGen[ipt+1])[:-2] +\" - \" +str(ptbinsGen[ipt+2])[:-2] +' GeV', nmbinsGen, mbinsGen ))\n",
    "        m_int = 0\n",
    "        for im in range(nmbinsGen):\n",
    "            #print(im + ipt*(nmbinsGen+2) + 2)\n",
    "            # print(\"mass \", mgen_center[im])\n",
    "            # print(\"pt \" , ptgen_center[ipt])\n",
    "\n",
    "            bin_number = signalBinning.GetGlobalBinNumber(mgen_center[im], ptgen_center[ipt])\n",
    "\n",
    "            m_int = m_int + o_list[i].GetBinContent(bin_number)\n",
    "        for im in range(nmbinsGen):\n",
    "            #print(im + ipt*(nmbinsGen+2) + 2)\n",
    "            # print(\"mass \", mgen_center[im])\n",
    "            # print(\"pt \" , ptgen_center[ipt])\n",
    "\n",
    "            bin_number = signalBinning.GetGlobalBinNumber(mgen_center[im], ptgen_center[ipt])\n",
    "            if (m_int>0):\n",
    "                hcopy_list[i_jk].SetBinContent(im+1, o_list[i_jk].GetBinContent(bin_number )/(mgen_width[im]*m_int) )\n",
    "        hcopy_list[i_jk].SetLineColor(i_jk)\n",
    "        hcopy_list[i_jk].GetXaxis().SetRangeUser(0,200)\n",
    "        hcopy_list[i_jk].Draw('hist same')\n",
    "    ci.Draw()\n",
    "\n",
    "\n",
    "\n",
    "\n",
    "\n",
    "\n",
    "\n",
    "\n",
    "    "
   ]
  },
  {
   "cell_type": "code",
   "execution_count": 230,
   "id": "99234bee-20b5-4b46-86e0-f2f00c39abb6",
   "metadata": {
    "tags": []
   },
   "outputs": [],
   "source": [
    "%jsroot"
   ]
  },
  {
   "cell_type": "code",
   "execution_count": 231,
   "id": "782a8787-bfab-4d64-9243-dffcd8526442",
   "metadata": {
    "tags": []
   },
   "outputs": [
    {
     "data": {
      "text/html": [
       "\n",
       "\n",
       "<div id=\"root_plot_1717508031603\"\n",
       "     style=\"width: 696px; height: 472px\">\n",
       "</div>\n",
       "<script>\n",
       "\n",
       "function display_root_plot_1717508031603(Core) {\n",
       "   let obj = Core.parse({\"_typename\":\"TCanvas\",\"fUniqueID\":0,\"fBits\":3342344,\"fLineColor\":1,\"fLineStyle\":1,\"fLineWidth\":1,\"fFillColor\":0,\"fFillStyle\":1001,\"fLeftMargin\":0.1,\"fRightMargin\":0.1,\"fBottomMargin\":0.1,\"fTopMargin\":0.1,\"fXfile\":2,\"fYfile\":2,\"fAfile\":1,\"fXstat\":0.99,\"fYstat\":0.99,\"fAstat\":2,\"fFrameFillColor\":0,\"fFrameLineColor\":1,\"fFrameFillStyle\":1001,\"fFrameLineStyle\":1,\"fFrameLineWidth\":1,\"fFrameBorderSize\":1,\"fFrameBorderMode\":0,\"fX1\":-25.0000018626453,\"fY1\":-0.00222725781209825,\"fX2\":225.000001862645,\"fY2\":0.0200453189813351,\"fXtoAbsPixelk\":69.6000541484835,\"fXtoPixelk\":69.6000541484835,\"fXtoPixel\":2.78399995851517,\"fYtoAbsPixelk\":424.800047186661,\"fYtoPixelk\":424.800047186661,\"fYtoPixel\":-21191.9799122282,\"fUtoAbsPixelk\":5e-5,\"fUtoPixelk\":5e-5,\"fUtoPixel\":696,\"fVtoAbsPixelk\":472.00005,\"fVtoPixelk\":472,\"fVtoPixel\":-472,\"fAbsPixeltoXk\":-25.0000018626453,\"fPixeltoXk\":-25.0000018626453,\"fPixeltoX\":0.359195407651279,\"fAbsPixeltoYk\":0.0200453189813351,\"fPixeltoYk\":-0.00222725781209825,\"fPixeltoY\":-4.71876626979521e-5,\"fXlowNDC\":0,\"fYlowNDC\":0,\"fXUpNDC\":1,\"fYUpNDC\":1,\"fWNDC\":1,\"fHNDC\":1,\"fAbsXlowNDC\":0,\"fAbsYlowNDC\":0,\"fAbsWNDC\":1,\"fAbsHNDC\":1,\"fUxmin\":0,\"fUymin\":0,\"fUxmax\":200,\"fUymax\":0.0178180611692369,\"fTheta\":30,\"fPhi\":30,\"fAspectRatio\":0,\"fNumber\":0,\"fTickx\":0,\"fTicky\":0,\"fLogx\":0,\"fLogy\":0,\"fLogz\":0,\"fPadPaint\":0,\"fCrosshair\":0,\"fCrosshairPos\":0,\"fBorderSize\":2,\"fBorderMode\":0,\"fModified\":false,\"fGridx\":false,\"fGridy\":false,\"fAbsCoord\":false,\"fEditable\":true,\"fFixedAspectRatio\":false,\"fPrimitives\":{\"_typename\":\"TList\",\"name\":\"TList\",\"arr\":[{\"_typename\":\"TFrame\",\"fUniqueID\":0,\"fBits\":8,\"fLineColor\":1,\"fLineStyle\":1,\"fLineWidth\":1,\"fFillColor\":0,\"fFillStyle\":1001,\"fX1\":0,\"fY1\":0,\"fX2\":200,\"fY2\":0.0178180611692369,\"fBorderSize\":1,\"fBorderMode\":0},{\"_typename\":\"TH1F\",\"fUniqueID\":0,\"fBits\":520,\"fName\":\"unfolded_pt30\",\"fTitle\":\"Unfolded Ungroomed Jet Mass for p_{T}   0350 - 460 GeV\",\"fLineColor\":3,\"fLineStyle\":1,\"fLineWidth\":1,\"fFillColor\":0,\"fFillStyle\":1001,\"fMarkerColor\":1,\"fMarkerStyle\":1,\"fMarkerSize\":1,\"fNcells\":11,\"fXaxis\":{\"_typename\":\"TAxis\",\"fUniqueID\":0,\"fBits\":2048,\"fName\":\"xaxis\",\"fTitle\":\"\",\"fNdivisions\":510,\"fAxisColor\":1,\"fLabelColor\":1,\"fLabelFont\":42,\"fLabelOffset\":0.005,\"fLabelSize\":0.035,\"fTickLength\":0.03,\"fTitleOffset\":1,\"fTitleSize\":0.035,\"fTitleColor\":1,\"fTitleFont\":42,\"fNbins\":9,\"fXmin\":0,\"fXmax\":13000,\"fXbins\":{\"$arr\":\"Float64\",\"len\":10,\"p\":1,\"v\":[10,20,40,60,80,100,150,200,13000]},\"fFirst\":1,\"fLast\":8,\"fBits2\":0,\"fTimeDisplay\":false,\"fTimeFormat\":\"\",\"fLabels\":null,\"fModLabs\":null},\"fYaxis\":{\"_typename\":\"TAxis\",\"fUniqueID\":0,\"fBits\":0,\"fName\":\"yaxis\",\"fTitle\":\"\",\"fNdivisions\":510,\"fAxisColor\":1,\"fLabelColor\":1,\"fLabelFont\":42,\"fLabelOffset\":0.005,\"fLabelSize\":0.035,\"fTickLength\":0.03,\"fTitleOffset\":0,\"fTitleSize\":0.035,\"fTitleColor\":1,\"fTitleFont\":42,\"fNbins\":1,\"fXmin\":0,\"fXmax\":1,\"fXbins\":[],\"fFirst\":0,\"fLast\":0,\"fBits2\":0,\"fTimeDisplay\":false,\"fTimeFormat\":\"\",\"fLabels\":null,\"fModLabs\":null},\"fZaxis\":{\"_typename\":\"TAxis\",\"fUniqueID\":0,\"fBits\":0,\"fName\":\"zaxis\",\"fTitle\":\"\",\"fNdivisions\":510,\"fAxisColor\":1,\"fLabelColor\":1,\"fLabelFont\":42,\"fLabelOffset\":0.005,\"fLabelSize\":0.035,\"fTickLength\":0.03,\"fTitleOffset\":1,\"fTitleSize\":0.035,\"fTitleColor\":1,\"fTitleFont\":42,\"fNbins\":1,\"fXmin\":0,\"fXmax\":1,\"fXbins\":[],\"fFirst\":0,\"fLast\":0,\"fBits2\":0,\"fTimeDisplay\":false,\"fTimeFormat\":\"\",\"fLabels\":null,\"fModLabs\":null},\"fBarOffset\":0,\"fBarWidth\":1000,\"fEntries\":9,\"fTsumw\":0,\"fTsumw2\":0,\"fTsumwx\":0,\"fTsumwx2\":0,\"fMaximum\":-1111,\"fMinimum\":-1111,\"fNormFactor\":0,\"fContour\":[],\"fSumw2\":[],\"fOption\":\"\",\"fFunctions\":{\"_typename\":\"TList\",\"name\":\"TList\",\"arr\":[],\"opt\":[]},\"fBufferSize\":0,\"fBuffer\":[],\"fBinStatErrOpt\":0,\"fStatOverflows\":2,\"fArray\":{\"$arr\":\"Float32\",\"len\":11,\"p\":1,\"v\":[7.576241e-5,5.8951e-4,0.00854487,0.01696958,0.0114756,0.005734615,0.00239293,3.781068e-4,2.359475e-8]}},{\"_typename\":\"TH1F\",\"fUniqueID\":0,\"fBits\":520,\"fName\":\"unfolded_pt31\",\"fTitle\":\"Unfolded Ungroomed Jet Mass for p_{T}   1350 - 460 GeV\",\"fLineColor\":3,\"fLineStyle\":1,\"fLineWidth\":1,\"fFillColor\":0,\"fFillStyle\":1001,\"fMarkerColor\":1,\"fMarkerStyle\":1,\"fMarkerSize\":1,\"fNcells\":11,\"fXaxis\":{\"_typename\":\"TAxis\",\"fUniqueID\":0,\"fBits\":2048,\"fName\":\"xaxis\",\"fTitle\":\"\",\"fNdivisions\":510,\"fAxisColor\":1,\"fLabelColor\":1,\"fLabelFont\":42,\"fLabelOffset\":0.005,\"fLabelSize\":0.035,\"fTickLength\":0.03,\"fTitleOffset\":1,\"fTitleSize\":0.035,\"fTitleColor\":1,\"fTitleFont\":42,\"fNbins\":9,\"fXmin\":0,\"fXmax\":13000,\"fXbins\":{\"$arr\":\"Float64\",\"len\":10,\"p\":1,\"v\":[10,20,40,60,80,100,150,200,13000]},\"fFirst\":1,\"fLast\":8,\"fBits2\":0,\"fTimeDisplay\":false,\"fTimeFormat\":\"\",\"fLabels\":null,\"fModLabs\":null},\"fYaxis\":{\"_typename\":\"TAxis\",\"fUniqueID\":0,\"fBits\":0,\"fName\":\"yaxis\",\"fTitle\":\"\",\"fNdivisions\":510,\"fAxisColor\":1,\"fLabelColor\":1,\"fLabelFont\":42,\"fLabelOffset\":0.005,\"fLabelSize\":0.035,\"fTickLength\":0.03,\"fTitleOffset\":0,\"fTitleSize\":0.035,\"fTitleColor\":1,\"fTitleFont\":42,\"fNbins\":1,\"fXmin\":0,\"fXmax\":1,\"fXbins\":[],\"fFirst\":0,\"fLast\":0,\"fBits2\":0,\"fTimeDisplay\":false,\"fTimeFormat\":\"\",\"fLabels\":null,\"fModLabs\":null},\"fZaxis\":{\"_typename\":\"TAxis\",\"fUniqueID\":0,\"fBits\":0,\"fName\":\"zaxis\",\"fTitle\":\"\",\"fNdivisions\":510,\"fAxisColor\":1,\"fLabelColor\":1,\"fLabelFont\":42,\"fLabelOffset\":0.005,\"fLabelSize\":0.035,\"fTickLength\":0.03,\"fTitleOffset\":1,\"fTitleSize\":0.035,\"fTitleColor\":1,\"fTitleFont\":42,\"fNbins\":1,\"fXmin\":0,\"fXmax\":1,\"fXbins\":[],\"fFirst\":0,\"fLast\":0,\"fBits2\":0,\"fTimeDisplay\":false,\"fTimeFormat\":\"\",\"fLabels\":null,\"fModLabs\":null},\"fBarOffset\":0,\"fBarWidth\":1000,\"fEntries\":9,\"fTsumw\":0,\"fTsumw2\":0,\"fTsumwx\":0,\"fTsumwx2\":0,\"fMaximum\":-1111,\"fMinimum\":-1111,\"fNormFactor\":0,\"fContour\":[],\"fSumw2\":[],\"fOption\":\"\",\"fFunctions\":{\"_typename\":\"TList\",\"name\":\"TList\",\"arr\":[],\"opt\":[]},\"fBufferSize\":0,\"fBuffer\":[],\"fBinStatErrOpt\":0,\"fStatOverflows\":2,\"fArray\":{\"$arr\":\"Float32\",\"len\":11,\"p\":1,\"v\":[7.576241e-5,5.8951e-4,0.00854487,0.01696958,0.0114756,0.005734615,0.00239293,3.781068e-4,2.359475e-8]}},{\"_typename\":\"TH1F\",\"fUniqueID\":0,\"fBits\":520,\"fName\":\"unfolded_pt32\",\"fTitle\":\"Unfolded Ungroomed Jet Mass for p_{T}   2350 - 460 GeV\",\"fLineColor\":3,\"fLineStyle\":1,\"fLineWidth\":1,\"fFillColor\":0,\"fFillStyle\":1001,\"fMarkerColor\":1,\"fMarkerStyle\":1,\"fMarkerSize\":1,\"fNcells\":11,\"fXaxis\":{\"_typename\":\"TAxis\",\"fUniqueID\":0,\"fBits\":2048,\"fName\":\"xaxis\",\"fTitle\":\"\",\"fNdivisions\":510,\"fAxisColor\":1,\"fLabelColor\":1,\"fLabelFont\":42,\"fLabelOffset\":0.005,\"fLabelSize\":0.035,\"fTickLength\":0.03,\"fTitleOffset\":1,\"fTitleSize\":0.035,\"fTitleColor\":1,\"fTitleFont\":42,\"fNbins\":9,\"fXmin\":0,\"fXmax\":13000,\"fXbins\":{\"$arr\":\"Float64\",\"len\":10,\"p\":1,\"v\":[10,20,40,60,80,100,150,200,13000]},\"fFirst\":1,\"fLast\":8,\"fBits2\":0,\"fTimeDisplay\":false,\"fTimeFormat\":\"\",\"fLabels\":null,\"fModLabs\":null},\"fYaxis\":{\"_typename\":\"TAxis\",\"fUniqueID\":0,\"fBits\":0,\"fName\":\"yaxis\",\"fTitle\":\"\",\"fNdivisions\":510,\"fAxisColor\":1,\"fLabelColor\":1,\"fLabelFont\":42,\"fLabelOffset\":0.005,\"fLabelSize\":0.035,\"fTickLength\":0.03,\"fTitleOffset\":0,\"fTitleSize\":0.035,\"fTitleColor\":1,\"fTitleFont\":42,\"fNbins\":1,\"fXmin\":0,\"fXmax\":1,\"fXbins\":[],\"fFirst\":0,\"fLast\":0,\"fBits2\":0,\"fTimeDisplay\":false,\"fTimeFormat\":\"\",\"fLabels\":null,\"fModLabs\":null},\"fZaxis\":{\"_typename\":\"TAxis\",\"fUniqueID\":0,\"fBits\":0,\"fName\":\"zaxis\",\"fTitle\":\"\",\"fNdivisions\":510,\"fAxisColor\":1,\"fLabelColor\":1,\"fLabelFont\":42,\"fLabelOffset\":0.005,\"fLabelSize\":0.035,\"fTickLength\":0.03,\"fTitleOffset\":1,\"fTitleSize\":0.035,\"fTitleColor\":1,\"fTitleFont\":42,\"fNbins\":1,\"fXmin\":0,\"fXmax\":1,\"fXbins\":[],\"fFirst\":0,\"fLast\":0,\"fBits2\":0,\"fTimeDisplay\":false,\"fTimeFormat\":\"\",\"fLabels\":null,\"fModLabs\":null},\"fBarOffset\":0,\"fBarWidth\":1000,\"fEntries\":9,\"fTsumw\":0,\"fTsumw2\":0,\"fTsumwx\":0,\"fTsumwx2\":0,\"fMaximum\":-1111,\"fMinimum\":-1111,\"fNormFactor\":0,\"fContour\":[],\"fSumw2\":[],\"fOption\":\"\",\"fFunctions\":{\"_typename\":\"TList\",\"name\":\"TList\",\"arr\":[],\"opt\":[]},\"fBufferSize\":0,\"fBuffer\":[],\"fBinStatErrOpt\":0,\"fStatOverflows\":2,\"fArray\":{\"$arr\":\"Float32\",\"len\":11,\"p\":1,\"v\":[7.576241e-5,5.8951e-4,0.00854487,0.01696958,0.0114756,0.005734615,0.00239293,3.781068e-4,2.359475e-8]}},{\"_typename\":\"TH1F\",\"fUniqueID\":0,\"fBits\":520,\"fName\":\"unfolded_pt33\",\"fTitle\":\"Unfolded Ungroomed Jet Mass for p_{T}   3350 - 460 GeV\",\"fLineColor\":3,\"fLineStyle\":1,\"fLineWidth\":1,\"fFillColor\":0,\"fFillStyle\":1001,\"fMarkerColor\":1,\"fMarkerStyle\":1,\"fMarkerSize\":1,\"fNcells\":11,\"fXaxis\":{\"_typename\":\"TAxis\",\"fUniqueID\":0,\"fBits\":2048,\"fName\":\"xaxis\",\"fTitle\":\"\",\"fNdivisions\":510,\"fAxisColor\":1,\"fLabelColor\":1,\"fLabelFont\":42,\"fLabelOffset\":0.005,\"fLabelSize\":0.035,\"fTickLength\":0.03,\"fTitleOffset\":1,\"fTitleSize\":0.035,\"fTitleColor\":1,\"fTitleFont\":42,\"fNbins\":9,\"fXmin\":0,\"fXmax\":13000,\"fXbins\":{\"$arr\":\"Float64\",\"len\":10,\"p\":1,\"v\":[10,20,40,60,80,100,150,200,13000]},\"fFirst\":1,\"fLast\":8,\"fBits2\":0,\"fTimeDisplay\":false,\"fTimeFormat\":\"\",\"fLabels\":null,\"fModLabs\":null},\"fYaxis\":{\"_typename\":\"TAxis\",\"fUniqueID\":0,\"fBits\":0,\"fName\":\"yaxis\",\"fTitle\":\"\",\"fNdivisions\":510,\"fAxisColor\":1,\"fLabelColor\":1,\"fLabelFont\":42,\"fLabelOffset\":0.005,\"fLabelSize\":0.035,\"fTickLength\":0.03,\"fTitleOffset\":0,\"fTitleSize\":0.035,\"fTitleColor\":1,\"fTitleFont\":42,\"fNbins\":1,\"fXmin\":0,\"fXmax\":1,\"fXbins\":[],\"fFirst\":0,\"fLast\":0,\"fBits2\":0,\"fTimeDisplay\":false,\"fTimeFormat\":\"\",\"fLabels\":null,\"fModLabs\":null},\"fZaxis\":{\"_typename\":\"TAxis\",\"fUniqueID\":0,\"fBits\":0,\"fName\":\"zaxis\",\"fTitle\":\"\",\"fNdivisions\":510,\"fAxisColor\":1,\"fLabelColor\":1,\"fLabelFont\":42,\"fLabelOffset\":0.005,\"fLabelSize\":0.035,\"fTickLength\":0.03,\"fTitleOffset\":1,\"fTitleSize\":0.035,\"fTitleColor\":1,\"fTitleFont\":42,\"fNbins\":1,\"fXmin\":0,\"fXmax\":1,\"fXbins\":[],\"fFirst\":0,\"fLast\":0,\"fBits2\":0,\"fTimeDisplay\":false,\"fTimeFormat\":\"\",\"fLabels\":null,\"fModLabs\":null},\"fBarOffset\":0,\"fBarWidth\":1000,\"fEntries\":9,\"fTsumw\":0,\"fTsumw2\":0,\"fTsumwx\":0,\"fTsumwx2\":0,\"fMaximum\":-1111,\"fMinimum\":-1111,\"fNormFactor\":0,\"fContour\":[],\"fSumw2\":[],\"fOption\":\"\",\"fFunctions\":{\"_typename\":\"TList\",\"name\":\"TList\",\"arr\":[],\"opt\":[]},\"fBufferSize\":0,\"fBuffer\":[],\"fBinStatErrOpt\":0,\"fStatOverflows\":2,\"fArray\":{\"$arr\":\"Float32\",\"len\":11,\"p\":1,\"v\":[7.576241e-5,5.8951e-4,0.00854487,0.01696958,0.0114756,0.005734615,0.00239293,3.781068e-4,2.359475e-8]}},{\"_typename\":\"TH1F\",\"fUniqueID\":0,\"fBits\":520,\"fName\":\"unfolded_pt34\",\"fTitle\":\"Unfolded Ungroomed Jet Mass for p_{T}   4350 - 460 GeV\",\"fLineColor\":3,\"fLineStyle\":1,\"fLineWidth\":1,\"fFillColor\":0,\"fFillStyle\":1001,\"fMarkerColor\":1,\"fMarkerStyle\":1,\"fMarkerSize\":1,\"fNcells\":11,\"fXaxis\":{\"_typename\":\"TAxis\",\"fUniqueID\":0,\"fBits\":2048,\"fName\":\"xaxis\",\"fTitle\":\"\",\"fNdivisions\":510,\"fAxisColor\":1,\"fLabelColor\":1,\"fLabelFont\":42,\"fLabelOffset\":0.005,\"fLabelSize\":0.035,\"fTickLength\":0.03,\"fTitleOffset\":1,\"fTitleSize\":0.035,\"fTitleColor\":1,\"fTitleFont\":42,\"fNbins\":9,\"fXmin\":0,\"fXmax\":13000,\"fXbins\":{\"$arr\":\"Float64\",\"len\":10,\"p\":1,\"v\":[10,20,40,60,80,100,150,200,13000]},\"fFirst\":1,\"fLast\":8,\"fBits2\":0,\"fTimeDisplay\":false,\"fTimeFormat\":\"\",\"fLabels\":null,\"fModLabs\":null},\"fYaxis\":{\"_typename\":\"TAxis\",\"fUniqueID\":0,\"fBits\":0,\"fName\":\"yaxis\",\"fTitle\":\"\",\"fNdivisions\":510,\"fAxisColor\":1,\"fLabelColor\":1,\"fLabelFont\":42,\"fLabelOffset\":0.005,\"fLabelSize\":0.035,\"fTickLength\":0.03,\"fTitleOffset\":0,\"fTitleSize\":0.035,\"fTitleColor\":1,\"fTitleFont\":42,\"fNbins\":1,\"fXmin\":0,\"fXmax\":1,\"fXbins\":[],\"fFirst\":0,\"fLast\":0,\"fBits2\":0,\"fTimeDisplay\":false,\"fTimeFormat\":\"\",\"fLabels\":null,\"fModLabs\":null},\"fZaxis\":{\"_typename\":\"TAxis\",\"fUniqueID\":0,\"fBits\":0,\"fName\":\"zaxis\",\"fTitle\":\"\",\"fNdivisions\":510,\"fAxisColor\":1,\"fLabelColor\":1,\"fLabelFont\":42,\"fLabelOffset\":0.005,\"fLabelSize\":0.035,\"fTickLength\":0.03,\"fTitleOffset\":1,\"fTitleSize\":0.035,\"fTitleColor\":1,\"fTitleFont\":42,\"fNbins\":1,\"fXmin\":0,\"fXmax\":1,\"fXbins\":[],\"fFirst\":0,\"fLast\":0,\"fBits2\":0,\"fTimeDisplay\":false,\"fTimeFormat\":\"\",\"fLabels\":null,\"fModLabs\":null},\"fBarOffset\":0,\"fBarWidth\":1000,\"fEntries\":9,\"fTsumw\":0,\"fTsumw2\":0,\"fTsumwx\":0,\"fTsumwx2\":0,\"fMaximum\":-1111,\"fMinimum\":-1111,\"fNormFactor\":0,\"fContour\":[],\"fSumw2\":[],\"fOption\":\"\",\"fFunctions\":{\"_typename\":\"TList\",\"name\":\"TList\",\"arr\":[],\"opt\":[]},\"fBufferSize\":0,\"fBuffer\":[],\"fBinStatErrOpt\":0,\"fStatOverflows\":2,\"fArray\":{\"$arr\":\"Float32\",\"len\":11,\"p\":1,\"v\":[7.576241e-5,5.8951e-4,0.00854487,0.01696958,0.0114756,0.005734615,0.00239293,3.781068e-4,2.359475e-8]}},{\"_typename\":\"TH1F\",\"fUniqueID\":0,\"fBits\":520,\"fName\":\"unfolded_pt35\",\"fTitle\":\"Unfolded Ungroomed Jet Mass for p_{T}   5350 - 460 GeV\",\"fLineColor\":3,\"fLineStyle\":1,\"fLineWidth\":1,\"fFillColor\":0,\"fFillStyle\":1001,\"fMarkerColor\":1,\"fMarkerStyle\":1,\"fMarkerSize\":1,\"fNcells\":11,\"fXaxis\":{\"_typename\":\"TAxis\",\"fUniqueID\":0,\"fBits\":2048,\"fName\":\"xaxis\",\"fTitle\":\"\",\"fNdivisions\":510,\"fAxisColor\":1,\"fLabelColor\":1,\"fLabelFont\":42,\"fLabelOffset\":0.005,\"fLabelSize\":0.035,\"fTickLength\":0.03,\"fTitleOffset\":1,\"fTitleSize\":0.035,\"fTitleColor\":1,\"fTitleFont\":42,\"fNbins\":9,\"fXmin\":0,\"fXmax\":13000,\"fXbins\":{\"$arr\":\"Float64\",\"len\":10,\"p\":1,\"v\":[10,20,40,60,80,100,150,200,13000]},\"fFirst\":1,\"fLast\":8,\"fBits2\":0,\"fTimeDisplay\":false,\"fTimeFormat\":\"\",\"fLabels\":null,\"fModLabs\":null},\"fYaxis\":{\"_typename\":\"TAxis\",\"fUniqueID\":0,\"fBits\":0,\"fName\":\"yaxis\",\"fTitle\":\"\",\"fNdivisions\":510,\"fAxisColor\":1,\"fLabelColor\":1,\"fLabelFont\":42,\"fLabelOffset\":0.005,\"fLabelSize\":0.035,\"fTickLength\":0.03,\"fTitleOffset\":0,\"fTitleSize\":0.035,\"fTitleColor\":1,\"fTitleFont\":42,\"fNbins\":1,\"fXmin\":0,\"fXmax\":1,\"fXbins\":[],\"fFirst\":0,\"fLast\":0,\"fBits2\":0,\"fTimeDisplay\":false,\"fTimeFormat\":\"\",\"fLabels\":null,\"fModLabs\":null},\"fZaxis\":{\"_typename\":\"TAxis\",\"fUniqueID\":0,\"fBits\":0,\"fName\":\"zaxis\",\"fTitle\":\"\",\"fNdivisions\":510,\"fAxisColor\":1,\"fLabelColor\":1,\"fLabelFont\":42,\"fLabelOffset\":0.005,\"fLabelSize\":0.035,\"fTickLength\":0.03,\"fTitleOffset\":1,\"fTitleSize\":0.035,\"fTitleColor\":1,\"fTitleFont\":42,\"fNbins\":1,\"fXmin\":0,\"fXmax\":1,\"fXbins\":[],\"fFirst\":0,\"fLast\":0,\"fBits2\":0,\"fTimeDisplay\":false,\"fTimeFormat\":\"\",\"fLabels\":null,\"fModLabs\":null},\"fBarOffset\":0,\"fBarWidth\":1000,\"fEntries\":9,\"fTsumw\":0,\"fTsumw2\":0,\"fTsumwx\":0,\"fTsumwx2\":0,\"fMaximum\":-1111,\"fMinimum\":-1111,\"fNormFactor\":0,\"fContour\":[],\"fSumw2\":[],\"fOption\":\"\",\"fFunctions\":{\"_typename\":\"TList\",\"name\":\"TList\",\"arr\":[],\"opt\":[]},\"fBufferSize\":0,\"fBuffer\":[],\"fBinStatErrOpt\":0,\"fStatOverflows\":2,\"fArray\":{\"$arr\":\"Float32\",\"len\":11,\"p\":1,\"v\":[7.576241e-5,5.8951e-4,0.00854487,0.01696958,0.0114756,0.005734615,0.00239293,3.781068e-4,2.359475e-8]}},{\"_typename\":\"TH1F\",\"fUniqueID\":0,\"fBits\":520,\"fName\":\"unfolded_pt36\",\"fTitle\":\"Unfolded Ungroomed Jet Mass for p_{T}   6350 - 460 GeV\",\"fLineColor\":3,\"fLineStyle\":1,\"fLineWidth\":1,\"fFillColor\":0,\"fFillStyle\":1001,\"fMarkerColor\":1,\"fMarkerStyle\":1,\"fMarkerSize\":1,\"fNcells\":11,\"fXaxis\":{\"_typename\":\"TAxis\",\"fUniqueID\":0,\"fBits\":2048,\"fName\":\"xaxis\",\"fTitle\":\"\",\"fNdivisions\":510,\"fAxisColor\":1,\"fLabelColor\":1,\"fLabelFont\":42,\"fLabelOffset\":0.005,\"fLabelSize\":0.035,\"fTickLength\":0.03,\"fTitleOffset\":1,\"fTitleSize\":0.035,\"fTitleColor\":1,\"fTitleFont\":42,\"fNbins\":9,\"fXmin\":0,\"fXmax\":13000,\"fXbins\":{\"$arr\":\"Float64\",\"len\":10,\"p\":1,\"v\":[10,20,40,60,80,100,150,200,13000]},\"fFirst\":1,\"fLast\":8,\"fBits2\":0,\"fTimeDisplay\":false,\"fTimeFormat\":\"\",\"fLabels\":null,\"fModLabs\":null},\"fYaxis\":{\"_typename\":\"TAxis\",\"fUniqueID\":0,\"fBits\":0,\"fName\":\"yaxis\",\"fTitle\":\"\",\"fNdivisions\":510,\"fAxisColor\":1,\"fLabelColor\":1,\"fLabelFont\":42,\"fLabelOffset\":0.005,\"fLabelSize\":0.035,\"fTickLength\":0.03,\"fTitleOffset\":0,\"fTitleSize\":0.035,\"fTitleColor\":1,\"fTitleFont\":42,\"fNbins\":1,\"fXmin\":0,\"fXmax\":1,\"fXbins\":[],\"fFirst\":0,\"fLast\":0,\"fBits2\":0,\"fTimeDisplay\":false,\"fTimeFormat\":\"\",\"fLabels\":null,\"fModLabs\":null},\"fZaxis\":{\"_typename\":\"TAxis\",\"fUniqueID\":0,\"fBits\":0,\"fName\":\"zaxis\",\"fTitle\":\"\",\"fNdivisions\":510,\"fAxisColor\":1,\"fLabelColor\":1,\"fLabelFont\":42,\"fLabelOffset\":0.005,\"fLabelSize\":0.035,\"fTickLength\":0.03,\"fTitleOffset\":1,\"fTitleSize\":0.035,\"fTitleColor\":1,\"fTitleFont\":42,\"fNbins\":1,\"fXmin\":0,\"fXmax\":1,\"fXbins\":[],\"fFirst\":0,\"fLast\":0,\"fBits2\":0,\"fTimeDisplay\":false,\"fTimeFormat\":\"\",\"fLabels\":null,\"fModLabs\":null},\"fBarOffset\":0,\"fBarWidth\":1000,\"fEntries\":9,\"fTsumw\":0,\"fTsumw2\":0,\"fTsumwx\":0,\"fTsumwx2\":0,\"fMaximum\":-1111,\"fMinimum\":-1111,\"fNormFactor\":0,\"fContour\":[],\"fSumw2\":[],\"fOption\":\"\",\"fFunctions\":{\"_typename\":\"TList\",\"name\":\"TList\",\"arr\":[],\"opt\":[]},\"fBufferSize\":0,\"fBuffer\":[],\"fBinStatErrOpt\":0,\"fStatOverflows\":2,\"fArray\":{\"$arr\":\"Float32\",\"len\":11,\"p\":1,\"v\":[7.576241e-5,5.8951e-4,0.00854487,0.01696958,0.0114756,0.005734615,0.00239293,3.781068e-4,2.359475e-8]}},{\"_typename\":\"TH1F\",\"fUniqueID\":0,\"fBits\":520,\"fName\":\"unfolded_pt37\",\"fTitle\":\"Unfolded Ungroomed Jet Mass for p_{T}   7350 - 460 GeV\",\"fLineColor\":3,\"fLineStyle\":1,\"fLineWidth\":1,\"fFillColor\":0,\"fFillStyle\":1001,\"fMarkerColor\":1,\"fMarkerStyle\":1,\"fMarkerSize\":1,\"fNcells\":11,\"fXaxis\":{\"_typename\":\"TAxis\",\"fUniqueID\":0,\"fBits\":2048,\"fName\":\"xaxis\",\"fTitle\":\"\",\"fNdivisions\":510,\"fAxisColor\":1,\"fLabelColor\":1,\"fLabelFont\":42,\"fLabelOffset\":0.005,\"fLabelSize\":0.035,\"fTickLength\":0.03,\"fTitleOffset\":1,\"fTitleSize\":0.035,\"fTitleColor\":1,\"fTitleFont\":42,\"fNbins\":9,\"fXmin\":0,\"fXmax\":13000,\"fXbins\":{\"$arr\":\"Float64\",\"len\":10,\"p\":1,\"v\":[10,20,40,60,80,100,150,200,13000]},\"fFirst\":1,\"fLast\":8,\"fBits2\":0,\"fTimeDisplay\":false,\"fTimeFormat\":\"\",\"fLabels\":null,\"fModLabs\":null},\"fYaxis\":{\"_typename\":\"TAxis\",\"fUniqueID\":0,\"fBits\":0,\"fName\":\"yaxis\",\"fTitle\":\"\",\"fNdivisions\":510,\"fAxisColor\":1,\"fLabelColor\":1,\"fLabelFont\":42,\"fLabelOffset\":0.005,\"fLabelSize\":0.035,\"fTickLength\":0.03,\"fTitleOffset\":0,\"fTitleSize\":0.035,\"fTitleColor\":1,\"fTitleFont\":42,\"fNbins\":1,\"fXmin\":0,\"fXmax\":1,\"fXbins\":[],\"fFirst\":0,\"fLast\":0,\"fBits2\":0,\"fTimeDisplay\":false,\"fTimeFormat\":\"\",\"fLabels\":null,\"fModLabs\":null},\"fZaxis\":{\"_typename\":\"TAxis\",\"fUniqueID\":0,\"fBits\":0,\"fName\":\"zaxis\",\"fTitle\":\"\",\"fNdivisions\":510,\"fAxisColor\":1,\"fLabelColor\":1,\"fLabelFont\":42,\"fLabelOffset\":0.005,\"fLabelSize\":0.035,\"fTickLength\":0.03,\"fTitleOffset\":1,\"fTitleSize\":0.035,\"fTitleColor\":1,\"fTitleFont\":42,\"fNbins\":1,\"fXmin\":0,\"fXmax\":1,\"fXbins\":[],\"fFirst\":0,\"fLast\":0,\"fBits2\":0,\"fTimeDisplay\":false,\"fTimeFormat\":\"\",\"fLabels\":null,\"fModLabs\":null},\"fBarOffset\":0,\"fBarWidth\":1000,\"fEntries\":9,\"fTsumw\":0,\"fTsumw2\":0,\"fTsumwx\":0,\"fTsumwx2\":0,\"fMaximum\":-1111,\"fMinimum\":-1111,\"fNormFactor\":0,\"fContour\":[],\"fSumw2\":[],\"fOption\":\"\",\"fFunctions\":{\"_typename\":\"TList\",\"name\":\"TList\",\"arr\":[],\"opt\":[]},\"fBufferSize\":0,\"fBuffer\":[],\"fBinStatErrOpt\":0,\"fStatOverflows\":2,\"fArray\":{\"$arr\":\"Float32\",\"len\":11,\"p\":1,\"v\":[7.576241e-5,5.8951e-4,0.00854487,0.01696958,0.0114756,0.005734615,0.00239293,3.781068e-4,2.359475e-8]}},{\"_typename\":\"TH1F\",\"fUniqueID\":0,\"fBits\":520,\"fName\":\"unfolded_pt38\",\"fTitle\":\"Unfolded Ungroomed Jet Mass for p_{T}   8350 - 460 GeV\",\"fLineColor\":3,\"fLineStyle\":1,\"fLineWidth\":1,\"fFillColor\":0,\"fFillStyle\":1001,\"fMarkerColor\":1,\"fMarkerStyle\":1,\"fMarkerSize\":1,\"fNcells\":11,\"fXaxis\":{\"_typename\":\"TAxis\",\"fUniqueID\":0,\"fBits\":2048,\"fName\":\"xaxis\",\"fTitle\":\"\",\"fNdivisions\":510,\"fAxisColor\":1,\"fLabelColor\":1,\"fLabelFont\":42,\"fLabelOffset\":0.005,\"fLabelSize\":0.035,\"fTickLength\":0.03,\"fTitleOffset\":1,\"fTitleSize\":0.035,\"fTitleColor\":1,\"fTitleFont\":42,\"fNbins\":9,\"fXmin\":0,\"fXmax\":13000,\"fXbins\":{\"$arr\":\"Float64\",\"len\":10,\"p\":1,\"v\":[10,20,40,60,80,100,150,200,13000]},\"fFirst\":1,\"fLast\":8,\"fBits2\":0,\"fTimeDisplay\":false,\"fTimeFormat\":\"\",\"fLabels\":null,\"fModLabs\":null},\"fYaxis\":{\"_typename\":\"TAxis\",\"fUniqueID\":0,\"fBits\":0,\"fName\":\"yaxis\",\"fTitle\":\"\",\"fNdivisions\":510,\"fAxisColor\":1,\"fLabelColor\":1,\"fLabelFont\":42,\"fLabelOffset\":0.005,\"fLabelSize\":0.035,\"fTickLength\":0.03,\"fTitleOffset\":0,\"fTitleSize\":0.035,\"fTitleColor\":1,\"fTitleFont\":42,\"fNbins\":1,\"fXmin\":0,\"fXmax\":1,\"fXbins\":[],\"fFirst\":0,\"fLast\":0,\"fBits2\":0,\"fTimeDisplay\":false,\"fTimeFormat\":\"\",\"fLabels\":null,\"fModLabs\":null},\"fZaxis\":{\"_typename\":\"TAxis\",\"fUniqueID\":0,\"fBits\":0,\"fName\":\"zaxis\",\"fTitle\":\"\",\"fNdivisions\":510,\"fAxisColor\":1,\"fLabelColor\":1,\"fLabelFont\":42,\"fLabelOffset\":0.005,\"fLabelSize\":0.035,\"fTickLength\":0.03,\"fTitleOffset\":1,\"fTitleSize\":0.035,\"fTitleColor\":1,\"fTitleFont\":42,\"fNbins\":1,\"fXmin\":0,\"fXmax\":1,\"fXbins\":[],\"fFirst\":0,\"fLast\":0,\"fBits2\":0,\"fTimeDisplay\":false,\"fTimeFormat\":\"\",\"fLabels\":null,\"fModLabs\":null},\"fBarOffset\":0,\"fBarWidth\":1000,\"fEntries\":9,\"fTsumw\":0,\"fTsumw2\":0,\"fTsumwx\":0,\"fTsumwx2\":0,\"fMaximum\":-1111,\"fMinimum\":-1111,\"fNormFactor\":0,\"fContour\":[],\"fSumw2\":[],\"fOption\":\"\",\"fFunctions\":{\"_typename\":\"TList\",\"name\":\"TList\",\"arr\":[],\"opt\":[]},\"fBufferSize\":0,\"fBuffer\":[],\"fBinStatErrOpt\":0,\"fStatOverflows\":2,\"fArray\":{\"$arr\":\"Float32\",\"len\":11,\"p\":1,\"v\":[7.576241e-5,5.8951e-4,0.00854487,0.01696958,0.0114756,0.005734615,0.00239293,3.781068e-4,2.359475e-8]}},{\"_typename\":\"TH1F\",\"fUniqueID\":0,\"fBits\":520,\"fName\":\"unfolded_pt39\",\"fTitle\":\"Unfolded Ungroomed Jet Mass for p_{T}   9350 - 460 GeV\",\"fLineColor\":3,\"fLineStyle\":1,\"fLineWidth\":1,\"fFillColor\":0,\"fFillStyle\":1001,\"fMarkerColor\":1,\"fMarkerStyle\":1,\"fMarkerSize\":1,\"fNcells\":11,\"fXaxis\":{\"_typename\":\"TAxis\",\"fUniqueID\":0,\"fBits\":2048,\"fName\":\"xaxis\",\"fTitle\":\"\",\"fNdivisions\":510,\"fAxisColor\":1,\"fLabelColor\":1,\"fLabelFont\":42,\"fLabelOffset\":0.005,\"fLabelSize\":0.035,\"fTickLength\":0.03,\"fTitleOffset\":1,\"fTitleSize\":0.035,\"fTitleColor\":1,\"fTitleFont\":42,\"fNbins\":9,\"fXmin\":0,\"fXmax\":13000,\"fXbins\":{\"$arr\":\"Float64\",\"len\":10,\"p\":1,\"v\":[10,20,40,60,80,100,150,200,13000]},\"fFirst\":1,\"fLast\":8,\"fBits2\":0,\"fTimeDisplay\":false,\"fTimeFormat\":\"\",\"fLabels\":null,\"fModLabs\":null},\"fYaxis\":{\"_typename\":\"TAxis\",\"fUniqueID\":0,\"fBits\":0,\"fName\":\"yaxis\",\"fTitle\":\"\",\"fNdivisions\":510,\"fAxisColor\":1,\"fLabelColor\":1,\"fLabelFont\":42,\"fLabelOffset\":0.005,\"fLabelSize\":0.035,\"fTickLength\":0.03,\"fTitleOffset\":0,\"fTitleSize\":0.035,\"fTitleColor\":1,\"fTitleFont\":42,\"fNbins\":1,\"fXmin\":0,\"fXmax\":1,\"fXbins\":[],\"fFirst\":0,\"fLast\":0,\"fBits2\":0,\"fTimeDisplay\":false,\"fTimeFormat\":\"\",\"fLabels\":null,\"fModLabs\":null},\"fZaxis\":{\"_typename\":\"TAxis\",\"fUniqueID\":0,\"fBits\":0,\"fName\":\"zaxis\",\"fTitle\":\"\",\"fNdivisions\":510,\"fAxisColor\":1,\"fLabelColor\":1,\"fLabelFont\":42,\"fLabelOffset\":0.005,\"fLabelSize\":0.035,\"fTickLength\":0.03,\"fTitleOffset\":1,\"fTitleSize\":0.035,\"fTitleColor\":1,\"fTitleFont\":42,\"fNbins\":1,\"fXmin\":0,\"fXmax\":1,\"fXbins\":[],\"fFirst\":0,\"fLast\":0,\"fBits2\":0,\"fTimeDisplay\":false,\"fTimeFormat\":\"\",\"fLabels\":null,\"fModLabs\":null},\"fBarOffset\":0,\"fBarWidth\":1000,\"fEntries\":9,\"fTsumw\":0,\"fTsumw2\":0,\"fTsumwx\":0,\"fTsumwx2\":0,\"fMaximum\":-1111,\"fMinimum\":-1111,\"fNormFactor\":0,\"fContour\":[],\"fSumw2\":[],\"fOption\":\"\",\"fFunctions\":{\"_typename\":\"TList\",\"name\":\"TList\",\"arr\":[],\"opt\":[]},\"fBufferSize\":0,\"fBuffer\":[],\"fBinStatErrOpt\":0,\"fStatOverflows\":2,\"fArray\":{\"$arr\":\"Float32\",\"len\":11,\"p\":1,\"v\":[7.576241e-5,5.8951e-4,0.00854487,0.01696958,0.0114756,0.005734615,0.00239293,3.781068e-4,2.359475e-8]}},{\"_typename\":\"TPaveText\",\"fUniqueID\":0,\"fBits\":9,\"fLineColor\":1,\"fLineStyle\":1,\"fLineWidth\":1,\"fFillColor\":0,\"fFillStyle\":0,\"fX1\":12.4999986961483,\"fY1\":0.0181785751512081,\"fX2\":187.500001303852,\"fY2\":0.0199339562035719,\"fX1NDC\":0.15,\"fY1NDC\":0.916186445446338,\"fX2NDC\":0.85,\"fY2NDC\":0.995000004768372,\"fBorderSize\":0,\"fInit\":1,\"fShadowColor\":1,\"fCornerRadius\":0,\"fOption\":\"blNDC\",\"fName\":\"title\",\"fTextAngle\":0,\"fTextSize\":0,\"fTextAlign\":22,\"fTextColor\":1,\"fTextFont\":42,\"fLabel\":\"\",\"fLongest\":54,\"fMargin\":0.05,\"fLines\":{\"_typename\":\"TList\",\"name\":\"TList\",\"arr\":[{\"_typename\":\"TLatex\",\"fUniqueID\":0,\"fBits\":0,\"fName\":\"\",\"fTitle\":\"Unfolded Ungroomed Jet Mass for p_{T}   0350 - 460 GeV\",\"fTextAngle\":0,\"fTextSize\":0,\"fTextAlign\":0,\"fTextColor\":0,\"fTextFont\":0,\"fX\":0,\"fY\":0,\"fLineColor\":1,\"fLineStyle\":1,\"fLineWidth\":2,\"fLimitFactorSize\":3,\"fOriginSize\":0.0669915229082108}],\"opt\":[\"\"]}},{\"_typename\":\"TStyle\",\"fUniqueID\":0,\"fBits\":0,\"fName\":\"Modern\",\"fTitle\":\"Modern Style\",\"fLineColor\":1,\"fLineStyle\":1,\"fLineWidth\":1,\"fFillColor\":19,\"fFillStyle\":1001,\"fMarkerColor\":1,\"fMarkerStyle\":1,\"fMarkerSize\":1,\"fTextAngle\":0,\"fTextSize\":0.05,\"fTextAlign\":11,\"fTextColor\":1,\"fTextFont\":62,\"fXaxis\":{\"_typename\":\"TAttAxis\",\"fNdivisions\":510,\"fAxisColor\":1,\"fLabelColor\":1,\"fLabelFont\":42,\"fLabelOffset\":0.005,\"fLabelSize\":0.035,\"fTickLength\":0.03,\"fTitleOffset\":1,\"fTitleSize\":0.035,\"fTitleColor\":1,\"fTitleFont\":42},\"fYaxis\":{\"_typename\":\"TAttAxis\",\"fNdivisions\":510,\"fAxisColor\":1,\"fLabelColor\":1,\"fLabelFont\":42,\"fLabelOffset\":0.005,\"fLabelSize\":0.035,\"fTickLength\":0.03,\"fTitleOffset\":0,\"fTitleSize\":0.035,\"fTitleColor\":1,\"fTitleFont\":42},\"fZaxis\":{\"_typename\":\"TAttAxis\",\"fNdivisions\":510,\"fAxisColor\":1,\"fLabelColor\":1,\"fLabelFont\":42,\"fLabelOffset\":0.005,\"fLabelSize\":0.035,\"fTickLength\":0.03,\"fTitleOffset\":1,\"fTitleSize\":0.035,\"fTitleColor\":1,\"fTitleFont\":42},\"fBarWidth\":1,\"fBarOffset\":0,\"fColorModelPS\":0,\"fDrawBorder\":0,\"fOptLogx\":0,\"fOptLogy\":0,\"fOptLogz\":0,\"fOptDate\":0,\"fOptStat\":0,\"fOptTitle\":1,\"fOptFile\":0,\"fOptFit\":0,\"fShowEventStatus\":0,\"fShowEditor\":0,\"fShowToolBar\":0,\"fNumberContours\":20,\"fAttDate\":{\"_typename\":\"TAttText\",\"fTextAngle\":0,\"fTextSize\":0.025,\"fTextAlign\":11,\"fTextColor\":1,\"fTextFont\":62},\"fDateX\":0.01,\"fDateY\":0.01,\"fEndErrorSize\":2,\"fErrorX\":0.5,\"fFuncColor\":2,\"fFuncStyle\":1,\"fFuncWidth\":2,\"fGridColor\":0,\"fGridStyle\":3,\"fGridWidth\":1,\"fLegendBorderSize\":1,\"fLegendFillColor\":0,\"fLegendFont\":42,\"fLegendTextSize\":0,\"fHatchesLineWidth\":1,\"fHatchesSpacing\":1,\"fFrameFillColor\":0,\"fFrameLineColor\":1,\"fFrameFillStyle\":1001,\"fFrameLineStyle\":1,\"fFrameLineWidth\":1,\"fFrameBorderSize\":1,\"fFrameBorderMode\":0,\"fHistFillColor\":0,\"fHistLineColor\":602,\"fHistFillStyle\":1001,\"fHistLineStyle\":1,\"fHistLineWidth\":1,\"fHistMinimumZero\":false,\"fHistTopMargin\":0.05,\"fCanvasPreferGL\":false,\"fCanvasColor\":0,\"fCanvasBorderSize\":2,\"fCanvasBorderMode\":0,\"fCanvasDefH\":500,\"fCanvasDefW\":700,\"fCanvasDefX\":10,\"fCanvasDefY\":10,\"fPadColor\":0,\"fPadBorderSize\":2,\"fPadBorderMode\":0,\"fPadBottomMargin\":0.1,\"fPadTopMargin\":0.1,\"fPadLeftMargin\":0.1,\"fPadRightMargin\":0.1,\"fPadGridX\":false,\"fPadGridY\":false,\"fPadTickX\":0,\"fPadTickY\":0,\"fPaperSizeX\":20,\"fPaperSizeY\":26,\"fScreenFactor\":1,\"fStatColor\":0,\"fStatTextColor\":1,\"fStatBorderSize\":1,\"fStatFont\":42,\"fStatFontSize\":0,\"fStatStyle\":1001,\"fStatFormat\":\"6.4g\",\"fStatX\":0.98,\"fStatY\":0.935,\"fStatW\":0.2,\"fStatH\":0.16,\"fStripDecimals\":true,\"fTitleAlign\":23,\"fTitleColor\":0,\"fTitleTextColor\":1,\"fTitleBorderSize\":0,\"fTitleFont\":42,\"fTitleFontSize\":0.05,\"fTitleStyle\":0,\"fTitleX\":0.5,\"fTitleY\":0.995,\"fTitleW\":0,\"fTitleH\":0,\"fLegoInnerR\":0.5,\"fLineStyles\":[\"\",\"  \",\" 12 12\",\" 4 8\",\" 12 16 4 16\",\" 20 12 4 12\",\" 20 12 4 12 4 12 4 12\",\" 20 20\",\" 20 12 4 12 4 12\",\" 80 20\",\" 80 40 4 40\",\"  \",\"  \",\"  \",\"  \",\"  \",\"  \",\"  \",\"  \",\"  \",\"  \",\"  \",\"  \",\"  \",\"  \",\"  \",\"  \",\"  \",\"  \",\"  \"],\"fHeaderPS\":\"\",\"fTitlePS\":\"\",\"fFitFormat\":\"5.4g\",\"fPaintTextFormat\":\"g\",\"fLineScalePS\":3,\"fJoinLinePS\":0,\"fCapLinePS\":0,\"fTimeOffset\":788918400,\"fImageScaling\":1}],\"opt\":[\"\",\"hist \",\"hist same\",\"hist same\",\"hist same\",\"hist same\",\"hist same\",\"hist same\",\"hist same\",\"hist same\",\"hist same\",\"blNDC\",\"\"]},\"fExecs\":null,\"fName\":\"c1_n4\",\"fTitle\":\"c1_n4\",\"fNumPaletteColor\":0,\"fNextPaletteColor\":0,\"fDISPLAY\":\"$DISPLAY\",\"fDoubleBuffer\":0,\"fRetained\":true,\"fXsizeUser\":0,\"fYsizeUser\":0,\"fXsizeReal\":20,\"fYsizeReal\":14.28571,\"fWindowTopX\":0,\"fWindowTopY\":0,\"fWindowWidth\":0,\"fWindowHeight\":0,\"fCw\":696,\"fCh\":472,\"fCatt\":{\"_typename\":\"TAttCanvas\",\"fXBetween\":2,\"fYBetween\":2,\"fTitleFromTop\":1.2,\"fXdate\":0.2,\"fYdate\":0.3,\"fAdate\":1},\"kMoveOpaque\":true,\"kResizeOpaque\":true,\"fHighLightColor\":2,\"fBatch\":true,\"kShowEventStatus\":false,\"kAutoExec\":true,\"kMenuBar\":true});\n",
       "   Core.settings.HandleKeys = false;\n",
       "   Core.draw(\"root_plot_1717508031603\", obj, \"\");\n",
       "}\n",
       "\n",
       "function script_load_root_plot_1717508031603(src, on_error) {\n",
       "    let script = document.createElement('script');\n",
       "    script.src = src;\n",
       "    script.onload = function() { display_root_plot_1717508031603(JSROOT); };\n",
       "    script.onerror = function() { script.remove(); on_error(); };\n",
       "    document.head.appendChild(script);\n",
       "}\n",
       "\n",
       "if (typeof requirejs !== 'undefined') {\n",
       "\n",
       "    // We are in jupyter notebooks, use require.js which should be configured already\n",
       "    requirejs.config({\n",
       "       paths: { 'JSRootCore' : [ 'build/jsroot', 'https://root.cern/js/7.2.1/build/jsroot', 'https://jsroot.gsi.de/7.2.1/build/jsroot' ] }\n",
       "    })(['JSRootCore'],  function(Core) {\n",
       "       display_root_plot_1717508031603(Core);\n",
       "    });\n",
       "\n",
       "} else if (typeof JSROOT !== 'undefined') {\n",
       "\n",
       "   // JSROOT already loaded, just use it\n",
       "   display_root_plot_1717508031603(JSROOT);\n",
       "\n",
       "} else {\n",
       "\n",
       "    // We are in jupyterlab without require.js, directly loading jsroot\n",
       "    // Jupyterlab might be installed in a different base_url so we need to know it.\n",
       "    try {\n",
       "        var base_url = JSON.parse(document.getElementById('jupyter-config-data').innerHTML).baseUrl;\n",
       "    } catch(_) {\n",
       "        var base_url = '/';\n",
       "    }\n",
       "\n",
       "    // Try loading a local version of requirejs and fallback to cdn if not possible.\n",
       "    script_load_root_plot_1717508031603(base_url + 'static/build/jsroot.js', function(){\n",
       "        console.error('Fail to load JSROOT locally, please check your jupyter_notebook_config.py file');\n",
       "        script_load_root_plot_1717508031603('https://root.cern/js/7.2.1/build/jsroot.js', function(){\n",
       "            document.getElementById(\"root_plot_1717508031603\").innerHTML = \"Failed to load JSROOT\";\n",
       "        });\n",
       "    });\n",
       "}\n",
       "\n",
       "</script>\n"
      ],
      "text/plain": [
       "<IPython.core.display.HTML object>"
      ]
     },
     "metadata": {},
     "output_type": "display_data"
    }
   ],
   "source": [
    "c = ROOT.TCanvas()\n",
    "for h in hcopy_list:\n",
    "    h.Draw('hist same')\n",
    "c.Draw()   "
   ]
  },
  {
   "cell_type": "code",
   "execution_count": 222,
   "id": "926a042e-7b41-44dd-8280-24845df5ee83",
   "metadata": {
    "tags": []
   },
   "outputs": [
    {
     "data": {
      "text/plain": [
       "[<cppyy.gbl.TH1F object at 0x55acc9c6ef70>,\n",
       " <cppyy.gbl.TH1F object at 0x55acc8b47b50>,\n",
       " <cppyy.gbl.TH1F object at 0x55acc6aab260>,\n",
       " <cppyy.gbl.TH1F object at 0x55accdafd7f0>,\n",
       " <cppyy.gbl.TH1F object at 0x55accdc378f0>,\n",
       " <cppyy.gbl.TH1F object at 0x55acc8b685e0>,\n",
       " <cppyy.gbl.TH1F object at 0x55acc9cd5390>,\n",
       " <cppyy.gbl.TH1F object at 0x55acc6daed10>,\n",
       " <cppyy.gbl.TH1F object at 0x55acc6ac9b00>,\n",
       " <cppyy.gbl.TH1F object at 0x55acc674f140>]"
      ]
     },
     "execution_count": 222,
     "metadata": {},
     "output_type": "execute_result"
    }
   ],
   "source": []
  },
  {
   "cell_type": "code",
   "execution_count": 105,
   "id": "fcea504e-f6aa-4d76-a6d3-4b6b4b62abe0",
   "metadata": {
    "tags": []
   },
   "outputs": [
    {
     "name": "stdout",
     "output_type": "stream",
     "text": [
      "Normalized Response Matrix Row Sums: [1. 1. 1. 1. 1. 1. 1. 1. 1. 1. 1. 1. 1. 1. 1. 1. 1. 1. 1. 1. 1. 1. 1. 1.\n",
      " 1. 1. 1. 1. 1. 1. 1. 1. 1. 1. 1. 1. 1. 1. 1. 1. 1. 1. 1. 1. 1. 1. 1. 1.\n",
      " 1. 1.]\n"
     ]
    },
    {
     "data": {
      "image/png": "[encoded data removed]",
      "text/plain": [
       "<Figure size 1000x600 with 1 Axes>"
      ]
     },
     "metadata": {},
     "output_type": "display_data"
    },
    {
     "name": "stdout",
     "output_type": "stream",
     "text": [
      "Original Truth Distribution: [array([101, 103,  98,  98, 127, 109, 102,  82,  99,  86, 101,  93,  99,\n",
      "       103, 121,  96, 106, 105,  91,  94, 102,  91, 104,  99,  88, 105,\n",
      "        90, 110, 111, 107,  93,  94,  94,  80, 102, 101, 102,  94,  87,\n",
      "        94, 102, 111, 105,  92, 103,  98, 106, 110, 114, 114]), array([210, 234, 197, 207, 205, 182, 203, 203, 206, 221, 197, 214, 183,\n",
      "       184, 181, 214, 196, 208, 209, 210, 201, 186, 213, 193, 209, 184,\n",
      "       203, 227, 201, 210, 196, 210, 188, 171, 192, 195, 207, 201, 207,\n",
      "       192, 204, 205, 190, 208, 231, 189, 201, 187, 195, 190]), array([322, 301, 311, 303, 279, 293, 314, 327, 303, 346, 286, 309, 289,\n",
      "       266, 292, 336, 307, 289, 306, 292, 300, 293, 318, 300, 273, 327,\n",
      "       291, 295, 278, 312, 315, 270, 309, 296, 322, 288, 263, 287, 309,\n",
      "       289, 282, 264, 315, 287, 304, 293, 298, 316, 301, 304]), array([408, 396, 402, 387, 394, 380, 402, 428, 413, 431, 412, 416, 384,\n",
      "       398, 425, 446, 420, 407, 360, 385, 391, 394, 426, 390, 407, 362,\n",
      "       382, 374, 372, 395, 408, 418, 384, 384, 401, 403, 412, 392, 436,\n",
      "       383, 385, 446, 411, 414, 386, 393, 384, 397, 423, 400]), array([509, 545, 459, 474, 471, 492, 485, 533, 503, 497, 483, 487, 502,\n",
      "       489, 528, 483, 467, 516, 508, 479, 512, 503, 502, 464, 508, 479,\n",
      "       505, 511, 506, 561, 513, 501, 520, 496, 513, 481, 508, 508, 500,\n",
      "       503, 538, 476, 552, 475, 497, 475, 496, 513, 442, 516])]\n",
      "Measured Distribution: [array([ 99, 100,  92, 109, 107,  97, 104, 102, 135,  88, 106,  99, 107,\n",
      "       112,  98,  83, 101,  89, 106, 100, 109, 116, 103,  95, 116, 102,\n",
      "       102, 101,  89, 100, 109, 110, 100, 107, 114, 110,  89, 101,  89,\n",
      "       110, 129, 116, 104, 104,  93, 104, 100,  86,  94,  96]), array([192, 203, 233, 203, 217, 214, 216, 232, 220, 214, 220, 210, 200,\n",
      "       225, 241, 211, 248, 210, 215, 209, 238, 218, 228, 207, 246, 218,\n",
      "       233, 202, 237, 198, 211, 217, 223, 224, 215, 209, 216, 235, 255,\n",
      "       242, 214, 211, 199, 205, 231, 220, 217, 207, 235, 225]), array([326, 337, 297, 304, 283, 307, 321, 302, 333, 338, 290, 286, 297,\n",
      "       313, 287, 331, 335, 310, 299, 305, 337, 320, 312, 325, 323, 286,\n",
      "       305, 306, 314, 331, 303, 326, 292, 284, 289, 335, 330, 301, 322,\n",
      "       316, 307, 311, 320, 323, 335, 299, 307, 298, 299, 286]), array([375, 407, 427, 428, 391, 392, 412, 438, 396, 385, 403, 413, 428,\n",
      "       454, 416, 402, 449, 427, 449, 440, 395, 396, 428, 414, 396, 419,\n",
      "       412, 415, 418, 401, 413, 419, 397, 422, 431, 413, 412, 427, 398,\n",
      "       387, 388, 421, 423, 412, 399, 413, 435, 402, 427, 426]), array([519, 477, 504, 500, 485, 519, 528, 482, 509, 458, 499, 478, 476,\n",
      "       493, 490, 470, 482, 488, 493, 526, 495, 551, 462, 546, 500, 540,\n",
      "       480, 459, 472, 458, 476, 482, 473, 479, 458, 508, 487, 458, 497,\n",
      "       478, 491, 484, 539, 506, 502, 470, 505, 532, 476, 484])]\n",
      "Unfolded Distribution: [25. 25. 25. 25. 25. 25. 25. 25. 25. 25. 25. 25. 25. 25. 25. 25. 25. 25.\n",
      " 25. 25. 25. 25. 25. 25. 25. 25. 25. 25. 25. 25. 25. 25. 25. 25. 25. 25.\n",
      " 25. 25. 25. 25. 25. 25. 25. 25. 25. 25. 25. 25. 25. 25.]\n"
     ]
    }
   ],
   "source": [
    "import numpy as np\n",
    "import matplotlib.pyplot as plt\n",
    "\n",
    "# Step 1: Generate example data (truth and measured distributions)\n",
    "np.random.seed(0)  # For reproducibility\n",
    "\n",
    "# Known truth distribution\n",
    "pt_bins = np.array([0, 10, 20, 30, 40, 50])\n",
    "mass_bins = np.linspace(0, 10, 51)  # Mass bins for each pt bin\n",
    "\n",
    "# Example truth distributions for each pt-bin\n",
    "truth_distributions = [np.random.poisson(lam=(i+1)*100, size=len(mass_bins)-1) for i in range(len(pt_bins)-1)]\n",
    "\n",
    "# Normalize each pt-bin for truth distributions\n",
    "normalized_truth_distributions = [truth / truth.sum() for truth in truth_distributions]\n",
    "\n",
    "# Simulate measured data with some noise\n",
    "measured_distributions = [np.random.poisson(lam=(i+1)*100 + np.random.normal(0, 10), size=len(mass_bins)-1) for i in range(len(pt_bins)-1)]\n",
    "\n",
    "# Normalize each pt-bin for measured distributions\n",
    "normalized_measured_distributions = [measured / measured.sum() for measured in measured_distributions]\n",
    "\n",
    "# Combine normalized data into single arrays for 2D histogram\n",
    "mass_data_truth = np.concatenate([mass_bins[:-1] for _ in range(len(pt_bins)-1)])\n",
    "mass_data_measured = np.concatenate([mass_bins[:-1] for _ in range(len(pt_bins)-1)])\n",
    "truth_data = np.concatenate([np.repeat(pt_bins[i], len(mass_bins)-1) for i in range(len(pt_bins)-1)])\n",
    "measured_data = np.concatenate([np.repeat(pt_bins[i], len(mass_bins)-1) for i in range(len(pt_bins)-1)])\n",
    "\n",
    "# Step 2: Create and fill the 2D histogram (response matrix)\n",
    "response_matrix, xedges, yedges = np.histogram2d(\n",
    "    np.concatenate([mass_data_truth for _ in range(len(pt_bins)-1)]),\n",
    "    np.concatenate([mass_data_measured for _ in range(len(pt_bins)-1)]),\n",
    "    bins=(mass_bins, mass_bins)\n",
    ")\n",
    "\n",
    "# Normalize the response matrix (row-wise)\n",
    "row_sums = response_matrix.sum(axis=1, keepdims=True)\n",
    "normalized_response_matrix = response_matrix / row_sums\n",
    "\n",
    "# Verify normalization\n",
    "print(\"Normalized Response Matrix Row Sums:\", normalized_response_matrix.sum(axis=1))  # Should print an array of ones\n",
    "\n",
    "# Step 3: Fill 1D histograms for truth and measured distributions\n",
    "truth_hist, _ = np.histogram(np.concatenate([mass_data_truth for _ in range(len(pt_bins)-1)]), bins=mass_bins)\n",
    "measured_hist, _ = np.histogram(np.concatenate([mass_data_measured for _ in range(len(pt_bins)-1)]), bins=mass_bins)\n",
    "\n",
    "# Step 4: Unfold the measured distribution\n",
    "pseudo_inverse_response_matrix = np.linalg.pinv(normalized_response_matrix)\n",
    "unfolded_hist = pseudo_inverse_response_matrix.dot(measured_hist)\n",
    "\n",
    "# Step 5: Denormalize the unfolded distribution\n",
    "denormalized_unfolded_hist = unfolded_hist * measured_hist.sum() / unfolded_hist.sum()\n",
    "\n",
    "# Plot the distributions for comparison\n",
    "fig, ax = plt.subplots(figsize=(10, 6))\n",
    "\n",
    "width = 0.25  # Width of the bars\n",
    "\n",
    "# Plot the original truth distributions\n",
    "for i, truth in enumerate(truth_distributions):\n",
    "    ax.bar(mass_bins[:-1], truth, width, label=f'Original Truth pt-bin {pt_bins[i]}-{pt_bins[i+1]}', alpha=0.5)\n",
    "\n",
    "# Plot the measured distributions\n",
    "for i, measured in enumerate(measured_distributions):\n",
    "    ax.bar(mass_bins[:-1] + width, measured, width, label=f'Measured pt-bin {pt_bins[i]}-{pt_bins[i+1]}', alpha=0.5)\n",
    "\n",
    "# Plot the unfolded distributions\n",
    "ax.bar(mass_bins[:-1] + 2 * width, denormalized_unfolded_hist, width, label=f'Unfolded', alpha=0.5)\n",
    "\n",
    "ax.set_xlabel('Mass Bins')\n",
    "ax.set_ylabel('Counts')\n",
    "ax.set_title('Unfolding with Normalized pt-bins')\n",
    "ax.legend()\n",
    "\n",
    "plt.show()\n",
    "\n",
    "# Print the distributions for clarity\n",
    "print(\"Original Truth Distribution:\", truth_distributions)\n",
    "print(\"Measured Distribution:\", measured_distributions)\n",
    "print(\"Unfolded Distribution:\", denormalized_unfolded_hist)\n"
   ]
  },
  {
   "cell_type": "code",
   "execution_count": 109,
   "id": "d27e7574-45ef-4dab-b52d-d87a1b7f59e8",
   "metadata": {
    "tags": []
   },
   "outputs": [
    {
     "data": {
      "text/plain": [
       "[<matplotlib.lines.Line2D at 0x7f38b4b96dc0>]"
      ]
     },
     "execution_count": 109,
     "metadata": {},
     "output_type": "execute_result"
    },
    {
     "data": {
      "image/png": "[encoded data removed]",
      "text/plain": [
       "<Figure size 640x480 with 1 Axes>"
      ]
     },
     "metadata": {},
     "output_type": "display_data"
    }
   ],
   "source": [
    "plt.plot(truth_hist)"
   ]
  },
  {
   "cell_type": "code",
   "execution_count": null,
   "id": "df373cae-9a7a-4e08-8bde-15e72febf0f7",
   "metadata": {},
   "outputs": [],
   "source": []
  }
 ],
 "metadata": {
  "kernelspec": {
   "display_name": "Python 3 (ipykernel)",
   "language": "python",
   "name": "python3"
  },
  "language_info": {
   "codemirror_mode": {
    "name": "ipython",
    "version": 3
   },
   "file_extension": ".py",
   "mimetype": "text/x-python",
   "name": "python",
   "nbconvert_exporter": "python",
   "pygments_lexer": "ipython3",
   "version": "3.12.3"
  }
 },
 "nbformat": 4,
 "nbformat_minor": 5
}
