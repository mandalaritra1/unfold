{
 "cells": [
  {
   "cell_type": "code",
   "execution_count": 2,
   "id": "c689c31a-bde7-47ef-9feb-8598f453037f",
   "metadata": {},
   "outputs": [],
   "source": [
    "import hist\n",
    "import pickle as pkl"
   ]
  },
  {
   "cell_type": "code",
   "execution_count": 7,
   "id": "4e24c672-5b65-4165-a5eb-8521d3eb2702",
   "metadata": {},
   "outputs": [],
   "source": [
    "import hist\n",
    "import pickle as pkl\n",
    "\n",
    "#file_list_data = [\"latest_pkl/data_16.pkl\", \"latest_pkl/data_16apv.pkl\" ,\"latest_pkl/data_17.pkl\", \"latest_pkl/data_18.pkl\",  ]\n",
    "#file_list_data = [\"latest_pkl/data_2016_0703.pkl\", \"latest_pkl/data_2016APV_0703.pkl\" ,\"latest_pkl/data_2017_0703.pkl\", \"latest_pkl/data_2018_0703.pkl\",  ]\n",
    "\n",
    "file_list_data = [\"latest_pkl/mpt/mpt_data_16_1704.pkl\", \"latest_pkl/mpt/mpt_data_16apv_1704.pkl\" ,\"latest_pkl/mpt/mpt_data_17_1704.pkl\", \"latest_pkl/mpt/mpt_data_18_1704.pkl\",  ]\n",
    "key_list_data =['m_over_pt_g', 'm_over_pt_u', 'resp_mpt_g', 'resp_mpt_u', 'fakes_mpt_u', 'misses_mpt_u', 'fakes_mpt_g', 'misses_mpt_g']#, 'pt_z_reco', 'm_z_reco', 'eta_z_reco', 'phi_z_reco', 'pt_jet_reco', 'm_jet_reco', 'eta_jet_reco', 'phi_jet_reco', 'ptasym_z_jet_reco', 'dr_z_jet_reco']\n",
    "\n",
    "\n",
    "hist_dic = {}\n",
    "for key in key_list_data:\n",
    "    for file in file_list_data:\n",
    "        with open(file, \"rb\") as f:\n",
    "            output_data = pkl.load( f )\n",
    "        if file ==file_list_data[0]:\n",
    "            h = output_data[key]\n",
    "        else:\n",
    "            h = h + output_data[key]\n",
    "    hist_dic[key] = h\n",
    "\n",
    "with open('latest_pkl/data_mpt_combined_1704.pkl', \"wb\") as f:\n",
    "        pkl.dump(hist_dic, f)"
   ]
  },
  {
   "cell_type": "code",
   "execution_count": 1,
   "id": "ff67830f-0889-4b99-85e6-a51de8d88a53",
   "metadata": {},
   "outputs": [],
   "source": [
    "import hist\n",
    "import pickle as pkl\n",
    "\n",
    "#file_list_data = [\"latest_pkl/data_16.pkl\", \"latest_pkl/data_16apv.pkl\" ,\"latest_pkl/data_17.pkl\", \"latest_pkl/data_18.pkl\",  ]\n",
    "#file_list_data = [\"latest_pkl/data_2016_0703.pkl\", \"latest_pkl/data_2016APV_0703.pkl\" ,\"latest_pkl/data_2017_0703.pkl\", \"latest_pkl/data_2018_0703.pkl\",  ]\n",
    "\n",
    "file_list_data = [\"latest_pkl/data_1004_2016.pkl\", \"latest_pkl/data_1004_2016APV.pkl\" ,\"latest_pkl/data_1004_2017.pkl\", \"latest_pkl/data_1004_2018.pkl\",  ]\n",
    "key_list_data = ['ptjet_mjet_u_reco',   'ptjet_mjet_g_reco' ]#, 'pt_z_reco', 'm_z_reco', 'eta_z_reco', 'phi_z_reco', 'pt_jet_reco', 'm_jet_reco', 'eta_jet_reco', 'phi_jet_reco', 'ptasym_z_jet_reco', 'dr_z_jet_reco']\n",
    "\n",
    "\n",
    "hist_dic = {}\n",
    "for key in key_list_data:\n",
    "    for file in file_list_data:\n",
    "        with open(file, \"rb\") as f:\n",
    "            output_data = pkl.load( f )\n",
    "        if file ==file_list_data[0]:\n",
    "            h = output_data[key]\n",
    "        else:\n",
    "            h = h + output_data[key]\n",
    "    hist_dic[key] = h\n",
    "\n",
    "with open('latest_pkl/data_combined_1004.pkl', \"wb\") as f:\n",
    "        pkl.dump(hist_dic, f)"
   ]
  },
  {
   "cell_type": "code",
   "execution_count": 5,
   "id": "e2578480-bb02-4d08-a191-b768a9c32f22",
   "metadata": {},
   "outputs": [],
   "source": [
    "import hist\n",
    "import pickle as pkl\n",
    "\n",
    "#file_list_data = [\"latest_pkl/data_16.pkl\", \"latest_pkl/data_16apv.pkl\" ,\"latest_pkl/data_17.pkl\", \"latest_pkl/data_18.pkl\",  ]\n",
    "file_list_data = [\"latest_pkl/data_16_jk_0903.pkl\",\"latest_pkl/data_16apv_jk_0903.pkl\" ,\"latest_pkl/data_17_jk_0903.pkl\", \"latest_pkl/data_18_jk_0903.pkl\",  ]\n",
    "key_list_data = [\"jk_ptjet_mjet_u_reco\", \"jk_ptjet_mjet_g_reco\"]\n",
    "\n",
    "\n",
    "hist_dic = {}\n",
    "for key in key_list_data:\n",
    "    for file in file_list_data:\n",
    "        with open(file, \"rb\") as f:\n",
    "            output_data = pkl.load( f )\n",
    "        if file ==file_list_data[0]:\n",
    "            h = output_data[key]\n",
    "        else:\n",
    "            h = h + output_data[key]\n",
    "    hist_dic[key] = h\n",
    "\n",
    "with open('latest_pkl/data_jk_0903.pkl', \"wb\") as f:\n",
    "        pkl.dump(hist_dic, f)"
   ]
  },
  {
   "cell_type": "code",
   "execution_count": 9,
   "id": "05e096a9-3d04-4d72-bee6-31c6eaee93a5",
   "metadata": {},
   "outputs": [
    {
     "data": {
      "text/plain": [
       "Hist(\n",
       "  StrCategory(['SingleElectron_UL2016', 'SingleMuon_UL2016', 'SingleElectron_UL2016APV', 'SingleMuon_UL2016APV', 'SingleElectron_UL2017', 'SingleMuon_UL2017', 'EGamma_UL2018', 'SingleMuon_UL2018'], growth=True, name='dataset', label='Primary dataset'),\n",
       "  Variable([200, 290, 400, 480, 13000], name='ptreco', label='$p_{T,RECO}$ (GeV)'),\n",
       "  Variable(array([0.0e+00, 2.5e+00, 5.0e+00, 7.5e+00, 1.0e+01, 1.5e+01, 2.0e+01,\n",
       "       3.0e+01, 4.0e+01, 5.0e+01, 6.0e+01, 7.0e+01, 8.0e+01, 9.0e+01,\n",
       "       1.0e+02, 1.1e+02, 1.2e+02, 1.3e+02, 1.4e+02, 1.5e+02, 1.6e+02,\n",
       "       1.7e+02, 1.8e+02, 1.9e+02, 2.0e+02, 5.0e+02, 1.3e+04]), name='mreco', label='$m_{RECO}$ (GeV)'),\n",
       "  StrCategory(['nominal'], growth=True, name='systematic', label='Systematic Uncertainty'),\n",
       "  storage=Weight()) # Sum: WeightedSum(value=337675, variance=337675) (WeightedSum(value=337691, variance=337691) with flow)"
      ]
     },
     "execution_count": 9,
     "metadata": {},
     "output_type": "execute_result"
    }
   ],
   "source": [
    "hist_dic['ptjet_mjet_u_reco']"
   ]
  },
  {
   "cell_type": "code",
   "execution_count": null,
   "id": "4f065938-21a8-441a-9d59-c8cd8984d323",
   "metadata": {},
   "outputs": [],
   "source": [
    "file_list_mc = [\"latest_pkl/pythia_16_syst.pkl\" ,\"latest_pkl/pythia_17_syst.pkl\", \"latest_pkl/pythia_18_syst.pkl\"]\n",
    "key_list_mc = ['response_matrix_u', 'response_matrix_g', 'fakes_u', 'fakes_g' , 'misses_u', 'misses_g'  ,  'pt_z_reco', 'm_z_reco', 'eta_z_reco', 'phi_z_reco', 'pt_jet_reco', 'm_jet_reco', 'eta_jet_reco', 'phi_jet_reco']\n",
    "\n",
    "hist_dic = {}\n",
    "for key in key_list_mc:\n",
    "    for file in file_list_mc:\n",
    "        with open(file, \"rb\") as f:\n",
    "            output_mc = pkl.load( f )\n",
    "        if file ==file_list_mc[0]:\n",
    "            h = output_mc[key]\n",
    "        else:\n",
    "            h = h + output_mc[key]\n",
    "    hist_dic[key] = h\n",
    "\n",
    "with open('latest_pkl/pythia_combined.pkl', \"wb\") as f:\n",
    "        pkl.dump(hist_dic, f)"
   ]
  },
  {
   "cell_type": "code",
   "execution_count": 3,
   "id": "93f726b4-3903-47d8-84a8-feebbe5673d8",
   "metadata": {},
   "outputs": [],
   "source": [
    "with open('latest_pkl/mpt/mpt_data_16_1704.pkl', \"rb\") as f:\n",
    "    output= pkl.load( f )"
   ]
  },
  {
   "cell_type": "code",
   "execution_count": 4,
   "id": "973baf00-6654-46df-b017-0966f4559ae2",
   "metadata": {},
   "outputs": [
    {
     "data": {
      "text/plain": [
       "dict_keys(['m_over_pt_g', 'm_over_pt_u', 'resp_mpt_g', 'resp_mpt_u', 'fakes_mpt_u', 'misses_mpt_u', 'fakes_mpt_g', 'misses_mpt_g', 'cutflow'])"
      ]
     },
     "execution_count": 4,
     "metadata": {},
     "output_type": "execute_result"
    }
   ],
   "source": [
    "output.keys()"
   ]
  },
  {
   "cell_type": "code",
   "execution_count": 11,
   "id": "6a165561-de32-4141-8255-f1b7f9bacc81",
   "metadata": {},
   "outputs": [
    {
     "data": {
      "text/plain": [
       "(0.0, 200.0)"
      ]
     },
     "execution_count": 11,
     "metadata": {},
     "output_type": "execute_result"
    },
    {
     "data": {
      "image/png": "[encoded data removed]",
      "text/plain": [
       "<Figure size 640x480 with 1 Axes>"
      ]
     },
     "metadata": {},
     "output_type": "display_data"
    }
   ],
   "source": [
    "import matplotlib.pyplot as plt\n",
    "output['response_matrix_g'].project('ptgen', 'mgen')[3, :].plot(binwnorm = 1)\n",
    "plt.xlim(0,200)"
   ]
  },
  {
   "cell_type": "code",
   "execution_count": 12,
   "id": "5173d598-0340-4da3-8630-1a2fdc320dd8",
   "metadata": {},
   "outputs": [
    {
     "data": {
      "text/plain": [
       "(0.0, 200.0)"
      ]
     },
     "execution_count": 12,
     "metadata": {},
     "output_type": "execute_result"
    },
    {
     "data": {
      "image/png": "[encoded data removed]",
      "text/plain": [
       "<Figure size 640x480 with 1 Axes>"
      ]
     },
     "metadata": {},
     "output_type": "display_data"
    }
   ],
   "source": [
    "import matplotlib.pyplot as plt\n",
    "output['response_matrix_g'].project('ptreco', 'mreco')[3, :].plot(binwnorm = 1)\n",
    "plt.xlim(0,200)"
   ]
  },
  {
   "cell_type": "code",
   "execution_count": 14,
   "id": "82340e9a-c31f-40d4-b012-1a05a97b6862",
   "metadata": {},
   "outputs": [],
   "source": [
    "file_list_mc = [\"latest_pkl/bg_2016.pkl\" ,\"latest_pkl/bg_2016APV.pkl\",\"latest_pkl/bg_2017.pkl\", \"latest_pkl/bg_2018.pkl\"]\n",
    "key_list_mc = ['response_matrix_u', 'response_matrix_g', 'fakes_u', 'fakes_g' , 'misses_u', 'misses_g'  ,  'pt_z_reco', 'm_z_reco', 'eta_z_reco', 'phi_z_reco', 'pt_jet_reco', 'm_jet_reco', 'eta_jet_reco', 'phi_jet_reco']\n",
    "\n",
    "hist_dic = {}\n",
    "for key in key_list_mc:\n",
    "    for file in file_list_mc:\n",
    "        with open(file, \"rb\") as f:\n",
    "            output_mc = pkl.load( f )\n",
    "        if file ==file_list_mc[0]:\n",
    "            h = output_mc[key]\n",
    "        else:\n",
    "            h = h + output_mc[key]\n",
    "    hist_dic[key] = h\n",
    "\n",
    "with open('latest_pkl/bg_combined.pkl', \"wb\") as f:\n",
    "        pkl.dump(hist_dic, f)"
   ]
  },
  {
   "cell_type": "code",
   "execution_count": 35,
   "id": "35401cd1-3eac-4cdc-8c05-0c8b509fbd9b",
   "metadata": {},
   "outputs": [],
   "source": [
    "with open('latest_pkl/bg_2016APV.pkl', \"rb\") as f:\n",
    "    output= pkl.load( f )"
   ]
  },
  {
   "cell_type": "code",
   "execution_count": 36,
   "id": "c1f59df4-c646-49d2-ab0d-60583899d4c1",
   "metadata": {},
   "outputs": [
    {
     "data": {
      "text/plain": [
       "Hist(\n",
       "  StrCategory(['ww_UL16NanoAODAPVv9', 'wz_UL16NanoAODAPVv9', 'zz_UL16NanoAODAPVv9'], growth=True, name='dataset', label='Primary dataset'),\n",
       "  Regular(100, 80, 100, name='mass', label='$m$ [GeV]'),\n",
       "  StrCategory(['nominal'], growth=True, name='systematic', label='Systematic Uncertainty'),\n",
       "  storage=Weight()) # Sum: WeightedSum(value=4123.9, variance=3821.5) (WeightedSum(value=4452.41, variance=4119.52) with flow)"
      ]
     },
     "execution_count": 36,
     "metadata": {},
     "output_type": "execute_result"
    }
   ],
   "source": [
    "output['m_z_reco']"
   ]
  },
  {
   "cell_type": "code",
   "execution_count": null,
   "id": "2728dc37-765f-41fd-a813-bcfe67a1007f",
   "metadata": {},
   "outputs": [],
   "source": []
  },
  {
   "cell_type": "code",
   "execution_count": null,
   "id": "66914b86-db85-48ce-bb40-427401cc33f8",
   "metadata": {},
   "outputs": [],
   "source": [
    "lumi = {'2018' : 59740,\n",
    "        '2017': 41480,\n",
    "        '2016': 36330 \n",
    "       }"
   ]
  },
  {
   "cell_type": "code",
   "execution_count": 34,
   "id": "11386f3d-cb71-4034-897d-bec38d8a0ca4",
   "metadata": {},
   "outputs": [
    {
     "name": "stdout",
     "output_type": "stream",
     "text": [
      "ww_UL18NanoAODv9\n",
      "9983800.0\n",
      "wz_UL18NanoAODv9\n",
      "10075000.0\n",
      "zz_UL18NanoAODv9\n",
      "1936000.0\n"
     ]
    }
   ],
   "source": [
    "with open('latest_pkl/bg_2018.pkl', \"rb\") as f:\n",
    "    output= pkl.load( f )\n",
    "for key in output['cutflow'].keys():\n",
    "    print(key)\n",
    "    for key2 in output['cutflow'][key].keys():\n",
    "        print(output['cutflow'][key][key2]['sumw'])"
   ]
  },
  {
   "cell_type": "code",
   "execution_count": 6,
   "id": "73ece4b7-9d17-4868-8558-cde9d0d395bf",
   "metadata": {},
   "outputs": [],
   "source": [
    "import pickle as pkl\n",
    "filename = 'latest_pkl/data_jk_0903.pkl'\n",
    "with open(filename, 'rb') as f:\n",
    "    output1 = pkl.load(f)"
   ]
  },
  {
   "cell_type": "code",
   "execution_count": 11,
   "id": "ca8284cc-951a-4a05-9684-cb2eee566d17",
   "metadata": {},
   "outputs": [
    {
     "data": {
      "text/html": [
       "<html>\n",
       "<div style=\"display:flex; align-items:center;\">\n",
       "<div style=\"width:290px;\">\n",
       "<svg xmlns=\"http://www.w3.org/2000/svg\" viewBox=\"-20 -270 290 290\">\n",
       "<text text-anchor=\"middle\" x=\"0\" y=\"13\" style=\"fill:currentColor;\">\n",
       "200\n",
       "</text>\n",
       "<text text-anchor=\"middle\" x=\"250\" y=\"13\" style=\"fill:currentColor;\">\n",
       "1.3e+04\n",
       "</text>\n",
       "<text text-anchor=\"middle\" x=\"-10\" y=\"0\" style=\"fill:currentColor;\">\n",
       "0\n",
       "</text>\n",
       "<text text-anchor=\"middle\" x=\"-10\" y=\"-250\" style=\"fill:currentColor;\">\n",
       "1.3e+04\n",
       "</text>\n",
       "<text text-anchor=\"middle\" x=\"125.0\" y=\"13\" style=\"fill:currentColor;\">\n",
       "$p_{T,RECO}$ (GeV)\n",
       "</text>\n",
       "<text text-anchor=\"middle\" x=\"-10\" y=\"-125.0\" transform=\"rotate(-90,-10,-125.0)\" style=\"fill:currentColor;\">\n",
       "$m_{RECO}$ (GeV)\n",
       "</text>\n",
       "<rect x=\"0.0\" y=\"-0.04807692307692308\" width=\"1.758\" height=\"0.048\" opacity=\"0.0\" fill=\"currentColor\" stroke-width=\"0.1\"/>\n",
       "<rect x=\"1.7578125\" y=\"-0.04807692307692308\" width=\"2.148\" height=\"0.048\" opacity=\"0.0\" fill=\"currentColor\" stroke-width=\"0.1\"/>\n",
       "<rect x=\"3.90625\" y=\"-0.04807692307692308\" width=\"1.562\" height=\"0.048\" opacity=\"0.0\" fill=\"currentColor\" stroke-width=\"0.1\"/>\n",
       "<rect x=\"5.46875\" y=\"-0.04807692307692308\" width=\"244.531\" height=\"0.048\" opacity=\"0.0\" fill=\"currentColor\" stroke-width=\"0.1\"/>\n",
       "<rect x=\"0.0\" y=\"-0.09615384615384616\" width=\"1.758\" height=\"0.048\" opacity=\"0.0008690928843020097\" fill=\"currentColor\" stroke-width=\"0.1\"/>\n",
       "<rect x=\"1.7578125\" y=\"-0.09615384615384616\" width=\"2.148\" height=\"0.048\" opacity=\"0.0\" fill=\"currentColor\" stroke-width=\"0.1\"/>\n",
       "<rect x=\"3.90625\" y=\"-0.09615384615384616\" width=\"1.562\" height=\"0.048\" opacity=\"0.0\" fill=\"currentColor\" stroke-width=\"0.1\"/>\n",
       "<rect x=\"5.46875\" y=\"-0.09615384615384616\" width=\"244.531\" height=\"0.048\" opacity=\"0.0\" fill=\"currentColor\" stroke-width=\"0.1\"/>\n",
       "<rect x=\"0.0\" y=\"-0.14423076923076925\" width=\"1.758\" height=\"0.048\" opacity=\"0.003910917979359043\" fill=\"currentColor\" stroke-width=\"0.1\"/>\n",
       "<rect x=\"1.7578125\" y=\"-0.14423076923076925\" width=\"2.148\" height=\"0.048\" opacity=\"0.00014221519924941979\" fill=\"currentColor\" stroke-width=\"0.1\"/>\n",
       "<rect x=\"3.90625\" y=\"-0.14423076923076925\" width=\"1.562\" height=\"0.048\" opacity=\"0.0\" fill=\"currentColor\" stroke-width=\"0.1\"/>\n",
       "<rect x=\"5.46875\" y=\"-0.14423076923076925\" width=\"244.531\" height=\"0.048\" opacity=\"0.0\" fill=\"currentColor\" stroke-width=\"0.1\"/>\n",
       "<rect x=\"0.0\" y=\"-0.19230769230769232\" width=\"1.758\" height=\"0.048\" opacity=\"0.011906572514937534\" fill=\"currentColor\" stroke-width=\"0.1\"/>\n",
       "<rect x=\"1.7578125\" y=\"-0.19230769230769232\" width=\"2.148\" height=\"0.048\" opacity=\"0.0009243987951212286\" fill=\"currentColor\" stroke-width=\"0.1\"/>\n",
       "<rect x=\"3.90625\" y=\"-0.19230769230769232\" width=\"1.562\" height=\"0.048\" opacity=\"0.0\" fill=\"currentColor\" stroke-width=\"0.1\"/>\n",
       "<rect x=\"5.46875\" y=\"-0.19230769230769232\" width=\"244.531\" height=\"0.048\" opacity=\"0.0\" fill=\"currentColor\" stroke-width=\"0.1\"/>\n",
       "<rect x=\"0.0\" y=\"-0.2884615384615385\" width=\"1.758\" height=\"0.096\" opacity=\"0.08391091797935904\" fill=\"currentColor\" stroke-width=\"0.1\"/>\n",
       "<rect x=\"1.7578125\" y=\"-0.2884615384615385\" width=\"2.148\" height=\"0.096\" opacity=\"0.005119747172979113\" fill=\"currentColor\" stroke-width=\"0.1\"/>\n",
       "<rect x=\"3.90625\" y=\"-0.2884615384615385\" width=\"1.562\" height=\"0.096\" opacity=\"0.0006355241716458447\" fill=\"currentColor\" stroke-width=\"0.1\"/>\n",
       "<rect x=\"5.46875\" y=\"-0.2884615384615385\" width=\"244.531\" height=\"0.096\" opacity=\"1.2494945620955411e-06\" fill=\"currentColor\" stroke-width=\"0.1\"/>\n",
       "<rect x=\"0.0\" y=\"-0.38461538461538464\" width=\"1.758\" height=\"0.096\" opacity=\"0.36332428028245517\" fill=\"currentColor\" stroke-width=\"0.1\"/>\n",
       "<rect x=\"1.7578125\" y=\"-0.38461538461538464\" width=\"2.148\" height=\"0.096\" opacity=\"0.026203150461705595\" fill=\"currentColor\" stroke-width=\"0.1\"/>\n",
       "<rect x=\"3.90625\" y=\"-0.38461538461538464\" width=\"1.562\" height=\"0.096\" opacity=\"0.002542096686583379\" fill=\"currentColor\" stroke-width=\"0.1\"/>\n",
       "<rect x=\"5.46875\" y=\"-0.38461538461538464\" width=\"244.531\" height=\"0.096\" opacity=\"1.8742418431433119e-06\" fill=\"currentColor\" stroke-width=\"0.1\"/>\n",
       "<rect x=\"0.0\" y=\"-0.576923076923077\" width=\"1.758\" height=\"0.192\" opacity=\"0.8792829983704509\" fill=\"currentColor\" stroke-width=\"0.1\"/>\n",
       "<rect x=\"1.7578125\" y=\"-0.576923076923077\" width=\"2.148\" height=\"0.192\" opacity=\"0.10443928694879265\" fill=\"currentColor\" stroke-width=\"0.1\"/>\n",
       "<rect x=\"3.90625\" y=\"-0.576923076923077\" width=\"1.562\" height=\"0.192\" opacity=\"0.013394894079304723\" fill=\"currentColor\" stroke-width=\"0.1\"/>\n",
       "<rect x=\"5.46875\" y=\"-0.576923076923077\" width=\"244.531\" height=\"0.192\" opacity=\"2.170996801641003e-05\" fill=\"currentColor\" stroke-width=\"0.1\"/>\n",
       "<rect x=\"0.0\" y=\"-0.7692307692307693\" width=\"1.758\" height=\"0.192\" opacity=\"1.0\" fill=\"currentColor\" stroke-width=\"0.1\"/>\n",
       "<rect x=\"1.7578125\" y=\"-0.7692307692307693\" width=\"2.148\" height=\"0.192\" opacity=\"0.18329761493259591\" fill=\"currentColor\" stroke-width=\"0.1\"/>\n",
       "<rect x=\"3.90625\" y=\"-0.7692307692307693\" width=\"1.562\" height=\"0.192\" opacity=\"0.037080391091797935\" fill=\"currentColor\" stroke-width=\"0.1\"/>\n",
       "<rect x=\"5.46875\" y=\"-0.7692307692307693\" width=\"244.531\" height=\"0.192\" opacity=\"9.261878441533199e-05\" fill=\"currentColor\" stroke-width=\"0.1\"/>\n",
       "<rect x=\"0.0\" y=\"-0.9615384615384616\" width=\"1.758\" height=\"0.192\" opacity=\"0.7053340575774035\" fill=\"currentColor\" stroke-width=\"0.1\"/>\n",
       "<rect x=\"1.7578125\" y=\"-0.9615384615384616\" width=\"2.148\" height=\"0.192\" opacity=\"0.17670238506740407\" fill=\"currentColor\" stroke-width=\"0.1\"/>\n",
       "<rect x=\"3.90625\" y=\"-0.9615384615384616\" width=\"1.562\" height=\"0.192\" opacity=\"0.0433623030961434\" fill=\"currentColor\" stroke-width=\"0.1\"/>\n",
       "<rect x=\"5.46875\" y=\"-0.9615384615384616\" width=\"244.531\" height=\"0.192\" opacity=\"0.0001585296225658718\" fill=\"currentColor\" stroke-width=\"0.1\"/>\n",
       "<rect x=\"0.0\" y=\"-1.153846153846154\" width=\"1.758\" height=\"0.192\" opacity=\"0.4396958174904943\" fill=\"currentColor\" stroke-width=\"0.1\"/>\n",
       "<rect x=\"1.7578125\" y=\"-1.153846153846154\" width=\"2.148\" height=\"0.192\" opacity=\"0.1354066465853538\" fill=\"currentColor\" stroke-width=\"0.1\"/>\n",
       "<rect x=\"3.90625\" y=\"-1.153846153846154\" width=\"1.562\" height=\"0.192\" opacity=\"0.040429114611624115\" fill=\"currentColor\" stroke-width=\"0.1\"/>\n",
       "<rect x=\"5.46875\" y=\"-1.153846153846154\" width=\"244.531\" height=\"0.192\" opacity=\"0.00019382784394507085\" fill=\"currentColor\" stroke-width=\"0.1\"/>\n",
       "<rect x=\"0.0\" y=\"-1.346153846153846\" width=\"1.758\" height=\"0.192\" opacity=\"0.28006518196632263\" fill=\"currentColor\" stroke-width=\"0.1\"/>\n",
       "<rect x=\"1.7578125\" y=\"-1.346153846153846\" width=\"2.148\" height=\"0.192\" opacity=\"0.0932753938077132\" fill=\"currentColor\" stroke-width=\"0.1\"/>\n",
       "<rect x=\"3.90625\" y=\"-1.346153846153846\" width=\"1.562\" height=\"0.192\" opacity=\"0.03194731124388919\" fill=\"currentColor\" stroke-width=\"0.1\"/>\n",
       "<rect x=\"5.46875\" y=\"-1.346153846153846\" width=\"244.531\" height=\"0.192\" opacity=\"0.0001753977991541616\" fill=\"currentColor\" stroke-width=\"0.1\"/>\n",
       "<rect x=\"0.0\" y=\"-1.5384615384615385\" width=\"1.758\" height=\"0.192\" opacity=\"0.1853775122216187\" fill=\"currentColor\" stroke-width=\"0.1\"/>\n",
       "<rect x=\"1.7578125\" y=\"-1.5384615384615385\" width=\"2.148\" height=\"0.192\" opacity=\"0.06472569255839218\" fill=\"currentColor\" stroke-width=\"0.1\"/>\n",
       "<rect x=\"3.90625\" y=\"-1.5384615384615385\" width=\"1.562\" height=\"0.192\" opacity=\"0.02622759369907659\" fill=\"currentColor\" stroke-width=\"0.1\"/>\n",
       "<rect x=\"5.46875\" y=\"-1.5384615384615385\" width=\"244.531\" height=\"0.192\" opacity=\"0.0001369758413697237\" fill=\"currentColor\" stroke-width=\"0.1\"/>\n",
       "<rect x=\"0.0\" y=\"-1.7307692307692308\" width=\"1.758\" height=\"0.192\" opacity=\"0.12365019011406843\" fill=\"currentColor\" stroke-width=\"0.1\"/>\n",
       "<rect x=\"1.7578125\" y=\"-1.7307692307692308\" width=\"2.148\" height=\"0.192\" opacity=\"0.05032640363438842\" fill=\"currentColor\" stroke-width=\"0.1\"/>\n",
       "<rect x=\"3.90625\" y=\"-1.7307692307692308\" width=\"1.562\" height=\"0.192\" opacity=\"0.01830798479087452\" fill=\"currentColor\" stroke-width=\"0.1\"/>\n",
       "<rect x=\"5.46875\" y=\"-1.7307692307692308\" width=\"244.531\" height=\"0.192\" opacity=\"0.00010886221372257402\" fill=\"currentColor\" stroke-width=\"0.1\"/>\n",
       "<rect x=\"0.0\" y=\"-1.9230769230769231\" width=\"1.758\" height=\"0.192\" opacity=\"0.07346007604562738\" fill=\"currentColor\" stroke-width=\"0.1\"/>\n",
       "<rect x=\"1.7578125\" y=\"-1.9230769230769231\" width=\"2.148\" height=\"0.192\" opacity=\"0.037847019900251834\" fill=\"currentColor\" stroke-width=\"0.1\"/>\n",
       "<rect x=\"3.90625\" y=\"-1.9230769230769231\" width=\"1.562\" height=\"0.192\" opacity=\"0.014103747963063552\" fill=\"currentColor\" stroke-width=\"0.1\"/>\n",
       "<rect x=\"5.46875\" y=\"-1.9230769230769231\" width=\"244.531\" height=\"0.192\" opacity=\"9.730438902319026e-05\" fill=\"currentColor\" stroke-width=\"0.1\"/>\n",
       "<rect x=\"0.0\" y=\"-2.1153846153846154\" width=\"1.758\" height=\"0.192\" opacity=\"0.034763715372080395\" fill=\"currentColor\" stroke-width=\"0.1\"/>\n",
       "<rect x=\"1.7578125\" y=\"-2.1153846153846154\" width=\"2.148\" height=\"0.192\" opacity=\"0.02735864895560713\" fill=\"currentColor\" stroke-width=\"0.1\"/>\n",
       "<rect x=\"3.90625\" y=\"-2.1153846153846154\" width=\"1.562\" height=\"0.192\" opacity=\"0.012490494296577946\" fill=\"currentColor\" stroke-width=\"0.1\"/>\n",
       "<rect x=\"5.46875\" y=\"-2.1153846153846154\" width=\"244.531\" height=\"0.192\" opacity=\"7.403255280416082e-05\" fill=\"currentColor\" stroke-width=\"0.1\"/>\n",
       "<rect x=\"0.0\" y=\"-2.307692307692308\" width=\"1.758\" height=\"0.192\" opacity=\"0.01514394350896252\" fill=\"currentColor\" stroke-width=\"0.1\"/>\n",
       "<rect x=\"1.7578125\" y=\"-2.307692307692308\" width=\"2.148\" height=\"0.192\" opacity=\"0.020887857389758527\" fill=\"currentColor\" stroke-width=\"0.1\"/>\n",
       "<rect x=\"3.90625\" y=\"-2.307692307692308\" width=\"1.562\" height=\"0.192\" opacity=\"0.00916621401412276\" fill=\"currentColor\" stroke-width=\"0.1\"/>\n",
       "<rect x=\"5.46875\" y=\"-2.307692307692308\" width=\"244.531\" height=\"0.192\" opacity=\"6.231854128451512e-05\" fill=\"currentColor\" stroke-width=\"0.1\"/>\n",
       "<rect x=\"0.0\" y=\"-2.5\" width=\"1.758\" height=\"0.192\" opacity=\"0.00538837588267246\" fill=\"currentColor\" stroke-width=\"0.1\"/>\n",
       "<rect x=\"1.7578125\" y=\"-2.5\" width=\"2.148\" height=\"0.192\" opacity=\"0.014292627524566687\" fill=\"currentColor\" stroke-width=\"0.1\"/>\n",
       "<rect x=\"3.90625\" y=\"-2.5\" width=\"1.562\" height=\"0.192\" opacity=\"0.007626290059750135\" fill=\"currentColor\" stroke-width=\"0.1\"/>\n",
       "<rect x=\"5.46875\" y=\"-2.5\" width=\"244.531\" height=\"0.192\" opacity=\"4.669985925832085e-05\" fill=\"currentColor\" stroke-width=\"0.1\"/>\n",
       "<rect x=\"0.0\" y=\"-2.692307692307692\" width=\"1.758\" height=\"0.192\" opacity=\"0.0013036393264530147\" fill=\"currentColor\" stroke-width=\"0.1\"/>\n",
       "<rect x=\"1.7578125\" y=\"-2.692307692307692\" width=\"2.148\" height=\"0.192\" opacity=\"0.01032837884548911\" fill=\"currentColor\" stroke-width=\"0.1\"/>\n",
       "<rect x=\"3.90625\" y=\"-2.692307692307692\" width=\"1.562\" height=\"0.192\" opacity=\"0.005841933731667572\" fill=\"currentColor\" stroke-width=\"0.1\"/>\n",
       "<rect x=\"5.46875\" y=\"-2.692307692307692\" width=\"244.531\" height=\"0.192\" opacity=\"4.123332054915286e-05\" fill=\"currentColor\" stroke-width=\"0.1\"/>\n",
       "<rect x=\"0.0\" y=\"-2.8846153846153846\" width=\"1.758\" height=\"0.192\" opacity=\"0.00036936447582835416\" fill=\"currentColor\" stroke-width=\"0.1\"/>\n",
       "<rect x=\"1.7578125\" y=\"-2.8846153846153846\" width=\"2.148\" height=\"0.192\" opacity=\"0.006097476667818873\" fill=\"currentColor\" stroke-width=\"0.1\"/>\n",
       "<rect x=\"3.90625\" y=\"-2.8846153846153846\" width=\"1.562\" height=\"0.192\" opacity=\"0.0042775665399239545\" fill=\"currentColor\" stroke-width=\"0.1\"/>\n",
       "<rect x=\"5.46875\" y=\"-2.8846153846153846\" width=\"244.531\" height=\"0.192\" opacity=\"3.764102368312818e-05\" fill=\"currentColor\" stroke-width=\"0.1\"/>\n",
       "<rect x=\"0.0\" y=\"-3.076923076923077\" width=\"1.758\" height=\"0.192\" opacity=\"2.1727322107550245e-05\" fill=\"currentColor\" stroke-width=\"0.1\"/>\n",
       "<rect x=\"1.7578125\" y=\"-3.076923076923077\" width=\"2.148\" height=\"0.192\" opacity=\"0.0023821045874277812\" fill=\"currentColor\" stroke-width=\"0.1\"/>\n",
       "<rect x=\"3.90625\" y=\"-3.076923076923077\" width=\"1.562\" height=\"0.192\" opacity=\"0.0038131450298750677\" fill=\"currentColor\" stroke-width=\"0.1\"/>\n",
       "<rect x=\"5.46875\" y=\"-3.076923076923077\" width=\"244.531\" height=\"0.192\" opacity=\"2.5146078062172767e-05\" fill=\"currentColor\" stroke-width=\"0.1\"/>\n",
       "<rect x=\"0.0\" y=\"-3.269230769230769\" width=\"1.758\" height=\"0.192\" opacity=\"0.0\" fill=\"currentColor\" stroke-width=\"0.1\"/>\n",
       "<rect x=\"1.7578125\" y=\"-3.269230769230769\" width=\"2.148\" height=\"0.192\" opacity=\"0.0016710285911806825\" fill=\"currentColor\" stroke-width=\"0.1\"/>\n",
       "<rect x=\"3.90625\" y=\"-3.269230769230769\" width=\"1.562\" height=\"0.192\" opacity=\"0.0029576317218902772\" fill=\"currentColor\" stroke-width=\"0.1\"/>\n",
       "<rect x=\"5.46875\" y=\"-3.269230769230769\" width=\"244.531\" height=\"0.192\" opacity=\"2.9050748568721334e-05\" fill=\"currentColor\" stroke-width=\"0.1\"/>\n",
       "<rect x=\"0.0\" y=\"-3.4615384615384617\" width=\"1.758\" height=\"0.192\" opacity=\"0.0\" fill=\"currentColor\" stroke-width=\"0.1\"/>\n",
       "<rect x=\"1.7578125\" y=\"-3.4615384615384617\" width=\"2.148\" height=\"0.192\" opacity=\"0.0006577452965285664\" fill=\"currentColor\" stroke-width=\"0.1\"/>\n",
       "<rect x=\"3.90625\" y=\"-3.4615384615384617\" width=\"1.562\" height=\"0.192\" opacity=\"0.001833242802824552\" fill=\"currentColor\" stroke-width=\"0.1\"/>\n",
       "<rect x=\"5.46875\" y=\"-3.4615384615384617\" width=\"244.531\" height=\"0.192\" opacity=\"2.7957440826887733e-05\" fill=\"currentColor\" stroke-width=\"0.1\"/>\n",
       "<rect x=\"0.0\" y=\"-3.6538461538461537\" width=\"1.758\" height=\"0.192\" opacity=\"0.0\" fill=\"currentColor\" stroke-width=\"0.1\"/>\n",
       "<rect x=\"1.7578125\" y=\"-3.6538461538461537\" width=\"2.148\" height=\"0.192\" opacity=\"0.0002488765986864846\" fill=\"currentColor\" stroke-width=\"0.1\"/>\n",
       "<rect x=\"3.90625\" y=\"-3.6538461538461537\" width=\"1.562\" height=\"0.192\" opacity=\"0.0016376969038565997\" fill=\"currentColor\" stroke-width=\"0.1\"/>\n",
       "<rect x=\"5.46875\" y=\"-3.6538461538461537\" width=\"244.531\" height=\"0.192\" opacity=\"1.655580294776592e-05\" fill=\"currentColor\" stroke-width=\"0.1\"/>\n",
       "<rect x=\"0.0\" y=\"-3.8461538461538463\" width=\"1.758\" height=\"0.192\" opacity=\"0.0\" fill=\"currentColor\" stroke-width=\"0.1\"/>\n",
       "<rect x=\"1.7578125\" y=\"-3.8461538461538463\" width=\"2.148\" height=\"0.192\" opacity=\"3.5553799812354946e-05\" fill=\"currentColor\" stroke-width=\"0.1\"/>\n",
       "<rect x=\"3.90625\" y=\"-3.8461538461538463\" width=\"1.562\" height=\"0.192\" opacity=\"0.0009777294948397608\" fill=\"currentColor\" stroke-width=\"0.1\"/>\n",
       "<rect x=\"5.46875\" y=\"-3.8461538461538463\" width=\"244.531\" height=\"0.192\" opacity=\"1.655580294776592e-05\" fill=\"currentColor\" stroke-width=\"0.1\"/>\n",
       "<rect x=\"0.0\" y=\"-9.615384615384617\" width=\"1.758\" height=\"5.769\" opacity=\"0.0\" fill=\"currentColor\" stroke-width=\"0.1\"/>\n",
       "<rect x=\"1.7578125\" y=\"-9.615384615384617\" width=\"2.148\" height=\"5.769\" opacity=\"5.925633302059157e-07\" fill=\"currentColor\" stroke-width=\"0.1\"/>\n",
       "<rect x=\"3.90625\" y=\"-9.615384615384617\" width=\"1.562\" height=\"5.769\" opacity=\"2.1184139054861486e-05\" fill=\"currentColor\" stroke-width=\"0.1\"/>\n",
       "<rect x=\"5.46875\" y=\"-9.615384615384617\" width=\"244.531\" height=\"5.769\" opacity=\"1.931510343906024e-06\" fill=\"currentColor\" stroke-width=\"0.1\"/>\n",
       "<rect x=\"0.0\" y=\"-250.0\" width=\"1.758\" height=\"240.385\" opacity=\"0.0\" fill=\"currentColor\" stroke-width=\"0.1\"/>\n",
       "<rect x=\"1.7578125\" y=\"-250.0\" width=\"2.148\" height=\"240.385\" opacity=\"0.0\" fill=\"currentColor\" stroke-width=\"0.1\"/>\n",
       "<rect x=\"3.90625\" y=\"-250.0\" width=\"1.562\" height=\"240.385\" opacity=\"0.0\" fill=\"currentColor\" stroke-width=\"0.1\"/>\n",
       "<rect x=\"5.46875\" y=\"-250.0\" width=\"244.531\" height=\"240.385\" opacity=\"3.748483686286623e-10\" fill=\"currentColor\" stroke-width=\"0.1\"/>\n",
       "</svg>\n",
       "</div>\n",
       "<div style=\"flex=grow:1;\">\n",
       "Variable([200, 290, 400, 480, 13000], name='ptreco', label='$p_{T,RECO}$ (GeV)')<br/>\n",
       "Variable(array([0.0e+00, 2.5e+00, 5.0e+00, 7.5e+00, 1.0e+01, 1.5e+01, 2.0e+01,\n",
       "       3.0e+01, 4.0e+01, 5.0e+01, 6.0e+01, 7.0e+01, 8.0e+01, 9.0e+01,\n",
       "       1.0e+02, 1.1e+02, 1.2e+02, 1.3e+02, 1.4e+02, 1.5e+02, 1.6e+02,\n",
       "       1.7e+02, 1.8e+02, 1.9e+02, 2.0e+02, 5.0e+02, 1.3e+04]), name='mreco', label='$m_{RECO}$ (GeV)')<br/>\n",
       "<hr style=\"margin-top:.2em; margin-bottom:.2em;\"/>\n",
       "Double() Σ=256474.0 <em>(256485.0 with flow)</em>\n",
       "\n",
       "</div>\n",
       "</div>\n",
       "</html>"
      ],
      "text/plain": [
       "Hist(\n",
       "  Variable([200, 290, 400, 480, 13000], name='ptreco', label='$p_{T,RECO}$ (GeV)'),\n",
       "  Variable(array([0.0e+00, 2.5e+00, 5.0e+00, 7.5e+00, 1.0e+01, 1.5e+01, 2.0e+01,\n",
       "       3.0e+01, 4.0e+01, 5.0e+01, 6.0e+01, 7.0e+01, 8.0e+01, 9.0e+01,\n",
       "       1.0e+02, 1.1e+02, 1.2e+02, 1.3e+02, 1.4e+02, 1.5e+02, 1.6e+02,\n",
       "       1.7e+02, 1.8e+02, 1.9e+02, 2.0e+02, 5.0e+02, 1.3e+04]), name='mreco', label='$m_{RECO}$ (GeV)'),\n",
       "  storage=Double()) # Sum: 256474.0 (256485.0 with flow)"
      ]
     },
     "execution_count": 11,
     "metadata": {},
     "output_type": "execute_result"
    }
   ],
   "source": [
    "output1[\"jk_ptjet_mjet_u_reco\"][..., 4]"
   ]
  },
  {
   "cell_type": "code",
   "execution_count": 2,
   "id": "2f298866-6abe-48dd-8ebc-d8178905f85f",
   "metadata": {},
   "outputs": [
    {
     "ename": "FileNotFoundError",
     "evalue": "[Errno 2] No such file or directory: 'latest_pkl/data_2018_v2.pkl'",
     "output_type": "error",
     "traceback": [
      "\u001b[0;31m---------------------------------------------------------------------------\u001b[0m",
      "\u001b[0;31mFileNotFoundError\u001b[0m                         Traceback (most recent call last)",
      "Cell \u001b[0;32mIn[2], line 7\u001b[0m\n\u001b[1;32m      4\u001b[0m     output1 \u001b[38;5;241m=\u001b[39m pkl\u001b[38;5;241m.\u001b[39mload(f)\n\u001b[1;32m      6\u001b[0m filename \u001b[38;5;241m=\u001b[39m \u001b[38;5;124m'\u001b[39m\u001b[38;5;124mlatest_pkl/data_2018_v2.pkl\u001b[39m\u001b[38;5;124m'\u001b[39m\n\u001b[0;32m----> 7\u001b[0m \u001b[38;5;28;01mwith\u001b[39;00m \u001b[38;5;28;43mopen\u001b[39;49m\u001b[43m(\u001b[49m\u001b[43mfilename\u001b[49m\u001b[43m,\u001b[49m\u001b[43m \u001b[49m\u001b[38;5;124;43m'\u001b[39;49m\u001b[38;5;124;43mrb\u001b[39;49m\u001b[38;5;124;43m'\u001b[39;49m\u001b[43m)\u001b[49m \u001b[38;5;28;01mas\u001b[39;00m f:\n\u001b[1;32m      8\u001b[0m     output2 \u001b[38;5;241m=\u001b[39m pkl\u001b[38;5;241m.\u001b[39mload(f)\n\u001b[1;32m     10\u001b[0m filename \u001b[38;5;241m=\u001b[39m \u001b[38;5;124m'\u001b[39m\u001b[38;5;124mlatest_pkl/pythia_18_syst.pkl\u001b[39m\u001b[38;5;124m'\u001b[39m\n",
      "File \u001b[0;32m~/.local/share/pipx/venvs/jupyterlab/lib/python3.12/site-packages/IPython/core/interactiveshell.py:324\u001b[0m, in \u001b[0;36m_modified_open\u001b[0;34m(file, *args, **kwargs)\u001b[0m\n\u001b[1;32m    317\u001b[0m \u001b[38;5;28;01mif\u001b[39;00m file \u001b[38;5;129;01min\u001b[39;00m {\u001b[38;5;241m0\u001b[39m, \u001b[38;5;241m1\u001b[39m, \u001b[38;5;241m2\u001b[39m}:\n\u001b[1;32m    318\u001b[0m     \u001b[38;5;28;01mraise\u001b[39;00m \u001b[38;5;167;01mValueError\u001b[39;00m(\n\u001b[1;32m    319\u001b[0m         \u001b[38;5;124mf\u001b[39m\u001b[38;5;124m\"\u001b[39m\u001b[38;5;124mIPython won\u001b[39m\u001b[38;5;124m'\u001b[39m\u001b[38;5;124mt let you open fd=\u001b[39m\u001b[38;5;132;01m{\u001b[39;00mfile\u001b[38;5;132;01m}\u001b[39;00m\u001b[38;5;124m by default \u001b[39m\u001b[38;5;124m\"\u001b[39m\n\u001b[1;32m    320\u001b[0m         \u001b[38;5;124m\"\u001b[39m\u001b[38;5;124mas it is likely to crash IPython. If you know what you are doing, \u001b[39m\u001b[38;5;124m\"\u001b[39m\n\u001b[1;32m    321\u001b[0m         \u001b[38;5;124m\"\u001b[39m\u001b[38;5;124myou can use builtins\u001b[39m\u001b[38;5;124m'\u001b[39m\u001b[38;5;124m open.\u001b[39m\u001b[38;5;124m\"\u001b[39m\n\u001b[1;32m    322\u001b[0m     )\n\u001b[0;32m--> 324\u001b[0m \u001b[38;5;28;01mreturn\u001b[39;00m \u001b[43mio_open\u001b[49m\u001b[43m(\u001b[49m\u001b[43mfile\u001b[49m\u001b[43m,\u001b[49m\u001b[43m \u001b[49m\u001b[38;5;241;43m*\u001b[39;49m\u001b[43margs\u001b[49m\u001b[43m,\u001b[49m\u001b[43m \u001b[49m\u001b[38;5;241;43m*\u001b[39;49m\u001b[38;5;241;43m*\u001b[39;49m\u001b[43mkwargs\u001b[49m\u001b[43m)\u001b[49m\n",
      "\u001b[0;31mFileNotFoundError\u001b[0m: [Errno 2] No such file or directory: 'latest_pkl/data_2018_v2.pkl'"
     ]
    }
   ],
   "source": [
    "\n",
    "\n",
    "filename = 'latest_pkl/data_2018_v2.pkl'\n",
    "with open(filename, 'rb') as f:\n",
    "    output2 = pkl.load(f)\n",
    "\n",
    "filename = 'latest_pkl/pythia_18_syst.pkl'\n",
    "with open(filename, 'rb') as f:\n",
    "    output3 = pkl.load(f)"
   ]
  },
  {
   "cell_type": "code",
   "execution_count": 51,
   "id": "022f5ced-46b6-4556-9ac7-df72e690990e",
   "metadata": {},
   "outputs": [
    {
     "data": {
      "text/plain": [
       "[StairsArtists(stairs=<matplotlib.patches.StepPatch object at 0x7f20790775f0>, errorbar=<ErrorbarContainer object of 3 artists>, legend_artist=<ErrorbarContainer object of 3 artists>)]"
      ]
     },
     "execution_count": 51,
     "metadata": {},
     "output_type": "execute_result"
    },
    {
     "data": {
      "image/png": "[encoded data removed]",
      "text/plain": [
       "<Figure size 640x480 with 1 Axes>"
      ]
     },
     "metadata": {},
     "output_type": "display_data"
    }
   ],
   "source": [
    "output1['pt_z_reco'].project('pt')[hist.rebin(2)].plot(density = True)\n",
    "output2['pt_z_reco'].project('pt')[hist.rebin(2)].plot(density = True)\n",
    "output3['pt_z_reco'].project('pt')[hist.rebin(2)].plot(density = True)"
   ]
  },
  {
   "cell_type": "code",
   "execution_count": null,
   "id": "1a3fb346-5bcb-4097-8940-af8eeecae0c4",
   "metadata": {},
   "outputs": [],
   "source": [
    "xs_wz = 27.6\n",
    "xs_ww = 75.95\n",
    "xs_zz = 12.17"
   ]
  },
  {
   "cell_type": "code",
   "execution_count": null,
   "id": "63e639bd-cf1c-4a2d-99c1-66582a155677",
   "metadata": {},
   "outputs": [],
   "source": [
    "wz = (41480 * 27.6)/ 7789250.0\n",
    "ww = (41480 * 75.95\t)/ 15154000.0\n",
    "zz = (41480* 12.17 )/ 2022000.0"
   ]
  }
 ],
 "metadata": {
  "kernelspec": {
   "display_name": "Python 3 (ipykernel)",
   "language": "python",
   "name": "python3"
  },
  "language_info": {
   "codemirror_mode": {
    "name": "ipython",
    "version": 3
   },
   "file_extension": ".py",
   "mimetype": "text/x-python",
   "name": "python",
   "nbconvert_exporter": "python",
   "pygments_lexer": "ipython3",
   "version": "3.12.3"
  }
 },
 "nbformat": 4,
 "nbformat_minor": 5
}
